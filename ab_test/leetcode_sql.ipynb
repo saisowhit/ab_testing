{
 "cells": [
  {
   "cell_type": "code",
   "execution_count": null,
   "metadata": {},
   "outputs": [],
   "source": [
    "import pandas as pd\n",
    "import datetime\n",
    "from datetime import date\n",
    "import numpy as np\n",
    "import collections\n",
    "from collections import Counter\n"
   ]
  },
  {
   "cell_type": "code",
   "execution_count": null,
   "metadata": {},
   "outputs": [],
   "source": [
    "import pyspark\n",
    "from pyspark.sql.functions import *\n",
    "from pyspark.sql.types import *\n",
    "from pyspark.sql.window import Window"
   ]
  },
  {
   "cell_type": "code",
   "execution_count": null,
   "metadata": {},
   "outputs": [],
   "source": [
    "## first year of every product sold"
   ]
  },
  {
   "cell_type": "code",
   "execution_count": null,
   "metadata": {},
   "outputs": [],
   "source": [
    "SELECT product_id, year, quantity, price \n",
    "FROM Sales \n",
    "WHERE (product_id, year) IN (\n",
    "    SELECT product_id, MIN(year) \n",
    "    FROM Sales \n",
    "    GROUP BY product_id\n",
    ");\n"
   ]
  },
  {
   "cell_type": "code",
   "execution_count": null,
   "metadata": {},
   "outputs": [],
   "source": [
    "df=sales.groupby('product_id')['year'].min().reset_index(name=\"min_year\")\n",
    "df_1=pd.merge(df,sales,right_on=[\"product_id\",\"year\"])\n",
    "df_1[['product_year'].isin(df['min_year'])]"
   ]
  },
  {
   "cell_type": "code",
   "execution_count": null,
   "metadata": {},
   "outputs": [],
   "source": []
  },
  {
   "cell_type": "code",
   "execution_count": null,
   "metadata": {},
   "outputs": [],
   "source": [
    "# Big Countries"
   ]
  },
  {
   "cell_type": "code",
   "execution_count": null,
   "metadata": {},
   "outputs": [],
   "source": [
    "SELECT\n",
    "    name, population, area\n",
    "FROM\n",
    "    world\n",
    "WHERE\n",
    "    area > 3000000 OR population > 25000000\n",
    ";"
   ]
  },
  {
   "cell_type": "code",
   "execution_count": null,
   "metadata": {},
   "outputs": [],
   "source": [
    "world[world['area']>3000000)&(world['population']<25000000)][['name','population','area']]"
   ]
  },
  {
   "cell_type": "code",
   "execution_count": null,
   "metadata": {},
   "outputs": [],
   "source": [
    "world.filter((col(\"area\")>3000000)&(col('area')>5000000)).select(\"name\",\"population\",\"area\").show()"
   ]
  },
  {
   "cell_type": "code",
   "execution_count": null,
   "metadata": {},
   "outputs": [],
   "source": [
    "# 2023-09-18-2853-Highest-Salaries-Difference ## check"
   ]
  },
  {
   "cell_type": "code",
   "execution_count": null,
   "metadata": {},
   "outputs": [],
   "source": [
    "select max(s)-min(s)from(select max(salary) as s from salaries group by department) as t;"
   ]
  },
  {
   "cell_type": "code",
   "execution_count": null,
   "metadata": {},
   "outputs": [],
   "source": [
    "df=salaries.copy()\n",
    "df['salary']=df.groupby('department')['salary'].max()\n",
    "df['difference']=df['salary'].max()-df['salary'].min()"
   ]
  },
  {
   "cell_type": "code",
   "execution_count": null,
   "metadata": {},
   "outputs": [],
   "source": [
    "df.groupby(\"department\").agg(sum('salaries').alias(\"max_salary\"))\n",
    "\n",
    "df.select(max(salaries)-min(salaries    ).alias(\"salaries difference\"))"
   ]
  },
  {
   "cell_type": "code",
   "execution_count": null,
   "metadata": {},
   "outputs": [],
   "source": [
    "# Active Businesses\n"
   ]
  },
  {
   "cell_type": "code",
   "execution_count": null,
   "metadata": {},
   "outputs": [],
   "source": [
    "    "
   ]
  },
  {
   "cell_type": "code",
   "execution_count": null,
   "metadata": {},
   "outputs": [],
   "source": []
  },
  {
   "cell_type": "code",
   "execution_count": null,
   "metadata": {},
   "outputs": [],
   "source": []
  },
  {
   "cell_type": "code",
   "execution_count": null,
   "metadata": {},
   "outputs": [],
   "source": [
    "# Find Cumulative Salary of an Employee\n"
   ]
  },
  {
   "cell_type": "code",
   "execution_count": null,
   "metadata": {},
   "outputs": [],
   "source": []
  },
  {
   "cell_type": "code",
   "execution_count": null,
   "metadata": {},
   "outputs": [],
   "source": []
  },
  {
   "cell_type": "code",
   "execution_count": null,
   "metadata": {},
   "outputs": [],
   "source": []
  },
  {
   "cell_type": "code",
   "execution_count": null,
   "metadata": {},
   "outputs": [],
   "source": [
    "# Employees With Deductions"
   ]
  },
  {
   "cell_type": "code",
   "execution_count": null,
   "metadata": {},
   "outputs": [],
   "source": []
  },
  {
   "cell_type": "code",
   "execution_count": null,
   "metadata": {},
   "outputs": [],
   "source": []
  },
  {
   "cell_type": "code",
   "execution_count": null,
   "metadata": {},
   "outputs": [],
   "source": []
  },
  {
   "cell_type": "code",
   "execution_count": null,
   "metadata": {},
   "outputs": [],
   "source": [
    "# Find Cities in Each State II\n"
   ]
  },
  {
   "cell_type": "code",
   "execution_count": null,
   "metadata": {},
   "outputs": [],
   "source": []
  },
  {
   "cell_type": "code",
   "execution_count": null,
   "metadata": {},
   "outputs": [],
   "source": []
  },
  {
   "cell_type": "code",
   "execution_count": null,
   "metadata": {},
   "outputs": [],
   "source": []
  },
  {
   "cell_type": "code",
   "execution_count": null,
   "metadata": {},
   "outputs": [],
   "source": [
    "#  Report Contiguous Dates\n"
   ]
  },
  {
   "cell_type": "code",
   "execution_count": null,
   "metadata": {},
   "outputs": [],
   "source": [
    "SELECT \"failed\" AS statues, fail_date AS date_list\n",
    "FROM failed\n",
    "WHERE fail_date BETWEEN \"2019-01-01\" AND \"2019-12-31\"\n",
    "UNION ALL\n",
    "SELECT \"succeeded\" AS statues, success_date\n",
    "FROM Succeeded\n",
    "WHERE success_date BETWEEN \"2019-01-01\" AND \"2019-12-31\"\n",
    "ORDER BY date_list\n"
   ]
  },
  {
   "cell_type": "code",
   "execution_count": null,
   "metadata": {},
   "outputs": [],
   "source": []
  },
  {
   "cell_type": "code",
   "execution_count": null,
   "metadata": {},
   "outputs": [],
   "source": []
  },
  {
   "cell_type": "code",
   "execution_count": null,
   "metadata": {},
   "outputs": [],
   "source": [
    "# Market Analysis I"
   ]
  },
  {
   "cell_type": "code",
   "execution_count": null,
   "metadata": {},
   "outputs": [],
   "source": [
    "select user_id as buyer_id, join_date, isnull(orders_in_2019, 0) as orders_in_2019\n",
    "from users \n",
    "left join ( select buyer_id, count(order_id) as orders_in_2019 \n",
    "            from orders\n",
    "            where year(order_date) = 2019\n",
    "            group by buyer_id ) A\n",
    "on users.user_id = A.buyer_id\n"
   ]
  },
  {
   "cell_type": "code",
   "execution_count": null,
   "metadata": {},
   "outputs": [],
   "source": [
    "df=orders.groupby('buyer_id').agg(count(col('order_id').alias(\"orders_in_2019\")))\n",
    "df=pd.merge(users,df,right_on=\"user_id\",right_on=\"buyer_id\",how=\";eft\")\n",
    "df=df[df['year'].dt.year==2019]\n",
    "df=df[df['orders_in_2091']].fillna(0)\n",
    "df[df['user_id','join_date','orders_in_2019']]"
   ]
  },
  {
   "cell_type": "code",
   "execution_count": null,
   "metadata": {},
   "outputs": [],
   "source": [
    "# Market Analysis II"
   ]
  },
  {
   "cell_type": "code",
   "execution_count": null,
   "metadata": {},
   "outputs": [],
   "source": []
  },
  {
   "cell_type": "code",
   "execution_count": null,
   "metadata": {},
   "outputs": [],
   "source": []
  },
  {
   "cell_type": "code",
   "execution_count": null,
   "metadata": {},
   "outputs": [],
   "source": []
  },
  {
   "cell_type": "code",
   "execution_count": null,
   "metadata": {},
   "outputs": [],
   "source": [
    "# Highest Grade For Each Student"
   ]
  },
  {
   "cell_type": "code",
   "execution_count": null,
   "metadata": {},
   "outputs": [],
   "source": [
    "with temp as(select *,rank() over(partition by student_id order by course_id) as rl\n",
    "             from enrollments)\n",
    "    select student_id,course_id,grade\n",
    "    from temp\n",
    "    where rank=1\n",
    "    order by student_id"
   ]
  },
  {
   "cell_type": "code",
   "execution_count": null,
   "metadata": {},
   "outputs": [],
   "source": [
    "select student_id, min(course_id) as course_id, grade\n",
    "from Enrollments\n",
    "where (student_id, grade) in \n",
    "    (select student_id, max(grade)\n",
    "    from Enrollments\n",
    "    group by student_id)\n",
    "group by student_id\n",
    "order by student_id asc"
   ]
  },
  {
   "cell_type": "code",
   "execution_count": null,
   "metadata": {},
   "outputs": [],
   "source": [
    "df['rank']=enrollments.groupby(\"student_id\")[\"grade\"].rank(ascending=False)\n",
    "df=df[df['rank']==1]\n",
    "df.sort_values(by=['student_id'],ascdnding=True)\n"
   ]
  },
  {
   "cell_type": "code",
   "execution_count": null,
   "metadata": {},
   "outputs": [],
   "source": []
  },
  {
   "cell_type": "code",
   "execution_count": null,
   "metadata": {},
   "outputs": [],
   "source": [
    "# Reported Posts\n"
   ]
  },
  {
   "cell_type": "code",
   "execution_count": null,
   "metadata": {},
   "outputs": [],
   "source": [
    "select \n",
    "  extra as report_reason\n",
    "  ,count(distinct post_id) as report_count\n",
    "from Actions\n",
    "where action_date = '2019-07-04'\n",
    "  and action = 'report'\n",
    "group by extra;"
   ]
  },
  {
   "cell_type": "code",
   "execution_count": null,
   "metadata": {},
   "outputs": [],
   "source": [
    "actions[(actions['action']=='report')&(actions['action_date']=='2019-07-04')].groupby(\"extra\").size().reset_index(bane=\"report_count\").reset_index()\n"
   ]
  },
  {
   "cell_type": "code",
   "execution_count": null,
   "metadata": {},
   "outputs": [],
   "source": [
    "actions.filter((col('action')=='report')&(col('action_date')=='2019-07-04')).groupby(\"extra\").agg(count(col(\"*\")).alias(\"report_count\")).show()"
   ]
  },
  {
   "cell_type": "code",
   "execution_count": null,
   "metadata": {},
   "outputs": [],
   "source": [
    "#  Reported Posts II\n",
    "# # "
   ]
  },
  {
   "cell_type": "code",
   "execution_count": null,
   "metadata": {},
   "outputs": [],
   "source": []
  },
  {
   "cell_type": "code",
   "execution_count": null,
   "metadata": {},
   "outputs": [],
   "source": []
  },
  {
   "cell_type": "code",
   "execution_count": null,
   "metadata": {},
   "outputs": [],
   "source": []
  },
  {
   "cell_type": "code",
   "execution_count": null,
   "metadata": {},
   "outputs": [],
   "source": [
    "# Social Media and Posts/# 1141. User Activity for the Past 30 Days I.sql"
   ]
  },
  {
   "cell_type": "code",
   "execution_count": null,
   "metadata": {},
   "outputs": [],
   "source": [
    "SELECT activity_date AS day, COUNT(DISTINCT user_id) AS active_users \n",
    "FROM Activity\n",
    "WHERE activity_date>DATE(\"2019-07-27\")-INTERVAL 30 DAYS\n",
    "GROUP BY activity_date"
   ]
  },
  {
   "cell_type": "code",
   "execution_count": null,
   "metadata": {},
   "outputs": [],
   "source": [
    "select activity_date,count(distinct user_id) as user_id\n",
    "from activity\n",
    "where datediff(\"2019-07-27\",activity_date)<30\n",
    "order by activity_date"
   ]
  },
  {
   "cell_type": "code",
   "execution_count": null,
   "metadata": {},
   "outputs": [],
   "source": [
    "df=activity.copy()\n",
    "df['difference']=df['activity_date']-pd.to_datetime(\"2019-07-27\")\n",
    "df.groupby('activity_date').nunique().reset-index()"
   ]
  },
  {
   "cell_type": "code",
   "execution_count": null,
   "metadata": {},
   "outputs": [],
   "source": [
    "df = df.withColumn(\"activity_date\", F.to_date(\"activity_date\", \"yyyy-MM-dd\"))\n",
    "\n",
    "# Calculate the date difference\n",
    "end_date = F.lit(\"2019-07-27\")\n",
    "df = df.withColumn(\"date_diff\", F.datediff(end_date, \"activity_date\"))\n",
    "\n",
    "# Filter data within the last 30 days\n",
    "df = df.filter(F.col(\"date_diff\") < 30)\n",
    "\n",
    "# Group by activity_date and count distinct users\n",
    "result_df = df.groupBy(\"activity_date\").agg(F.countDistinct(\"user_id\").alias(\"active_users\"))\n",
    "\n",
    "# Show the results\n",
    "result_df.show()"
   ]
  },
  {
   "cell_type": "code",
   "execution_count": null,
   "metadata": {},
   "outputs": [],
   "source": [
    "# 1667. Fix Names in a Table "
   ]
  },
  {
   "cell_type": "code",
   "execution_count": null,
   "metadata": {},
   "outputs": [],
   "source": [
    "SELECT\n",
    "  user_id,\n",
    "  CONCAT(\n",
    "    UPPER(SUBSTRING(name, 1, 1)),\n",
    "    LOWER(SUBSTRING(name, 2))\n",
    "  ) AS name\n",
    "FROM Users\n",
    "ORDER BY 1;"
   ]
  },
  {
   "cell_type": "code",
   "execution_count": null,
   "metadata": {},
   "outputs": [],
   "source": [
    "df['name']=df['name'].str.title().sort_values(by=[\"user_id\"])\n",
    "\n",
    "df[['user_id','name']]"
   ]
  },
  {
   "cell_type": "code",
   "execution_count": null,
   "metadata": {},
   "outputs": [],
   "source": [
    "Users.withColum(\"Name\",initcap(\"name\"))\n",
    "users.select(\"name\",\"user_id\").sort(asc(\"user_id\"))"
   ]
  },
  {
   "cell_type": "code",
   "execution_count": null,
   "metadata": {},
   "outputs": [],
   "source": [
    "# 37-01978-employees-whose-manager-left-the-company.sql"
   ]
  },
  {
   "cell_type": "code",
   "execution_count": null,
   "metadata": {},
   "outputs": [],
   "source": [
    "select m.employee_id\n",
    "from Employees m\n",
    "left join Employees e\n",
    "on m.manager_id = e.employee_id \n",
    "where e.employee_id is null and m.manager_id is not null and m.salary < 30000\n",
    "order by m.employee_id"
   ]
  },
  {
   "cell_type": "code",
   "execution_count": null,
   "metadata": {},
   "outputs": [],
   "source": [
    "df=pd.merge(employees,employees,right_on=[\"manager_id\"],left_on=[\"employee_id\"],how=\"left\")\n",
    "df1=df[(df['employee_id'].notnull())&(df['manager_id'].notnull)&(df['salary']<30000)]\n",
    "df.sort_values(by=['employee_id'])"
   ]
  },
  {
   "cell_type": "code",
   "execution_count": null,
   "metadata": {},
   "outputs": [],
   "source": [
    "df=employee.alias(\"e1\").join(employees.alias(\"e2\"),e1.manager_id==e2.manager_id)\n",
    "df.filter((col('employee_id').isNotNull())&(col('manager_id').isNotNull())&(col('salary')<30000)).sort(asc(\"employee_id\")).show()"
   ]
  },
  {
   "cell_type": "code",
   "execution_count": null,
   "metadata": {},
   "outputs": [],
   "source": [
    "# Customers Who Never Order.md"
   ]
  },
  {
   "cell_type": "code",
   "execution_count": null,
   "metadata": {},
   "outputs": [],
   "source": [
    "SELECT c.Name as Customers\n",
    "FROM Customers c\n",
    "WHERE c.id not in (\n",
    "SELECT o.CustomerId FROM Orders o\n",
    ");"
   ]
  },
  {
   "cell_type": "code",
   "execution_count": null,
   "metadata": {},
   "outputs": [],
   "source": [
    "df=pd.merge(customers,orders,right_on=[\"id\"],left_on=[\"id\"])\n",
    "df['name']"
   ]
  },
  {
   "cell_type": "code",
   "execution_count": null,
   "metadata": {},
   "outputs": [],
   "source": [
    "df=customers.join(orders,customer.id==orders.id,how=\"inner\")\n",
    "df.select(\"name\")"
   ]
  },
  {
   "cell_type": "code",
   "execution_count": null,
   "metadata": {},
   "outputs": [],
   "source": [
    "# actors-and-directors-who-cooperated-at-least-three-times"
   ]
  },
  {
   "cell_type": "code",
   "execution_count": null,
   "metadata": {},
   "outputs": [],
   "source": [
    "SELECT actor_id, director_id\n",
    "FROM ActorDirector\n",
    "GROUP BY actor_id, director_id\n",
    "HAVING COUNT(1) >= 3\n",
    "ORDER BY NULL"
   ]
  },
  {
   "cell_type": "code",
   "execution_count": null,
   "metadata": {},
   "outputs": [],
   "source": [
    "ActorDirector.groupby([\"actor_id\",\"director_id\"]).apply(lambda x:len(x)>=3).sort_values(na_position=\"last\")"
   ]
  },
  {
   "cell_type": "code",
   "execution_count": null,
   "metadata": {},
   "outputs": [],
   "source": [
    "ActorDirector.groupby(\"actor_id\",\"director_id\").agg(count(col(\"*\")).alias(\"total_cost\")).asc_null_first().show()"
   ]
  },
  {
   "cell_type": "code",
   "execution_count": null,
   "metadata": {},
   "outputs": [],
   "source": [
    "# Highest Salaries Difference\n"
   ]
  },
  {
   "cell_type": "code",
   "execution_count": null,
   "metadata": {},
   "outputs": [],
   "source": [
    "SELECT max(s) - min(s) AS salary_difference\n",
    "FROM\n",
    "    (\n",
    "        SELECT max(salary) AS s\n",
    "        FROM Salaries\n",
    "        GROUP BY department\n",
    "    ) AS t;\n"
   ]
  },
  {
   "cell_type": "code",
   "execution_count": null,
   "metadata": {},
   "outputs": [],
   "source": [
    "df=salaries.groupby(\"department\")[\"salary\"].max()\n",
    "df[\"salary_difference\"]=df['salary'].max()-df['salary'].min"
   ]
  },
  {
   "cell_type": "code",
   "execution_count": null,
   "metadata": {},
   "outputs": [],
   "source": [
    "df=salaries.groupby(\"department\").agg(max(\"salary\")).show()\n",
    "df.filter(col(max(\"salary\"))-col(min(\"salary\")))"
   ]
  },
  {
   "cell_type": "code",
   "execution_count": null,
   "metadata": {},
   "outputs": [],
   "source": [
    "# Get the Second Most Recent Activity\n",
    "# # "
   ]
  },
  {
   "cell_type": "code",
   "execution_count": null,
   "metadata": {},
   "outputs": [],
   "source": [
    "SELECT username, activity, startDate, endDate\n",
    "FROM (\n",
    "    SELECT \n",
    "        username, activity, startDate, endDate,\n",
    "        RANK() OVER (PARTITION BY username ORDER BY endDate DESC) AS rank_num\n",
    "    FROM UserActivity\n",
    ") AS RankedActivity\n",
    "WHERE rank_num = 2\n",
    "ORDER BY username, endDate;"
   ]
  },
  {
   "cell_type": "code",
   "execution_count": null,
   "metadata": {},
   "outputs": [],
   "source": [
    "df[\"rank\"]=UserActivity.groupby('username')['endDate'].rank(method=\"dense\",asending=False)\n",
    "df[df[\"rank\"]==2][[\"username\",\"activity\",\"startDate\",\"endDate\"]]\n",
    "df.sort_values(by=[\"username\",\"endDATE\"])"
   ]
  },
  {
   "cell_type": "code",
   "execution_count": null,
   "metadata": {},
   "outputs": [],
   "source": [
    "Window=Window.partitionBy('username').orderBy(desc(\"endDate\"))\n",
    "UserActivity.withColumn(\"rank_num\",rank().over(Window))\n",
    "df.filter(col(\"rank_num\")==2).select(\"username\",\"activity\",\"startDate\",\"endDate\").show()"
   ]
  },
  {
   "cell_type": "code",
   "execution_count": null,
   "metadata": {},
   "outputs": [],
   "source": [
    "# Article Views I\n"
   ]
  },
  {
   "cell_type": "code",
   "execution_count": null,
   "metadata": {},
   "outputs": [],
   "source": [
    "select author_id as id\n",
    "from Views\n",
    "where author_id = viewer_id\n",
    "group by author_id\n",
    "order by author_id asc"
   ]
  },
  {
   "cell_type": "code",
   "execution_count": null,
   "metadata": {},
   "outputs": [],
   "source": [
    "df=views[views['author_id']==views['viewer_id']]\n",
    "df.groupby('author_id').sort_values(by=['author_id'],ascending=False)['author_id']"
   ]
  },
  {
   "cell_type": "code",
   "execution_count": null,
   "metadata": {},
   "outputs": [],
   "source": [
    "df_1=df.where(col(\"author_id\")==col(\"viewer_id\")).show()\n",
    "df_1.groupby('author_id').sort(asc(\"author_id\")).select(col(\"author_id\")).show()"
   ]
  },
  {
   "cell_type": "code",
   "execution_count": null,
   "metadata": {},
   "outputs": [],
   "source": [
    "# Second Degree Follower"
   ]
  },
  {
   "cell_type": "code",
   "execution_count": null,
   "metadata": {},
   "outputs": [],
   "source": [
    "SELECT f1.follower, COUNT(DISTINCT f2.follower) AS num FROM\n",
    "follow AS f1 JOIN follow AS f2 ON f1.follower = f2.followee\n",
    "GROUP BY f1.follower ORDER BY f1.follower;"
   ]
  },
  {
   "cell_type": "code",
   "execution_count": null,
   "metadata": {},
   "outputs": [],
   "source": [
    "df=pd.merge(follow,follow,right_on=[\"follower\"],left_on=[\"follower\"])\n",
    "df.groupby(\"follower\").nunique().sort_values(\"follower\").reset_index()"
   ]
  },
  {
   "cell_type": "code",
   "execution_count": null,
   "metadata": {},
   "outputs": [],
   "source": [
    "df=follower.join(follow,follow.follow==follower,follow=follower,how=\"left\")\n",
    "df.groupby(\"follower\").agg(countDistinct(col(\"*\"))).sort(desc(\"follower\")).show()"
   ]
  },
  {
   "cell_type": "code",
   "execution_count": null,
   "metadata": {},
   "outputs": [],
   "source": [
    "# Bank Account Summary II"
   ]
  },
  {
   "cell_type": "code",
   "execution_count": null,
   "metadata": {},
   "outputs": [],
   "source": [
    "SELECT u.name AS NAME,SUM(t.amount) AS BALANCE\n",
    "FROM Transactions t LEFT JOIN Users u\n",
    "ON u.account = t.account\n",
    "GROUP BY u.account \n",
    "# Aggregate function can go directly after HAVING\n",
    "HAVING SUM(t.amount)>10000;"
   ]
  },
  {
   "cell_type": "code",
   "execution_count": null,
   "metadata": {},
   "outputs": [],
   "source": [
    "df=pd.merge(transactions,user,right_on=[\"account\"],left_on=[\"account\"],how=\"left\")\n",
    "df.groupby(\"account\").apply(lambda x:x['amount'].sum()>10000).reset_index(name=\"balance\")"
   ]
  },
  {
   "cell_type": "code",
   "execution_count": null,
   "metadata": {},
   "outputs": [],
   "source": [
    "df=transactions.joun(users,transactions.user_id==users.account,how=\"left\")\n",
    "df.groupby(\"account\").agg(sum(\"amount\").alias(\"balance\")).filter(col(\"balance\")>10000).show()"
   ]
  },
  {
   "cell_type": "code",
   "execution_count": null,
   "metadata": {},
   "outputs": [],
   "source": [
    "##Swap Salary."
   ]
  },
  {
   "cell_type": "code",
   "execution_count": null,
   "metadata": {},
   "outputs": [],
   "source": [
    "update salary set sex=case when 'm' then 'f' else 'm'\n",
    "end;"
   ]
  },
  {
   "cell_type": "code",
   "execution_count": null,
   "metadata": {},
   "outputs": [],
   "source": [
    "import pandas as pd\n",
    "def new_column(gender):\n",
    "    match gender:\n",
    "        case _ if gender=='f':\n",
    "            return 'm'\n",
    "        case _ if gender=='m':\n",
    "            return 'f'\n",
    "        case _:\n",
    "            return 'unknown'\n",
    "salary['gender'] = pd_df['gender'].apply( new_column)"
   ]
  },
  {
   "cell_type": "code",
   "execution_count": null,
   "metadata": {},
   "outputs": [],
   "source": [
    "import pyspark\n",
    "from pyspark.sql.functions import expr\n",
    "salary.withcolumn(\"new_column\",expr(\"Case when 'm' then 'f' else 'm' end\")).show()"
   ]
  },
  {
   "cell_type": "code",
   "execution_count": null,
   "metadata": {},
   "outputs": [],
   "source": [
    "# -Tasks-Count-in-the-Weekend"
   ]
  },
  {
   "cell_type": "code",
   "execution_count": null,
   "metadata": {},
   "outputs": [],
   "source": [
    "SELECT\n",
    "    sum(weekday(submit_date) IN (5, 6)) AS weekend_cnt,\n",
    "    sum(weekday(submit_date) NOT IN (5, 6)) AS working_cnt\n",
    "FROM Tasks;"
   ]
  },
  {
   "cell_type": "code",
   "execution_count": null,
   "metadata": {},
   "outputs": [],
   "source": [
    "    tasks['weekend_cnt']=tasks['weekend_cnt'].day\n",
    "    tasks['weekend_cnt']= np.where(tasks['weekend_cnt'].between(5, 6, inclusive='neither'), 'weekend_cnt')\n",
    "    tasks['working_cnt']= np.where(~tasks['weekend_cnt'].between(5, 6, inclusive='neither'), 'working_cnt')\n",
    "    tasks.agg({'weekend_cnt':'sum','working_cnt':'sum'})"
   ]
  },
  {
   "cell_type": "code",
   "execution_count": null,
   "metadata": {},
   "outputs": [],
   "source": [
    "def classify_and_sum(df):\n",
    "    df = df.withColumn(\"day_of_week\", F.dayofweek(\"weekend_cnt\")) \n",
    "    df = df.withColumn(\n",
    "        \"weekend_cnt_flag\", \n",
    "        F.when(\n",
    "            F.col(\"day_of_week\").isin(6, 7),  # Assuming Saturday and Sunday are 6 and 7\n",
    "            \"weekend_cnt\"\n",
    "        ).otherwise(\"working_cnt\"))\n",
    "\n",
    "df.agg({'weekend_cnt':'sum','working_cnt':'sum'})"
   ]
  },
  {
   "cell_type": "code",
   "execution_count": null,
   "metadata": {},
   "outputs": [],
   "source": [
    "# MySQL/unpopular-books.sql"
   ]
  },
  {
   "cell_type": "code",
   "execution_count": null,
   "metadata": {},
   "outputs": [],
   "source": [
    "SELECT b.book_id, \n",
    "       b.NAME \n",
    "FROM   books AS b \n",
    "       LEFT JOIN orders AS o \n",
    "              ON b.book_id = o.book_id \n",
    "                 AND dispatch_date BETWEEN '2018-06-23' AND '2019-6-23' \n",
    "WHERE  Datediff('2019-06-23', b.available_from) > 30 \n",
    "GROUP BY book_id,b.book_name\n",
    "HAVING Sum(IFNULL(o.quantity, 0)) < 10 ORDER  BY NULL "
   ]
  },
  {
   "cell_type": "code",
   "execution_count": null,
   "metadata": {},
   "outputs": [],
   "source": [
    "df=pd.merge(orders,books,right_on=[\"book_id\"],left_on=[\"book_id\"],how=\"left\")\n",
    "df['dispatch_date']=df[(df['dispatch_date']>='2018-06-23')&(df['dispatch_date']<='2019-06-23')]\n",
    "df['date_diff']=(pd.to_datetime('2019-06-23') - b['available_from']).dt.days\n",
    "df=df[df['date_diff']>30]\n",
    "df.groupby(['book_id','book_name']).filter(lambda x:x['quantity'].fillna(0).sum()<10).sort_values(na_positio=True).reset_index()\n"
   ]
  },
  {
   "cell_type": "code",
   "execution_count": null,
   "metadata": {},
   "outputs": [],
   "source": [
    "df=orders.join(books,order.book_id==books.book_id,how=\"left\")\n",
    "df.filter(col(\"dispatch_date\")>='2018-06-23')&(col('dispatch_date')<='2019-06-23').alias(\"dispatch_date\")).show\n"
   ]
  },
  {
   "cell_type": "code",
   "execution_count": null,
   "metadata": {},
   "outputs": [],
   "source": [
    "#  Monthly Transactions I\n"
   ]
  },
  {
   "cell_type": "code",
   "execution_count": null,
   "metadata": {},
   "outputs": [],
   "source": [
    "SELECT Date_format(trans_date, '%Y-%m')       AS month, \n",
    "       country, \n",
    "       Count(id)                              AS trans_count, \n",
    "       Count(IF(state = 'approved', 1, NULL)) AS approved_count, \n",
    "       SUM(amount)                            AS trans_total_amount, \n",
    "       SUM(IF(state = 'approved', amount, 0)) AS approved_total_amount \n",
    "FROM   transactions \n",
    "GROUP  BY Date_format(trans_date, '%Y-%m'), \n",
    "          country \n",
    "ORDER BY NULL"
   ]
  },
  {
   "cell_type": "code",
   "execution_count": null,
   "metadata": {},
   "outputs": [],
   "source": []
  },
  {
   "cell_type": "code",
   "execution_count": null,
   "metadata": {},
   "outputs": [],
   "source": []
  },
  {
   "cell_type": "code",
   "execution_count": null,
   "metadata": {},
   "outputs": [],
   "source": [
    "# Popularity Percentage\n"
   ]
  },
  {
   "cell_type": "code",
   "execution_count": null,
   "metadata": {},
   "outputs": [],
   "source": []
  },
  {
   "cell_type": "code",
   "execution_count": null,
   "metadata": {},
   "outputs": [],
   "source": []
  },
  {
   "cell_type": "code",
   "execution_count": null,
   "metadata": {},
   "outputs": [],
   "source": []
  },
  {
   "cell_type": "code",
   "execution_count": null,
   "metadata": {},
   "outputs": [],
   "source": [
    "# Median Employee Salary\n"
   ]
  },
  {
   "cell_type": "code",
   "execution_count": null,
   "metadata": {},
   "outputs": [],
   "source": []
  },
  {
   "cell_type": "code",
   "execution_count": null,
   "metadata": {},
   "outputs": [],
   "source": []
  },
  {
   "cell_type": "code",
   "execution_count": null,
   "metadata": {},
   "outputs": [],
   "source": []
  },
  {
   "cell_type": "code",
   "execution_count": null,
   "metadata": {},
   "outputs": [],
   "source": [
    "#  Calculate Compressed Mean\n"
   ]
  },
  {
   "cell_type": "code",
   "execution_count": null,
   "metadata": {},
   "outputs": [],
   "source": [
    "SELECT\n",
    "    ROUND(\n",
    "        SUM(item_count * order_occurrences) / SUM(order_occurrences),\n",
    "        2\n",
    "    ) AS average_items_per_order\n",
    "FROM Orders;"
   ]
  },
  {
   "cell_type": "code",
   "execution_count": null,
   "metadata": {},
   "outputs": [],
   "source": [
    "orders['rate']=orders['item_count']*orders['order_occurences']\n",
    "orders['average']=orders['rate'].sum()/orders['order_occurences'].sum().round(decimals=2)"
   ]
  },
  {
   "cell_type": "code",
   "execution_count": null,
   "metadata": {},
   "outputs": [],
   "source": [
    "orders.withColum(\"average\",col(\"item_count\")*col(\"order_occurences\"))\n",
    "orders.filter(round(col(\"average\")/sum(\"order_occurence\"),2)).show()"
   ]
  },
  {
   "cell_type": "code",
   "execution_count": null,
   "metadata": {},
   "outputs": [],
   "source": [
    "# count-occurrences"
   ]
  },
  {
   "cell_type": "code",
   "execution_count": null,
   "metadata": {},
   "outputs": [],
   "source": []
  },
  {
   "cell_type": "code",
   "execution_count": null,
   "metadata": {},
   "outputs": [],
   "source": [
    "# Market Analysis III"
   ]
  },
  {
   "cell_type": "code",
   "execution_count": null,
   "metadata": {},
   "outputs": [],
   "source": []
  },
  {
   "cell_type": "code",
   "execution_count": null,
   "metadata": {},
   "outputs": [],
   "source": []
  },
  {
   "cell_type": "code",
   "execution_count": null,
   "metadata": {},
   "outputs": [],
   "source": []
  },
  {
   "cell_type": "code",
   "execution_count": null,
   "metadata": {},
   "outputs": [],
   "source": [
    "#  Product Sales Analysis III"
   ]
  },
  {
   "cell_type": "code",
   "execution_count": null,
   "metadata": {},
   "outputs": [],
   "source": []
  },
  {
   "cell_type": "code",
   "execution_count": null,
   "metadata": {},
   "outputs": [],
   "source": []
  },
  {
   "cell_type": "code",
   "execution_count": null,
   "metadata": {},
   "outputs": [],
   "source": []
  },
  {
   "cell_type": "code",
   "execution_count": null,
   "metadata": {},
   "outputs": [],
   "source": [
    "# Students and Examinations\n"
   ]
  },
  {
   "cell_type": "code",
   "execution_count": null,
   "metadata": {},
   "outputs": [],
   "source": []
  },
  {
   "cell_type": "code",
   "execution_count": null,
   "metadata": {},
   "outputs": [],
   "source": []
  },
  {
   "cell_type": "code",
   "execution_count": null,
   "metadata": {},
   "outputs": [],
   "source": []
  },
  {
   "cell_type": "code",
   "execution_count": null,
   "metadata": {},
   "outputs": [],
   "source": [
    "#  Product Sales Analysis II\n"
   ]
  },
  {
   "cell_type": "code",
   "execution_count": null,
   "metadata": {},
   "outputs": [],
   "source": [
    "SELECT product_id, SUM(quantity) AS total_quantity\n",
    "FROM Sales\n",
    "GROUP BY 1;"
   ]
  },
  {
   "cell_type": "code",
   "execution_count": null,
   "metadata": {},
   "outputs": [],
   "source": [
    "sales.groupby('product_id')['quantity'].sum().reset_index()"
   ]
  },
  {
   "cell_type": "code",
   "execution_count": null,
   "metadata": {},
   "outputs": [],
   "source": [
    "sales.groupby('product_id').agg)sum(col(\"quantity\").alias(\"sum\")).show()"
   ]
  },
  {
   "cell_type": "code",
   "execution_count": null,
   "metadata": {},
   "outputs": [],
   "source": [
    "# Count Student Number in Departments\n"
   ]
  },
  {
   "cell_type": "code",
   "execution_count": null,
   "metadata": {},
   "outputs": [],
   "source": [
    "ELECT\n",
    "    d.dept_id,\n",
    "    d.dept_name,\n",
    "    COUNT(s.student_id) AS student_number\n",
    "FROM Department d\n",
    "LEFT JOIN Student s\n",
    "    ON s.dept_id = d.dept_id\n",
    "GROUP BY\n",
    "    d.dept_id,\n",
    "    d.dept_name;"
   ]
  },
  {
   "cell_type": "code",
   "execution_count": null,
   "metadata": {},
   "outputs": [],
   "source": [
    "df=pd.merge(departments,students,on=\"dept_id\",how=\"left\")\n",
    "df.groupby([\"dept_id\",\"dept_name\"]).size().reset_index(name=\"student_number\")"
   ]
  },
  {
   "cell_type": "code",
   "execution_count": null,
   "metadata": {},
   "outputs": [],
   "source": [
    "df=departments.join(students,departments.dept_id==students.dept_id,how=\"left\")\n",
    "df.groupby(\"dept_id\",\"dept_name\").agg(count(col(\"*\").alias(\"student_number\")).show()\n"
   ]
  },
  {
   "cell_type": "code",
   "execution_count": null,
   "metadata": {},
   "outputs": [],
   "source": [
    "# Winning Candidate\n"
   ]
  },
  {
   "cell_type": "code",
   "execution_count": null,
   "metadata": {},
   "outputs": [],
   "source": [
    "    "
   ]
  },
  {
   "cell_type": "code",
   "execution_count": null,
   "metadata": {},
   "outputs": [],
   "source": []
  },
  {
   "cell_type": "code",
   "execution_count": null,
   "metadata": {},
   "outputs": [],
   "source": []
  },
  {
   "cell_type": "code",
   "execution_count": null,
   "metadata": {},
   "outputs": [],
   "source": [
    "# Find Expensive Cities\n"
   ]
  },
  {
   "cell_type": "code",
   "execution_count": null,
   "metadata": {},
   "outputs": [],
   "source": [
    "SELECT city \n",
    "FROM Listings\n",
    "GROUP BY city \n",
    "HAVING AVG(price)> (SELECT avg(price) FROM Listings)\n",
    "ORDER BY 1;"
   ]
  },
  {
   "cell_type": "code",
   "execution_count": null,
   "metadata": {},
   "outputs": [],
   "source": [
    "with new_cte as(select avg(price) from listing)\n",
    "    select city from listings group by city havi"
   ]
  },
  {
   "cell_type": "code",
   "execution_count": null,
   "metadata": {},
   "outputs": [],
   "source": [
    "df=city.groupby('city')['price'].mean().reset_index()\n",
    "avg_price=df['price'].mean()\n",
    "df[df['avg_price']>avg_price].sort_values(by=['city'])"
   ]
  },
  {
   "cell_type": "code",
   "execution_count": null,
   "metadata": {},
   "outputs": [],
   "source": [
    "df=city.groupby('city').agg(mean(\"price\").alias(\"mean_price\")).show()\n",
    "df_1=df.join(city,df.city==city.city,how=\"inner\")\n",
    "df_1.filter(col(\"mean_price\")>mean(\"price\")).show()"
   ]
  },
  {
   "cell_type": "code",
   "execution_count": null,
   "metadata": {},
   "outputs": [],
   "source": [
    "#  Friday Purchases II\n"
   ]
  },
  {
   "cell_type": "code",
   "execution_count": null,
   "metadata": {},
   "outputs": [],
   "source": []
  },
  {
   "cell_type": "code",
   "execution_count": null,
   "metadata": {},
   "outputs": [],
   "source": []
  },
  {
   "cell_type": "code",
   "execution_count": null,
   "metadata": {},
   "outputs": [],
   "source": []
  },
  {
   "cell_type": "code",
   "execution_count": null,
   "metadata": {},
   "outputs": [],
   "source": [
    "# friendly-movies-streamed-last-month.sql"
   ]
  },
  {
   "cell_type": "code",
   "execution_count": null,
   "metadata": {},
   "outputs": [],
   "source": [
    "select distinct title\n",
    "from Content \n",
    "join TVProgram using(content_id)\n",
    "where kids_content = 'Y' \n",
    "\tand content_type = 'Movies' \n",
    "\tand (month(program_date), year(program_date)) = (6, 2020)"
   ]
  },
  {
   "cell_type": "code",
   "execution_count": null,
   "metadata": {},
   "outputs": [],
   "source": [
    "df=pd.merge(content,TVProgram,right_on=[\"content_id\"],left_on=[\"content_id\"])\n",
    "\n",
    "df[df['kids_content']=='Y')&(df['content_type']=='Movies')&(df['program_date'].strftie(\"%d\",\"%Y\"))]"
   ]
  },
  {
   "cell_type": "code",
   "execution_count": null,
   "metadata": {},
   "outputs": [],
   "source": [
    "df=content.join(tvprogram,content_content_id==tvprogra.content_id)\n",
    "df.filter(col('kids_content')=='y')&(col('content_type')=='Movies')"
   ]
  },
  {
   "cell_type": "code",
   "execution_count": null,
   "metadata": {},
   "outputs": [],
   "source": [
    "# Friend Requests II: Who Has the Most Friends\n"
   ]
  },
  {
   "cell_type": "code",
   "execution_count": null,
   "metadata": {},
   "outputs": [],
   "source": []
  },
  {
   "cell_type": "code",
   "execution_count": null,
   "metadata": {},
   "outputs": [],
   "source": []
  },
  {
   "cell_type": "code",
   "execution_count": null,
   "metadata": {},
   "outputs": [],
   "source": []
  },
  {
   "cell_type": "code",
   "execution_count": null,
   "metadata": {},
   "outputs": [],
   "source": [
    "# Project Employees II"
   ]
  },
  {
   "cell_type": "code",
   "execution_count": null,
   "metadata": {},
   "outputs": [],
   "source": [
    "select project_id\n",
    "from Project\n",
    "group by project_id\n",
    "having count(employee_id) >= (\n",
    " select count(employee_id) as cnt\n",
    " from Project\n",
    " group by project_id\n",
    " order by cnt desc\n",
    " limit 1\n",
    ");"
   ]
  },
  {
   "cell_type": "code",
   "execution_count": null,
   "metadata": {},
   "outputs": [],
   "source": [
    "df=project.groupby('project_id')['employee_id'].size().reset_index(name=\"employee_count\")\n",
    "df_1=pd.merge(df,project,right_on=[\"project_id\"],left=[\"project_id\"],how=\"inner\")\n",
    "df_2=df_1.groupby('project_id')['df_employee_id'].size().reset_index(name=\"count\").reset_index()\n",
    "df_2[df_2['count']>=df_1[\"employee_count\"]][\"df_project_id\"]\n"
   ]
  },
  {
   "cell_type": "code",
   "execution_count": null,
   "metadata": {},
   "outputs": [],
   "source": [
    "df=project.groupby('project_id').agg(count(col(\"employee_id\")).alias(\"employee_count\")).show()\n",
    "df_1=df.join(project,df.project_id==project.employee_id,how=\"inner\")\n",
    "df_1.groupby('project_id').agg(count(col(\"employee_id\")).alias(\"count\"))\n",
    "df_1.filter(col(\"employee_count\")>df.filter(col(\"employee_count\"))).select(\"project_id\")"
   ]
  },
  {
   "cell_type": "code",
   "execution_count": null,
   "metadata": {},
   "outputs": [],
   "source": [
    "# Viewers Turned Streamers\n"
   ]
  },
  {
   "cell_type": "code",
   "execution_count": null,
   "metadata": {},
   "outputs": [],
   "source": []
  },
  {
   "cell_type": "code",
   "execution_count": null,
   "metadata": {},
   "outputs": [],
   "source": []
  },
  {
   "cell_type": "code",
   "execution_count": null,
   "metadata": {},
   "outputs": [],
   "source": []
  },
  {
   "cell_type": "code",
   "execution_count": null,
   "metadata": {},
   "outputs": [],
   "source": [
    "# -Most-Frequently-Ordered-Products-for-Each-Customer"
   ]
  },
  {
   "cell_type": "code",
   "execution_count": null,
   "metadata": {},
   "outputs": [],
   "source": [
    "SELECT customer_id, T.product_id, product_name\n",
    "FROM(\n",
    "    SELECT customer_id, product_id,\n",
    "    RANK() OVER( PARTITION BY customer_id ORDER BY COUNT(*) DESC ) AS RK\n",
    "    FROM Orders o\n",
    "    GROUP BY customer_id, product_id\n",
    ") T\n",
    "LEFT JOIN Products p on p.product_id = T.product_id\n",
    "WHERE RK=1"
   ]
  },
  {
   "cell_type": "code",
   "execution_count": null,
   "metadata": {},
   "outputs": [],
   "source": []
  },
  {
   "cell_type": "code",
   "execution_count": null,
   "metadata": {},
   "outputs": [],
   "source": []
  },
  {
   "cell_type": "code",
   "execution_count": null,
   "metadata": {},
   "outputs": [],
   "source": [
    "##sellers with no sale"
   ]
  },
  {
   "cell_type": "code",
   "execution_count": null,
   "metadata": {},
   "outputs": [],
   "source": [
    "SELECT DISTINCT s.seller_name\n",
    "FROM seller s\n",
    "LEFT JOIN orders o ON s.seller_id = o.seller_id AND YEAR(o.sale_date) = 2020\n",
    "WHERE o.seller_id IS NULL\n",
    "ORDER BY s.seller_name;"
   ]
  },
  {
   "cell_type": "code",
   "execution_count": null,
   "metadata": {},
   "outputs": [],
   "source": [
    "df=pd.to_datetime(df['sales_date'],errors=\"coerce\")\n",
    "\n",
    "df=pd.merge(sellers,order,on=\"seller_id\",how=\"left\")\n",
    "df[df['sales_date'].dt.year=2020)&(df['order.seller_id'].null())]"
   ]
  },
  {
   "cell_type": "code",
   "execution_count": null,
   "metadata": {},
   "outputs": [],
   "source": []
  },
  {
   "cell_type": "code",
   "execution_count": null,
   "metadata": {},
   "outputs": [],
   "source": [
    "### recent orders"
   ]
  },
  {
   "cell_type": "code",
   "execution_count": null,
   "metadata": {},
   "outputs": [],
   "source": []
  },
  {
   "cell_type": "code",
   "execution_count": null,
   "metadata": {},
   "outputs": [],
   "source": []
  },
  {
   "cell_type": "code",
   "execution_count": null,
   "metadata": {},
   "outputs": [],
   "source": []
  },
  {
   "cell_type": "code",
   "execution_count": null,
   "metadata": {},
   "outputs": [],
   "source": [
    "# Bikes Last Time Used"
   ]
  },
  {
   "cell_type": "code",
   "execution_count": null,
   "metadata": {},
   "outputs": [],
   "source": [
    "SELECT  bike_number\n",
    "       ,MAX(end_time) AS end_time\n",
    "FROM Bikes\n",
    "GROUP BY  bike_number\n",
    "ORDER BY end_time DESC"
   ]
  },
  {
   "cell_type": "code",
   "execution_count": null,
   "metadata": {},
   "outputs": [],
   "source": [
    "bikes.groupby('bike_number')['end_time'].sort_values(ascending=False).max().reset_index()"
   ]
  },
  {
   "cell_type": "code",
   "execution_count": null,
   "metadata": {},
   "outputs": [],
   "source": [
    "bikes.groupby('bike_number').agg(max(col(\"end_time\")).alias(\"end_time\")).sort(desc(\"end_time\")).show()"
   ]
  },
  {
   "cell_type": "code",
   "execution_count": null,
   "metadata": {},
   "outputs": [],
   "source": [
    "# Accepted-Candidates-From-the-Interviews"
   ]
  },
  {
   "cell_type": "code",
   "execution_count": null,
   "metadata": {},
   "outputs": [],
   "source": [
    "SELECT candidate_id\n",
    "FROM\n",
    "    Candidates AS c\n",
    "    LEFT JOIN Rounds AS r ON c.interview_id = r.interview_id\n",
    "WHERE years_of_exp >= 2\n",
    "GROUP BY c.interview_id\n",
    "HAVING sum(score) > 15;"
   ]
  },
  {
   "cell_type": "code",
   "execution_count": null,
   "metadata": {},
   "outputs": [],
   "source": [
    "##check\n",
    "df=pd.merge(candidates,rounds,right_on=[\"interview_id\"],how=\"left\")\n",
    "df[df['years_of_exp']>=2].groupby(\"interview_id\").apply(lambda x:sum(x)>15)['candidate_id']"
   ]
  },
  {
   "cell_type": "code",
   "execution_count": null,
   "metadata": {},
   "outputs": [],
   "source": [
    "df=candidate.join(rounds,candidate.interview_id==rounds.interview_id,how=\"left\")\n",
    "df.filter(col('year_of_exp')>=2).groupby('interview_id').agg(sum(col(\"score\")>15)).select(\"candidate_id\").show()"
   ]
  },
  {
   "cell_type": "code",
   "execution_count": null,
   "metadata": {},
   "outputs": [],
   "source": [
    "# The Category of Each Member in the Store"
   ]
  },
  {
   "cell_type": "code",
   "execution_count": null,
   "metadata": {},
   "outputs": [],
   "source": [
    "SELECT\n",
    "    m.member_id,\n",
    "    name,\n",
    "    CASE\n",
    "        WHEN count(v.visit_id) = 0 THEN 'Bronze'\n",
    "        WHEN 100 * count(charged_amount) / count(\n",
    "            v.visit_id\n",
    "        ) >= 80 THEN 'Diamond'\n",
    "        WHEN 100 * count(charged_amount) / count(v.visit_id) >= 50 THEN 'Gold'\n",
    "        ELSE 'Silver'\n",
    "    END AS category\n",
    "FROM\n",
    "    Members AS m\n",
    "    LEFT JOIN Visits AS v ON m.member_id = v.member_id\n",
    "    LEFT JOIN Purchases AS p ON v.visit_id = p.visit_id\n",
    "GROUP BY member_id;"
   ]
  },
  {
   "cell_type": "code",
   "execution_count": null,
   "metadata": {},
   "outputs": [],
   "source": []
  },
  {
   "cell_type": "code",
   "execution_count": null,
   "metadata": {},
   "outputs": [],
   "source": []
  },
  {
   "cell_type": "code",
   "execution_count": null,
   "metadata": {},
   "outputs": [],
   "source": [
    "# Total Sales Amount by Year\n"
   ]
  },
  {
   "cell_type": "code",
   "execution_count": null,
   "metadata": {},
   "outputs": [],
   "source": []
  },
  {
   "cell_type": "code",
   "execution_count": null,
   "metadata": {},
   "outputs": [],
   "source": []
  },
  {
   "cell_type": "code",
   "execution_count": null,
   "metadata": {},
   "outputs": [],
   "source": []
  },
  {
   "cell_type": "code",
   "execution_count": null,
   "metadata": {},
   "outputs": [],
   "source": [
    "# Customers Who Bought Products A and B but Not C"
   ]
  },
  {
   "cell_type": "code",
   "execution_count": null,
   "metadata": {},
   "outputs": [],
   "source": [
    "SELECT customer_id, customer_name\n",
    "FROM\n",
    "    Customers\n",
    "    LEFT JOIN Orders USING (customer_id)\n",
    "GROUP BY 1\n",
    "HAVING SUM(product_name = 'A') > 0 AND SUM(product_name = 'B') > 0 AND SUM(product_name = 'C') = 0\n",
    "ORDER BY 1;"
   ]
  },
  {
   "cell_type": "code",
   "execution_count": null,
   "metadata": {},
   "outputs": [],
   "source": [
    "import pandas as pd\n",
    "\n",
    "def find_customers(customers_df, orders_df):\n",
    "\n",
    "    merged_df = customers_df.merge(orders_df, on='customer_id', how='left')\n",
    "\n",
    "    result_df = merged_df.groupby('customer_id', as_index=False).agg(\n",
    "        {'customer_name': 'first',\n",
    "         'product_name': lambda x: (x == 'A').sum() > 0,\n",
    "         'product_name': lambda x: (x == 'B').sum() > 0,\n",
    "         'product_name': lambda x: (x == 'C').sum() == 0\n",
    "        }\n",
    "    )\n",
    "\n",
    "    result_df = result_df[result_df['product_name']].drop(columns='product_name') \n",
    "    result_df = result_df.rename(columns={'product_name': 'has_A', 'product_name': 'has_B', 'product_name': 'has_C'})\n",
    "    result_df = result_df[result_df['has_A'] & result_df['has_B'] & ~result_df['has_C']]\n",
    "    result_df = result_df[['customer_id', 'customer_name']]\n",
    "\n",
    "    return result_df\n",
    "\n",
    "# Example Usage (Assuming you have pandas DataFrames 'customers_df' and 'orders_df')\n",
    "result = find_customers(customers_df, orders_df)\n",
    "print(result)"
   ]
  },
  {
   "cell_type": "code",
   "execution_count": null,
   "metadata": {},
   "outputs": [],
   "source": [
    "from pyspark.sql import SparkSession\n",
    "from pyspark.sql.functions import col, sum, when\n",
    "\n",
    "def find_customers_pyspark(spark, customers_df, orders_df):\n",
    "\n",
    "    # Join DataFrames\n",
    "    merged_df = customers_df.join(orders_df, on='customer_id', how='left')\n",
    "\n",
    "    # Aggregate and Filter\n",
    "    result_df = merged_df.groupBy('customer_id', 'customer_name') \\\n",
    "        .agg(\n",
    "            sum(when(col('product_name') == 'A', 1).otherwise(0)).alias('has_A'),\n",
    "            sum(when(col('product_name') == 'B', 1).otherwise(0)).alias('has_B'),\n",
    "            sum(when(col('product_name') == 'C', 1).otherwise(0)).alias('has_C')\n",
    "        ) \\\n",
    "        .filter(col('has_A') > 0) \\\n",
    "        .filter(col('has_B') > 0) \\\n",
    "        .filter(col('has_C') == 0) \\\n",
    "        .select('customer_id', 'customer_name')\n",
    "\n",
    "    return result_df\n",
    "\n",
    "# Example Usage (Assuming you have SparkSession 'spark' and Spark DataFrames 'customers_df' and 'orders_df')\n",
    "result = find_customers_pyspark(spark, customers_df, orders_df)\n",
    "result.show()"
   ]
  },
  {
   "cell_type": "code",
   "execution_count": null,
   "metadata": {},
   "outputs": [],
   "source": [
    "# orders-with-maximum-quantity-above-average.sql\n"
   ]
  },
  {
   "cell_type": "code",
   "execution_count": null,
   "metadata": {},
   "outputs": [],
   "source": [
    "select order_id from OrdersDetails\n",
    "group by order_id\n",
    "having max(quantity) > (\n",
    "  select max(avg_quantity) from\n",
    "  (select order_id, sum(quantity) / count(product_id) as avg_quantity \n",
    "    from OrdersDetails\n",
    "    group by order_id\n",
    "  ) t\n",
    ");"
   ]
  },
  {
   "cell_type": "code",
   "execution_count": null,
   "metadata": {},
   "outputs": [],
   "source": [
    "df=orderDetails.groupby(\"order_id\")[\"quantity\"].max().reset_index()\n",
    "df_1=order_details.groupby(\"order_id\")[\"quantity\"].sum()/orderdetails[\"product_id\"].count().reset_index()\n",
    "df_2=pd.merge(df,df_1,right_on=[\"order_id\"],left_on=[\"order_id\"])\n",
    "df_2[\"avg_quantitys\"]=df_2[\"quantity\"].max()\n",
    "df_2[\"quantities\"]=[\"quantity\"].max()\n",
    "df_2[df_2[\"quantitys\"]>df_2[\"avg_quantites\"]][\"order_id\"]"
   ]
  },
  {
   "cell_type": "code",
   "execution_count": null,
   "metadata": {},
   "outputs": [],
   "source": []
  },
  {
   "cell_type": "code",
   "execution_count": null,
   "metadata": {},
   "outputs": [],
   "source": [
    "# Leetcode-178. Rank Scores.sql"
   ]
  },
  {
   "cell_type": "code",
   "execution_count": null,
   "metadata": {},
   "outputs": [],
   "source": [
    "SELECT Score, DENSE_RANK() OVER (PARTITION BY Score ORDER BY Score DESC) AS Rank\n",
    "FROM Scores"
   ]
  },
  {
   "cell_type": "code",
   "execution_count": null,
   "metadata": {},
   "outputs": [],
   "source": [
    "score.groubpy('score')['score'].rank(method=\"dense\")"
   ]
  },
  {
   "cell_type": "code",
   "execution_count": null,
   "metadata": {},
   "outputs": [],
   "source": [
    "window=Window.partitionBy(\"score\").orderBy(\"Score\")\n",
    "df.withColumn(\"rank\",over(window))\n",
    "df.select(\"rank\",\"score\").show()"
   ]
  },
  {
   "cell_type": "code",
   "execution_count": null,
   "metadata": {},
   "outputs": [],
   "source": [
    "# Actors and Directors Who Cooperated At Least Three Times.sql"
   ]
  },
  {
   "cell_type": "code",
   "execution_count": null,
   "metadata": {},
   "outputs": [],
   "source": [
    "SELECT actor_id, director_id\n",
    "FROM ActorDirector\n",
    "GROUP BY actor_id, director_id\n",
    "HAVING COUNT(*) >= 3"
   ]
  },
  {
   "cell_type": "code",
   "execution_count": null,
   "metadata": {},
   "outputs": [],
   "source": [
    "df=ActorDirectoru.copy()\n",
    "df.groupby([\"actor_id\",\"director_id\"]).size().reset_index(name=\"count\")\n",
    "df[df[\"count\"]>=3]"
   ]
  },
  {
   "cell_type": "code",
   "execution_count": null,
   "metadata": {},
   "outputs": [],
   "source": [
    "df.groupby(\"actor_id\",\"director_id\").agg(count(col(\"*\")).alias(\"total_count\")).filter(col(\"total_count\")).show()"
   ]
  },
  {
   "cell_type": "code",
   "execution_count": null,
   "metadata": {},
   "outputs": [],
   "source": [
    "# Weather Type in Each Country"
   ]
  },
  {
   "cell_type": "code",
   "execution_count": null,
   "metadata": {},
   "outputs": [],
   "source": [
    "SELECT c.country_name, (CASE WHEN AVG(weather_state) <= 15 THEN \"Cold\"\n",
    "        WHEN AVG(weather_state) >= 25 THEN \"Hot\"\n",
    "        ELSE \"Warm\" \n",
    "        END) AS weather_type\n",
    "FROM Countries c\n",
    "    JOIN Weather w USING(country_id)\n",
    "    \n",
    "# Select for specific month \n",
    "WHERE LEFT(day, 7) = \"2019-11\"\n",
    "GROUP BY w.country_id\n",
    ";"
   ]
  },
  {
   "cell_type": "code",
   "execution_count": null,
   "metadata": {},
   "outputs": [],
   "source": [
    "november_weather = Weather[Weather['day'].str.startswith('2019-11')]\n",
    "merged_df = pd.merge(Countries, november_weather, on='country_id')\n",
    "grouped_df = merged_df.groupby('country_id')['weather_state'].mean().reset_index()\n",
    "def categorize_weather(avg_weather):\n",
    "    if avg_weather <= 15:\n",
    "        return \"Cold\"\n",
    "    elif avg_weather >= 25:\n",
    "        return \"Hot\"\n",
    "    else:\n",
    "        return \"Warm\"\n",
    "\n",
    "grouped_df['weather_type'] = grouped_df['weather_state'].apply(categorize_weather)\n",
    "result_df = pd.merge(grouped_df, Countries[['country_id', 'country_name']], on='country_id')\n",
    "result_df = result_df[['country_name', 'weather_type']]"
   ]
  },
  {
   "cell_type": "code",
   "execution_count": null,
   "metadata": {},
   "outputs": [],
   "source": [
    "df=weather.filter(col('day').startswith('2019-11'))\n",
    "df_1=df.join(countries,df.country_id==countries.country_id,how=\"inner\")\n",
    "df_1.groupby('country_id').agg(mean(col(\"weather_state\")).alias(\"average_weather\")).show()\n",
    "\n",
    "def classify_weather(average_weather):\n",
    "    if average_weather<=15:\n",
    "        return \"Cold\"\n",
    "    elif average_weather>=25:\n",
    "        return \"Hot\"\n",
    "    else:\n",
    "        return \"Warm\"\n",
    "    \n",
    "udf=udf(classify_weather,returnType=StringType())\n",
    "df_1.withColumn(\"classifiy_weather\",classify_weather(df_1[\"weather_state\"]))\n",
    "df_1.select(\"country_name\",\"weather_type\",\"classifiy_weather\")"
   ]
  },
  {
   "cell_type": "code",
   "execution_count": null,
   "metadata": {},
   "outputs": [],
   "source": [
    "# MySQL/loan-types.sql"
   ]
  },
  {
   "cell_type": "code",
   "execution_count": null,
   "metadata": {},
   "outputs": [],
   "source": [
    "SELECT user_id\n",
    "FROM Loans \n",
    "WHERE loan_type IN ('Refinance','Mortgage')\n",
    "GROUP BY 1 \n",
    "HAVING COUNT(DISTINCT loan_type) = 2\n",
    "ORDER BY 1;"
   ]
  },
  {
   "cell_type": "code",
   "execution_count": null,
   "metadata": {},
   "outputs": [],
   "source": [
    "loans[loans['loan_type'].isin(['Refinance','Mortgage'])].groupby('user_d').apply(lambda x:len(x)==2).sort_values(ascending=False)"
   ]
  },
  {
   "cell_type": "code",
   "execution_count": null,
   "metadata": {},
   "outputs": [],
   "source": [
    "loans.filter(col('loan_type').isin(['Refinance','Mortgage'])).groupby(\"user_id\").agg(countDistinct(col(\"loan_type\")).alias(\"total\")).filter(col('total')==2).show()"
   ]
  },
  {
   "cell_type": "code",
   "execution_count": null,
   "metadata": {},
   "outputs": [],
   "source": [
    "# All People Report to the Given Manager"
   ]
  },
  {
   "cell_type": "code",
   "execution_count": null,
   "metadata": {},
   "outputs": [],
   "source": [
    "SELECT e1.employee_id\n",
    "FROM\n",
    "    Employees AS e1\n",
    "    JOIN Employees AS e2 ON e1.manager_id = e2.employee_id\n",
    "    JOIN Employees AS e3 ON e2.manager_id = e3.employee_id\n",
    "WHERE e1.employee_id != 1 AND e3.manager_id = 1;"
   ]
  },
  {
   "cell_type": "code",
   "execution_count": null,
   "metadata": {},
   "outputs": [],
   "source": [
    "df=pd.merge(employee,employees,right_on=[\"manager_id\"],left_on=[\"employee_id\"])\n",
    "df_1=df.merge(employee,right_on=[\"manager_id\"],left_on=[\"employee_id\"])\n",
    "df_2=df[(df['employee_id']!=1)&(df['manager_id']==1)]\n",
    "df_2['employee_id']"
   ]
  },
  {
   "cell_type": "code",
   "execution_count": null,
   "metadata": {},
   "outputs": [],
   "source": [
    "df=employee.join(employee.alias(\"e2\"),employee.manager_id==e2.employee_id,how=\"inner\")\n",
    "df_1=df.join(employee,df.manager_id==employee.employee_id,how=\"inner\")\n",
    "df_3=df_1.filter(col('employee_id')!=1)&(col('manager_id')==1)\n",
    "df_3.select('employee_id')"
   ]
  },
  {
   "cell_type": "code",
   "execution_count": null,
   "metadata": {},
   "outputs": [],
   "source": [
    "# not-boring-movies-leetcode-mssql"
   ]
  },
  {
   "cell_type": "code",
   "execution_count": null,
   "metadata": {},
   "outputs": [],
   "source": [
    "SELECT\n",
    "    id,\n",
    "    movie,\n",
    "    description,\n",
    "    rating\n",
    "FROM Cinema\n",
    "WHERE\n",
    "    id%2 != 0\n",
    "    AND\n",
    "    description != 'boring'\n",
    "ORDER BY\n",
    "    rating DESC"
   ]
  },
  {
   "cell_type": "code",
   "execution_count": null,
   "metadata": {},
   "outputs": [],
   "source": [
    "df_1=df[(df['id']%2!=0)&(df['description']=='boring')]\n",
    "df_1.sort_values(by=['rating'],ascending=False)"
   ]
  },
  {
   "cell_type": "code",
   "execution_count": null,
   "metadata": {},
   "outputs": [],
   "source": [
    "df.filter((col('id')%2!=0)&(~col('description').contains('boring'))).sort(desc(\"rating\")).show()"
   ]
  },
  {
   "cell_type": "code",
   "execution_count": null,
   "metadata": {},
   "outputs": [],
   "source": [
    "# highest-grade-for-each-student.sql"
   ]
  },
  {
   "cell_type": "code",
   "execution_count": null,
   "metadata": {},
   "outputs": [],
   "source": [
    "select student_id, min(course_id) as course_id, grade\n",
    "from Enrollments\n",
    "where (student_id, grade) in \n",
    "    (select student_id, max(grade)\n",
    "    from Enrollments\n",
    "    group by student_id)\n",
    "group by student_id, grade\n",
    "order by student_id asc"
   ]
  },
  {
   "cell_type": "code",
   "execution_count": null,
   "metadata": {},
   "outputs": [],
   "source": [
    "max_grades = df.groupby('student_id')['grade'].max().reset_index(name='max_grade')\n",
    "merged_df = pd.merge(df, max_grades, on='student_id')\n",
    "filtered_df = merged_df[merged_df['grade'] == merged_df['max_grade']]\n",
    "result_df = filtered_df.groupby(['student_id', 'grade']).agg({'course_id': 'min'}).reset_index()\n",
    "result_df = result_df.sort_values('student_id')"
   ]
  },
  {
   "cell_type": "code",
   "execution_count": null,
   "metadata": {},
   "outputs": [],
   "source": [
    "max_grades=enrollements.groupby('student_id','grade').agg(max(\"grade\")).show()\n",
    "df=enrollements.join(df,enrollements.student_id==df.student_id,how=\"inner\")\n",
    " # 3. Filter for rows with max grade\n",
    "  filtered_df = merged_df.filter(merged_df[\"grade\"] == merged_df[\"max_grade\"])\n",
    "\n",
    "  # 4. Find min course_id for each student with max grade\n",
    "  result_df = filtered_df.groupBy(\"student_id\", \"grade\").agg(F.min(\"course_id\").alias(\"course_id\")) \\\n",
    "                     .sort(\"student_id\")\n",
    "result_df.show()"
   ]
  },
  {
   "cell_type": "code",
   "execution_count": null,
   "metadata": {},
   "outputs": [],
   "source": [
    "SELECT product_id, SUM(quantity) AS total_quantity\n",
    "FROM Sales\n",
    "GROUP BY 1;"
   ]
  },
  {
   "cell_type": "code",
   "execution_count": null,
   "metadata": {},
   "outputs": [],
   "source": [
    "df.groupby('product_id')['quantity'].sum().reset_index(name=\"total_quantity\")"
   ]
  },
  {
   "cell_type": "code",
   "execution_count": null,
   "metadata": {},
   "outputs": [],
   "source": [
    "df.groupby('product_id').agg({'sum':'quantity'})"
   ]
  },
  {
   "cell_type": "code",
   "execution_count": null,
   "metadata": {},
   "outputs": [],
   "source": [
    "#  Employee Bonus.sql\n"
   ]
  },
  {
   "cell_type": "code",
   "execution_count": null,
   "metadata": {},
   "outputs": [],
   "source": [
    "select name, bonus\n",
    "from employee\n",
    "left join bonus on employee.empid=bonus.empid\n",
    "where bonus is null or bonus<1000"
   ]
  },
  {
   "cell_type": "code",
   "execution_count": null,
   "metadata": {},
   "outputs": [],
   "source": [
    "df_one=pd.merge('employee','bonus',on=\"emp_id\",how=\"left\")\n",
    "df_one[(df_one['bonus'].notnull()0)&(df_one['bonus']<1000)]"
   ]
  },
  {
   "cell_type": "code",
   "execution_count": null,
   "metadata": {},
   "outputs": [],
   "source": [
    "df=employee.join(bonus,employee.emp_id==bonus.emp_id,how=\"left\")\n",
    "df.filter((col('bonus').isNotNull())&(col('bonus')<1000).show()"
   ]
  },
  {
   "cell_type": "code",
   "execution_count": null,
   "metadata": {},
   "outputs": [],
   "source": [
    "# Product Sales Analysis I"
   ]
  },
  {
   "cell_type": "code",
   "execution_count": null,
   "metadata": {},
   "outputs": [],
   "source": [
    "SELECT p.product_name, s.year, s.price\n",
    "FROM Sales s LEFT JOIN Product p ON\n",
    "    s.product_id = p.product_id"
   ]
  },
  {
   "cell_type": "code",
   "execution_count": null,
   "metadata": {},
   "outputs": [],
   "source": [
    "df_1=pd.merge(sales,products,on=\"product_id\",how='left')\n",
    "df_1[['product_name','year','price']]"
   ]
  },
  {
   "cell_type": "code",
   "execution_count": null,
   "metadata": {},
   "outputs": [],
   "source": [
    "df=sales.join(products,sales.product_id==products.product_id,how=\"left\")\n",
    "df.select(\"product_name\",\"year\",\"price\").show()"
   ]
  },
  {
   "cell_type": "code",
   "execution_count": null,
   "metadata": {},
   "outputs": [],
   "source": [
    "# Number of Comments per Post.sql\n"
   ]
  },
  {
   "cell_type": "code",
   "execution_count": null,
   "metadata": {},
   "outputs": [],
   "source": [
    "SELECT s1.sub_id AS post_id, IFNULL(COUNT(DISTINCT s2.sub_id),0) AS number_of_comments\n",
    "FROM Submissions s1 LEFT JOIN Submissions s2 ON s1.sub_id = s2.parent_id\n",
    "WHERE s1.parent_id IS NULL\n",
    "GROUP BY s1.sub_id\n",
    ";"
   ]
  },
  {
   "cell_type": "code",
   "execution_count": null,
   "metadata": {},
   "outputs": [],
   "source": [
    "df_1=pd.merge(submissions,submissions,right_on=[\"sub_id\"],left_on=[\"sub_id\"],how=\"left\")\n",
    "df_1=df[df['parent_id'].isnull()]\n",
    "df_1.groupby(\"sub_id\").nunique().fillna(0).reset_index()"
   ]
  },
  {
   "cell_type": "code",
   "execution_count": null,
   "metadata": {},
   "outputs": [],
   "source": [
    "df_1=submissions.alias(\"s1\").join(submissions.alias(\"s2\"),s1.sub_id==s2.sub_id,how=\"left\")\n"
   ]
  },
  {
   "cell_type": "code",
   "execution_count": null,
   "metadata": {},
   "outputs": [],
   "source": [
    "# count-student-number-in-departments"
   ]
  },
  {
   "cell_type": "code",
   "execution_count": null,
   "metadata": {},
   "outputs": [],
   "source": [
    "SELECT\n",
    "    d.dept_id,\n",
    "    d.dept_name,\n",
    "    COUNT(s.student_id) AS student_number\n",
    "FROM Department d\n",
    "LEFT JOIN Student s\n",
    "    ON s.dept_id = d.dept_id\n",
    "GROUP BY\n",
    "    d.dept_id,\n",
    "    d.dept_name;"
   ]
  },
  {
   "cell_type": "code",
   "execution_count": null,
   "metadata": {},
   "outputs": [],
   "source": [
    "df=pd.merge(department,students,right_on=\"students\",left_on=\"dept_id\",how=\"left\")\n",
    "df.groupby([\"dept_id\",\"dept_name\"])[\"student_id\"].count().reset_index(name=\"student_number\")d\n",
    "df.head()"
   ]
  },
  {
   "cell_type": "code",
   "execution_count": null,
   "metadata": {},
   "outputs": [],
   "source": [
    "df=department.join(students,department.dept_id==student.dept_id,how=\"left\")\n",
    "df.groupby(\"dept_id\",\"dept_name\").agg(count(col(\"student_id\")).alias(\"student_number\")).show()"
   ]
  },
  {
   "cell_type": "code",
   "execution_count": null,
   "metadata": {},
   "outputs": [],
   "source": [
    "# department-top-three-salaries"
   ]
  },
  {
   "cell_type": "code",
   "execution_count": null,
   "metadata": {},
   "outputs": [],
   "source": [
    "with employee_rank as(\n",
    "\n",
    "    select dense_rank() over(partition by d.name order by e.salary desc)\n",
    "    from employee join department on e.eid=d.id\n",
    ")\n",
    "    select  Department,\n",
    "    Employee,\n",
    "    Salary\n",
    "FROM rank\n",
    "WHERE salary_ranking <= 3\n",
    "    "
   ]
  },
  {
   "cell_type": "code",
   "execution_count": null,
   "metadata": {},
   "outputs": [],
   "source": [
    "    (\n",
    "    tips[tips[\"tip\"] < 2]\n",
    "    .assign(rnk_min=tips.groupby([\"sex\"])[\"tip\"].rank(method=\"min\"))\n",
    "    .query(\"rnk_min < 3\")\n",
    "    .sort_values([\"sex\", \"rnk_min\"])\n",
    ")\n"
   ]
  },
  {
   "cell_type": "code",
   "execution_count": null,
   "metadata": {},
   "outputs": [],
   "source": [
    "df=employee.join(department,employee.id==department.id,how=\"inner\")\n",
    "window=Window.PartitionBy(\"name\").orderBy(desc(\"salary\"))\n",
    "df.withColumn(\"rank\",over(window))\n",
    "df.filter(col(\"rank\")<=3).select(col(\"department\"),col(\"employee\")).show()"
   ]
  },
  {
   "cell_type": "code",
   "execution_count": null,
   "metadata": {},
   "outputs": [],
   "source": [
    "# managers-with-at-least-5-direct-reports-leetcode-mssql-"
   ]
  },
  {
   "cell_type": "code",
   "execution_count": null,
   "metadata": {},
   "outputs": [],
   "source": [
    "SELECT m.name \n",
    "FROM Employee e JOIN Employee m ON e.managerId = m.id\n",
    "GROUP BY m.name\n",
    "HAVING COUNT(e.id) >= 5"
   ]
  },
  {
   "cell_type": "code",
   "execution_count": null,
   "metadata": {},
   "outputs": [],
   "source": [
    "df=pd.merge(employee,employee,right=\"manager_id\",left_on=\"id\",how=\"inner\")\n",
    "df.groupby(\"name\")[\"id\"].count().apply(lambda x:len(x)>=5)"
   ]
  },
  {
   "cell_type": "code",
   "execution_count": null,
   "metadata": {},
   "outputs": [],
   "source": [
    "df=employee.alias(\"e1\").join(employee.alias(\"e2\"),e1.manager_id==e2.id,how=\"inner\")\n",
    "df.groupby(\"name\").agg(count(col(\"id\")).alias(\"total_count\")).filter(col(\"total_count\")>=5).show()"
   ]
  },
  {
   "cell_type": "code",
   "execution_count": null,
   "metadata": {},
   "outputs": [],
   "source": [
    "# Team Scores in Football Tournament\n"
   ]
  },
  {
   "cell_type": "code",
   "execution_count": null,
   "metadata": {},
   "outputs": [],
   "source": []
  },
  {
   "cell_type": "code",
   "execution_count": null,
   "metadata": {},
   "outputs": [],
   "source": []
  },
  {
   "cell_type": "code",
   "execution_count": null,
   "metadata": {},
   "outputs": [],
   "source": []
  },
  {
   "cell_type": "code",
   "execution_count": null,
   "metadata": {},
   "outputs": [],
   "source": [
    "# sales day of the week"
   ]
  },
  {
   "cell_type": "code",
   "execution_count": null,
   "metadata": {},
   "outputs": [],
   "source": [
    "SELECT i.item_category AS Category,\n",
    "    SUM(CASE WHEN DAYOFWEEK(o.order_date) = 2 THEN quantity ELSE 0 END) AS Monday,\n",
    "    SUM(CASE WHEN DAYOFWEEK(o.order_date) = 3 THEN quantity ELSE 0 END) AS Tuesday,\n",
    "    SUM(CASE WHEN DAYOFWEEK(o.order_date) = 4 THEN quantity ELSE 0 END) AS Wednesday,\n",
    "    SUM(CASE WHEN DAYOFWEEK(o.order_date) = 5 THEN quantity ELSE 0 END) AS Thursday,\n",
    "    SUM(CASE WHEN DAYOFWEEK(o.order_date) = 6 THEN quantity ELSE 0 END) AS Friday,\n",
    "    SUM(CASE WHEN DAYOFWEEK(o.order_date) = 7 THEN quantity ELSE 0 END) AS Saturday,\n",
    "    SUM(CASE WHEN DAYOFWEEK(o.order_date) = 1 THEN quantity ELSE 0 END) AS Sunday\n",
    "FROM Items i\n",
    "LEFT JOIN Orders o\n",
    "ON i.item_id = o.item_id\n",
    "GROUP BY i.item_category\n",
    "ORDER BY i.item_category;"
   ]
  },
  {
   "cell_type": "code",
   "execution_count": null,
   "metadata": {},
   "outputs": [],
   "source": []
  },
  {
   "cell_type": "code",
   "execution_count": null,
   "metadata": {},
   "outputs": [],
   "source": []
  },
  {
   "cell_type": "code",
   "execution_count": null,
   "metadata": {},
   "outputs": [],
   "source": [
    "# article-views-ii."
   ]
  },
  {
   "cell_type": "code",
   "execution_count": null,
   "metadata": {},
   "outputs": [],
   "source": [
    "SELECT DISTINCT viewer_id AS id \n",
    "FROM   views \n",
    "GROUP  BY viewer_id, \n",
    "          view_date \n",
    "HAVING Count(DISTINCT article_id) > 1 \n",
    "ORDER  BY id"
   ]
  },
  {
   "cell_type": "code",
   "execution_count": null,
   "metadata": {},
   "outputs": [],
   "source": [
    "# Reformat Department Table\n"
   ]
  },
  {
   "cell_type": "code",
   "execution_count": null,
   "metadata": {},
   "outputs": [],
   "source": [
    "select id, \n",
    "\tsum(case when month = 'jan' then revenue else null end) as Jan_Revenue,\n",
    "\tsum(case when month = 'feb' then revenue else null end) as Feb_Revenue,\n",
    "\tsum(case when month = 'mar' then revenue else null end) as Mar_Revenue,\n",
    "\tsum(case when month = 'apr' then revenue else null end) as Apr_Revenue,\n",
    "\tsum(case when month = 'may' then revenue else null end) as May_Revenue,\n",
    "\tsum(case when month = 'jun' then revenue else null end) as Jun_Revenue,\n",
    "\tsum(case when month = 'jul' then revenue else null end) as Jul_Revenue,\n",
    "\tsum(case when month = 'aug' then revenue else null end) as Aug_Revenue,\n",
    "\tsum(case when month = 'sep' then revenue else null end) as Sep_Revenue,\n",
    "\tsum(case when month = 'oct' then revenue else null end) as Oct_Revenue,\n",
    "\tsum(case when month = 'nov' then revenue else null end) as Nov_Revenue,\n",
    "\tsum(case when month = 'dec' then revenue else null end) as Dec_Revenue\n",
    "from department\n",
    "group by id\n",
    "order by id"
   ]
  },
  {
   "cell_type": "code",
   "execution_count": null,
   "metadata": {},
   "outputs": [],
   "source": [
    "df_pivot = df.pivot_table(index='id', columns='month', values='revenue', aggfunc='sum', fill_value=0)\n",
    "df_pivot.columns = ['Jan_Revenue', 'Feb_Revenue', 'Mar_Revenue', 'Apr_Revenue'] \n",
    "df_pivot = df_pivot.sort_values('id')"
   ]
  },
  {
   "cell_type": "code",
   "execution_count": null,
   "metadata": {},
   "outputs": [],
   "source": [
    "df.groupBy(\"id\") \\\n",
    "    .agg(\n",
    "        sum(when(col(\"month\") == \"Jan\", col(\"revenue\"))).alias(\"Jan_Revenue\"),\n",
    "        sum(when(col(\"month\") == \"Feb\", col(\"revenue\"))).alias(\"Feb_Revenue\"),\n",
    "        sum(when(col(\"month\") == \"Mar\", col(\"revenue\"))).alias(\"Mar_Revenue\"),\n",
    "        sum(when(col(\"month\") == \"Apr\", col(\"revenue\"))).alias(\"Apr_Revenue\"),\n",
    "        # Add other months similarly\n",
    "    ) \\\n",
    "    .orderBy(\"id\")\n",
    "\n",
    "# Show the result\n",
    "df.show()"
   ]
  },
  {
   "cell_type": "code",
   "execution_count": null,
   "metadata": {},
   "outputs": [],
   "source": [
    "# MySQL/employee-bonus.sql"
   ]
  },
  {
   "cell_type": "code",
   "execution_count": null,
   "metadata": {},
   "outputs": [],
   "source": [
    "SELECT\n",
    "    Employee.name, Bonus.bonus\n",
    "FROM\n",
    "    Employee\n",
    "        LEFT JOIN\n",
    "    Bonus ON Employee.empid = Bonus.empid\n",
    "WHERE\n",
    "    Bonus.bonus < 1000 OR Bonus.bonus IS NULL"
   ]
  },
  {
   "cell_type": "code",
   "execution_count": null,
   "metadata": {},
   "outputs": [],
   "source": [
    "df=pd.merge(employee,bonus,right_on=[\"empid\"],left_on=[\"emp_id\"],how=\"left\")\n",
    "df_1=df[(df['bonus']<1000)&(df['bonus'].isnul())]\n",
    "df_1[[\"name\",\"bonus\"]]"
   ]
  },
  {
   "cell_type": "code",
   "execution_count": null,
   "metadata": {},
   "outputs": [],
   "source": [
    "df_1=df.filter((col('bonus')<1000)&(col('bonus').isNull()))\n",
    "df_1.select(\"employee_name\",\"bonus\").show()\n"
   ]
  },
  {
   "cell_type": "code",
   "execution_count": null,
   "metadata": {},
   "outputs": [],
   "source": [
    "# Unpopular Books"
   ]
  },
  {
   "cell_type": "code",
   "execution_count": null,
   "metadata": {},
   "outputs": [],
   "source": [
    "SELECT b.book_id, \n",
    "       b.NAME \n",
    "FROM   books AS b \n",
    "       LEFT JOIN orders AS o \n",
    "              ON b.book_id = o.book_id \n",
    "                 AND dispatch_date BETWEEN '2018-06-23' AND '2019-6-23' \n",
    "WHERE  Datediff('2019-06-23', b.available_from) > 30 \n",
    "GROUP BY book_id \n",
    "HAVING Sum(IFNULL(o.quantity, 0)) < 10 ORDER  BY NULL "
   ]
  },
  {
   "cell_type": "code",
   "execution_count": null,
   "metadata": {},
   "outputs": [],
   "source": [
    "df=pd.merge(orders,books,on=\"book_id\",how='left')\n",
    "df[(df['dispatch_date']>='2018-06-23')&(df['dispatch_date']<='2018-06-23')]\n",
    "df['available_from']=pd.to_datetime('2019-06-23')-df['available_from']>30\n",
    "df.groupby('id').apply(lambda x:x['quantity'].sum()<10)"
   ]
  },
  {
   "cell_type": "code",
   "execution_count": null,
   "metadata": {},
   "outputs": [],
   "source": []
  },
  {
   "cell_type": "code",
   "execution_count": null,
   "metadata": {},
   "outputs": [],
   "source": [
    "# he-number-of-employees-which-report-to-each-employee.sql\n"
   ]
  },
  {
   "cell_type": "code",
   "execution_count": null,
   "metadata": {},
   "outputs": [],
   "source": [
    "select e1.reports_to as employee_id,\n",
    "       e2.name,\n",
    "       count(e1.reports_to) as reports_count,\n",
    "       round(avg(e1.age),0) as average_age\n",
    "from employees e1\n",
    "join employees e2\n",
    "on e1.reports_to=e2.employee_id\n",
    "group by e1.reports_to\n",
    "order by e1.reports_to"
   ]
  },
  {
   "cell_type": "code",
   "execution_count": null,
   "metadata": {},
   "outputs": [],
   "source": [
    "# Write an SQL query to report the number of accounts that bought a subscription in 2021 but did not have any stream session.\n",
    "\n",
    "# The query result format is in the following example.\n",
    "\n",
    " "
   ]
  },
  {
   "cell_type": "code",
   "execution_count": null,
   "metadata": {},
   "outputs": [],
   "source": []
  },
  {
   "cell_type": "code",
   "execution_count": null,
   "metadata": {},
   "outputs": [],
   "source": []
  },
  {
   "cell_type": "code",
   "execution_count": null,
   "metadata": {},
   "outputs": [],
   "source": []
  },
  {
   "cell_type": "code",
   "execution_count": null,
   "metadata": {},
   "outputs": [],
   "source": [
    "# Write an SQL query to report the IDs of the candidates who have at least two years of experience and the sum of the score of their interview rounds is strictly greater than 15. check"
   ]
  },
  {
   "cell_type": "code",
   "execution_count": null,
   "metadata": {},
   "outputs": [],
   "source": [
    "SELECT candidate_id\n",
    "FROM\n",
    "    Candidates AS c\n",
    "    LEFT JOIN Rounds AS r ON c.interview_id = r.interview_id\n",
    "WHERE years_of_exp >= 2\n",
    "GROUP BY c.interview_id\n",
    "HAVING sum(score) > 15;"
   ]
  },
  {
   "cell_type": "code",
   "execution_count": null,
   "metadata": {},
   "outputs": [],
   "source": [
    "df=pd.merge('rounds','candidate',right_on=[\"interview_id\"],left_on=[\"interview_id\"],how=\"left\")\n",
    "df=df[df['year_of_exp']>=2]\n",
    "df.groubpy('interview_id').apply(lambda x:x['score'].sum()>15).reset_index()"
   ]
  },
  {
   "cell_type": "code",
   "execution_count": null,
   "metadata": {},
   "outputs": [],
   "source": [
    "df=candidate.join(rounds,candidate.interview_id==round.interview_id,how=\"left\")\n",
    "df.filter(col(\"year_of_exp\")>=2)\n",
    "df.groupby('interview').agg(sum(\"score\").alias(\"sum_score\")).filter(col(\"sum_score\")>15)"
   ]
  },
  {
   "cell_type": "code",
   "execution_count": null,
   "metadata": {},
   "outputs": [],
   "source": [
    "# Activity Participants\n"
   ]
  },
  {
   "cell_type": "code",
   "execution_count": null,
   "metadata": {},
   "outputs": [],
   "source": []
  },
  {
   "cell_type": "code",
   "execution_count": null,
   "metadata": {},
   "outputs": [],
   "source": []
  },
  {
   "cell_type": "code",
   "execution_count": null,
   "metadata": {},
   "outputs": [],
   "source": []
  },
  {
   "cell_type": "code",
   "execution_count": null,
   "metadata": {},
   "outputs": [],
   "source": [
    "# Ads Performance\n"
   ]
  },
  {
   "cell_type": "code",
   "execution_count": null,
   "metadata": {},
   "outputs": [],
   "source": []
  },
  {
   "cell_type": "code",
   "execution_count": null,
   "metadata": {},
   "outputs": [],
   "source": []
  },
  {
   "cell_type": "code",
   "execution_count": null,
   "metadata": {},
   "outputs": [],
   "source": []
  },
  {
   "cell_type": "code",
   "execution_count": null,
   "metadata": {},
   "outputs": [],
   "source": [
    "# New Users Daily Count\n"
   ]
  },
  {
   "cell_type": "code",
   "execution_count": null,
   "metadata": {},
   "outputs": [],
   "source": []
  },
  {
   "cell_type": "code",
   "execution_count": null,
   "metadata": {},
   "outputs": [],
   "source": []
  },
  {
   "cell_type": "code",
   "execution_count": null,
   "metadata": {},
   "outputs": [],
   "source": []
  },
  {
   "cell_type": "code",
   "execution_count": null,
   "metadata": {},
   "outputs": [],
   "source": [
    "# Students Report By Geography"
   ]
  },
  {
   "cell_type": "code",
   "execution_count": null,
   "metadata": {},
   "outputs": [],
   "source": []
  },
  {
   "cell_type": "code",
   "execution_count": null,
   "metadata": {},
   "outputs": [],
   "source": []
  },
  {
   "cell_type": "code",
   "execution_count": null,
   "metadata": {},
   "outputs": [],
   "source": []
  },
  {
   "cell_type": "code",
   "execution_count": null,
   "metadata": {},
   "outputs": [],
   "source": [
    "# users-that-actively-request-confirmation-messages.sql"
   ]
  },
  {
   "cell_type": "code",
   "execution_count": null,
   "metadata": {},
   "outputs": [],
   "source": [
    "SELECT\n",
    "DISTINCT c1.user_id As user_id\n",
    "FROM\n",
    "Confirmations AS c1\n",
    "JOIN\n",
    "Confirmations AS c2\n",
    "ON\n",
    "c1.user_id = c2.user_id\n",
    "WHERE\n",
    "c1.time_stamp < c2.time_stamp\n",
    "AND\n",
    "TIMESTAMPDIFF(SECOND, c1.time_stamp, c2.time_stamp) <  24*60*60\n",
    "ORDER BY user_id"
   ]
  },
  {
   "cell_type": "code",
   "execution_count": null,
   "metadata": {},
   "outputs": [],
   "source": []
  },
  {
   "cell_type": "code",
   "execution_count": null,
   "metadata": {},
   "outputs": [],
   "source": []
  },
  {
   "cell_type": "code",
   "execution_count": null,
   "metadata": {},
   "outputs": [],
   "source": [
    "## sort the olympic table"
   ]
  },
  {
   "cell_type": "code",
   "execution_count": null,
   "metadata": {},
   "outputs": [],
   "source": [
    "SELECT country, gold_medals, silver_medals, bronze_medals\n",
    "FROM Olympic\n",
    "ORDER BY gold_medals DESC, silver_medals DESC, bronze_medals DESC, country ASC;"
   ]
  },
  {
   "cell_type": "code",
   "execution_count": null,
   "metadata": {},
   "outputs": [],
   "source": [
    "olympic.sort_values(by=['gold_medals','silver_medal','bronze_medal','country'],ascending=[False,False,False,True])[['country','gold_medals','silver_medals','bronze_medals']]"
   ]
  },
  {
   "cell_type": "code",
   "execution_count": null,
   "metadata": {},
   "outputs": [],
   "source": [
    "olympics.orderBy([gold_medals,silver_medals,bronze_medals,country],ascending=[False,False,False,True]).select(\"country\",\"gold_medals\",\"silver_medals\",\"bronze_medals\")"
   ]
  },
  {
   "cell_type": "code",
   "execution_count": null,
   "metadata": {},
   "outputs": [],
   "source": [
    "## find the cut off score"
   ]
  },
  {
   "cell_type": "code",
   "execution_count": null,
   "metadata": {},
   "outputs": [],
   "source": [
    "sELECT school_id, IFNULL(min(score), -1) as score\n",
    "FROM Schools LEFT JOIN Exam ON capacity >= student_count\n",
    "GROUP BY school_id\n",
    "ORDER BY NULL;"
   ]
  },
  {
   "cell_type": "code",
   "execution_count": null,
   "metadata": {},
   "outputs": [],
   "source": [
    "df=pd.merge(schools,exam,right_on=[\"capcity\"],left_on=[\"student_count\"])\n",
    "df[df['capacity']>=df['student_count']]\n",
    "df.groupby('school_id')['score'].sum.fillna(-1).reset_index(name=\"score\").sort_values(na_position=True)"
   ]
  },
  {
   "cell_type": "code",
   "execution_count": null,
   "metadata": {},
   "outputs": [],
   "source": [
    "df=schools.join(exam,schools.)"
   ]
  },
  {
   "cell_type": "code",
   "execution_count": null,
   "metadata": {},
   "outputs": [],
   "source": [
    "# Find-Latest-Salaries/"
   ]
  },
  {
   "cell_type": "code",
   "execution_count": null,
   "metadata": {},
   "outputs": [],
   "source": [
    "SELECT\n",
    "\temp_id,\n",
    "\tfirstname,\n",
    "\tlastname,\n",
    "\tmax( salary ) AS salary,\n",
    "\tdepartment_id \n",
    "FROM\n",
    "\tSalary \n",
    "GROUP BY\n",
    "\temp_id \n",
    "ORDER BY\n",
    "\temp_id;"
   ]
  },
  {
   "cell_type": "code",
   "execution_count": null,
   "metadata": {},
   "outputs": [],
   "source": [
    "salary.groupby(['emp_id',\"firstname\",\"lastname\",\"department_id\"])[\"salary\"].max().sort_values(by=[\"emp_id\"],ascending=True).reset_index()"
   ]
  },
  {
   "cell_type": "code",
   "execution_count": null,
   "metadata": {},
   "outputs": [],
   "source": [
    "salary.groupby('emp_id','firstname','lastname','department_id').agg(sum(\"salary\")).sort(asc(\"emp_id\")).show()"
   ]
  },
  {
   "cell_type": "code",
   "execution_count": null,
   "metadata": {},
   "outputs": [],
   "source": [
    "# Find Customers With Positive Revenue this Year"
   ]
  },
  {
   "cell_type": "code",
   "execution_count": null,
   "metadata": {},
   "outputs": [],
   "source": [
    "SELECT\n",
    "    customer_id\n",
    "FROM Customers\n",
    "WHERE year = '2021' AND revenue > 0;"
   ]
  },
  {
   "cell_type": "code",
   "execution_count": null,
   "metadata": {},
   "outputs": [],
   "source": [
    "df=Customer.copy()\n",
    "df[((df['year']='2021')&(df['revenue']>0))]"
   ]
  },
  {
   "cell_type": "code",
   "execution_count": null,
   "metadata": {},
   "outputs": [],
   "source": [
    "Customers.select(year==2021 & revenue>0)"
   ]
  },
  {
   "cell_type": "code",
   "execution_count": null,
   "metadata": {},
   "outputs": [],
   "source": [
    "# Students-With-Invalid-Departments"
   ]
  },
  {
   "cell_type": "code",
   "execution_count": null,
   "metadata": {},
   "outputs": [],
   "source": [
    "\n",
    "SELECT id, name\n",
    "FROM Students\n",
    "WHERE department_id NOT IN (SELECT id FROM Departments);"
   ]
  },
  {
   "cell_type": "code",
   "execution_count": null,
   "metadata": {},
   "outputs": [],
   "source": [
    "merged-df=pd.merge(students,department,on=\"id\",how=\"left\",suffixes=('_left', '_right'))\n",
    "merged=merged_df[merged_df['value_right'].isnull()].drop('value_right', axis=1)\n",
    "merged[[\"id\",\"name\"]]\n"
   ]
  },
  {
   "cell_type": "code",
   "execution_count": null,
   "metadata": {},
   "outputs": [],
   "source": [
    "df=students.join(departments,students.id==departments.id,how=\"left\")\n",
    "df.select(\"id\",\"name\").show()"
   ]
  },
  {
   "cell_type": "code",
   "execution_count": null,
   "metadata": {},
   "outputs": [],
   "source": [
    "#  Second Day Verification\n",
    "# # "
   ]
  },
  {
   "cell_type": "code",
   "execution_count": null,
   "metadata": {},
   "outputs": [],
   "source": [
    "select user_id\n",
    "from email as e\n",
    "join text as t\n",
    "on e.email_id=t.email_id\n",
    "and datediff(action_date,signup_date)=1\n",
    "and signup_action='verified'\n",
    "order by user_id"
   ]
  },
  {
   "cell_type": "code",
   "execution_count": null,
   "metadata": {},
   "outputs": [],
   "source": [
    "df=pd.merge(email,text,right_on=[\"email_id\"],left_on=[\"email_id\"],how=\"inner\")\n",
    "df=df[df['signup_action']=='verified']\n",
    "df['difference']=df[df['action_date']-df['signup_date']]\n",
    "df['difference']=df[df['difference']==1]\n",
    "df['user_id'].sort_values(by=['user_id'])\n"
   ]
  },
  {
   "cell_type": "code",
   "execution_count": null,
   "metadata": {},
   "outputs": [],
   "source": [
    "df=email.join(text,email.email_id==text.email_di,how=\"inner\")\n",
    "df_1=df.filter(col(\"signup_action\")=='verified').show()\n",
    "df.withColumn(\"difference\",col(\"action_date\")-col(\"signup_date\"))\n",
    "df.filter(col(\"difference\")==1).sort(asc(\"user_id\")).show()"
   ]
  },
  {
   "cell_type": "code",
   "execution_count": null,
   "metadata": {},
   "outputs": [],
   "source": [
    "# Trips and Users\n"
   ]
  },
  {
   "cell_type": "code",
   "execution_count": null,
   "metadata": {},
   "outputs": [],
   "source": []
  },
  {
   "cell_type": "code",
   "execution_count": null,
   "metadata": {},
   "outputs": [],
   "source": []
  },
  {
   "cell_type": "code",
   "execution_count": null,
   "metadata": {},
   "outputs": [],
   "source": []
  },
  {
   "cell_type": "code",
   "execution_count": null,
   "metadata": {},
   "outputs": [],
   "source": [
    "# Consecutive Transactions with Increasing Amounts\n"
   ]
  },
  {
   "cell_type": "code",
   "execution_count": null,
   "metadata": {},
   "outputs": [],
   "source": []
  },
  {
   "cell_type": "code",
   "execution_count": null,
   "metadata": {},
   "outputs": [],
   "source": []
  },
  {
   "cell_type": "code",
   "execution_count": null,
   "metadata": {},
   "outputs": [],
   "source": []
  },
  {
   "cell_type": "code",
   "execution_count": null,
   "metadata": {},
   "outputs": [],
   "source": [
    "# Find All Unique Email Domains¶"
   ]
  },
  {
   "cell_type": "code",
   "execution_count": null,
   "metadata": {},
   "outputs": [],
   "source": [
    "SELECT\n",
    "  SUBSTRING_INDEX(email, '@', -1) AS email_domain,\n",
    "  COUNT(*) AS count\n",
    "FROM Emails\n",
    "WHERE email LIKE '%.com'\n",
    "GROUP BY 1\n",
    "ORDER BY 1;"
   ]
  },
  {
   "cell_type": "code",
   "execution_count": null,
   "metadata": {},
   "outputs": [],
   "source": [
    "df_com = Emails[Emails['email'].str.endswith('.com')]\n",
    "df_com['email_domain'] = df_com['email'].str.rsplit('@', n=1).str[-1]\n",
    "domain_counts = df_com.groupby('email_domain').size().reset_index(name='count')\n",
    "domain_counts = domain_counts.sort_values('email_domain')"
   ]
  },
  {
   "cell_type": "code",
   "execution_count": null,
   "metadata": {},
   "outputs": [],
   "source": [
    "df=emails.filter(col('email').endswith('com')).filter(split(col('email'), \"@\").getItem(-1).alias(\"email_domain\"))\n",
    "df.groupby(\"email_domain\").agg(count(col(\"*\")).alias(\"count\")).sort(desc(\"email_domain\")).show()\n"
   ]
  },
  {
   "cell_type": "code",
   "execution_count": null,
   "metadata": {},
   "outputs": [],
   "source": [
    "# leetcode_SQL/convert-date-format.sql"
   ]
  },
  {
   "cell_type": "code",
   "execution_count": null,
   "metadata": {},
   "outputs": [],
   "source": [
    "select to_char(day,'DD, Mon dd, YYYY') from days"
   ]
  },
  {
   "cell_type": "code",
   "execution_count": null,
   "metadata": {},
   "outputs": [],
   "source": [
    "days[days['day'].strftime(\"%d, %B %d,YYYY\")]"
   ]
  },
  {
   "cell_type": "code",
   "execution_count": null,
   "metadata": {},
   "outputs": [],
   "source": [
    "days.select(F.date_format('day', 'DD, MMM dd, YYYY').alias('formatted_date'))"
   ]
  },
  {
   "cell_type": "code",
   "execution_count": null,
   "metadata": {},
   "outputs": [],
   "source": [
    "# All People Report to the Given Manager\n"
   ]
  },
  {
   "cell_type": "code",
   "execution_count": null,
   "metadata": {},
   "outputs": [],
   "source": [
    "SELECT DISTINCT e1.employee_id\n",
    "FROM employees e1\n",
    "LEFT JOIN employees e2 ON e1.manager_id = e2.employee_id\n",
    "LEFT JOIN employees e3 ON e2.manager_id = e3.employee_id\n",
    "LEFT JOIN employees e4 ON e3.manager_id = e4.employee_id\n",
    "WHERE e4.manager_id IS NULL"
   ]
  },
  {
   "cell_type": "code",
   "execution_count": null,
   "metadata": {},
   "outputs": [],
   "source": [
    "SELECT e1.employee_id\n",
    "FROM\n",
    "    Employees AS e1\n",
    "    JOIN Employees AS e2 ON e1.manager_id = e2.employee_id\n",
    "    JOIN Employees AS e3 ON e2.manager_id = e3.employee_id\n",
    "WHERE e1.employee_id != 1 AND e3.manager_id = 1;"
   ]
  },
  {
   "cell_type": "code",
   "execution_count": null,
   "metadata": {},
   "outputs": [],
   "source": []
  },
  {
   "cell_type": "code",
   "execution_count": null,
   "metadata": {},
   "outputs": [],
   "source": []
  },
  {
   "cell_type": "code",
   "execution_count": null,
   "metadata": {},
   "outputs": [],
   "source": [
    "# 3056.Snaps Analysis\n"
   ]
  },
  {
   "cell_type": "code",
   "execution_count": null,
   "metadata": {},
   "outputs": [],
   "source": [
    "select age_bucket,round(100*sum(case when activity_type=\"send\" then time_spend else null end) as send),round(100*sum(case when activity_type=\"open\" then time_spend else 0 end) as open\n",
    "from activites join age using(user_id) group by 1;"
   ]
  },
  {
   "cell_type": "code",
   "execution_count": null,
   "metadata": {},
   "outputs": [],
   "source": []
  },
  {
   "cell_type": "code",
   "execution_count": null,
   "metadata": {},
   "outputs": [],
   "source": []
  },
  {
   "cell_type": "code",
   "execution_count": null,
   "metadata": {},
   "outputs": [],
   "source": [
    "#  Find Products with Three Consec\n"
   ]
  },
  {
   "cell_type": "code",
   "execution_count": null,
   "metadata": {},
   "outputs": [],
   "source": [
    "SELECT product_id, name FROM Products WHERE name REGEXP '(^|[^0-9])[0-9]{3}([^0-9]|$)' ORDER BY 1;"
   ]
  },
  {
   "cell_type": "code",
   "execution_count": null,
   "metadata": {},
   "outputs": [],
   "source": []
  },
  {
   "cell_type": "code",
   "execution_count": null,
   "metadata": {},
   "outputs": [],
   "source": []
  },
  {
   "cell_type": "code",
   "execution_count": null,
   "metadata": {},
   "outputs": [],
   "source": [
    "# Page Recommendations\n"
   ]
  },
  {
   "cell_type": "code",
   "execution_count": null,
   "metadata": {},
   "outputs": [],
   "source": []
  },
  {
   "cell_type": "code",
   "execution_count": null,
   "metadata": {},
   "outputs": [],
   "source": []
  },
  {
   "cell_type": "code",
   "execution_count": null,
   "metadata": {},
   "outputs": [],
   "source": []
  },
  {
   "cell_type": "code",
   "execution_count": null,
   "metadata": {},
   "outputs": [],
   "source": [
    "# Compute the Rank as a Percentage\n",
    "# # "
   ]
  },
  {
   "cell_type": "code",
   "execution_count": null,
   "metadata": {},
   "outputs": [],
   "source": []
  },
  {
   "cell_type": "code",
   "execution_count": null,
   "metadata": {},
   "outputs": [],
   "source": []
  },
  {
   "cell_type": "code",
   "execution_count": null,
   "metadata": {},
   "outputs": [],
   "source": []
  },
  {
   "cell_type": "code",
   "execution_count": null,
   "metadata": {},
   "outputs": [],
   "source": [
    "## total distanec travelled"
   ]
  },
  {
   "cell_type": "code",
   "execution_count": null,
   "metadata": {},
   "outputs": [],
   "source": [
    "SELECT user_id, name, IFNULL(SUM(distance), 0) AS 'traveled distance'\n",
    "FROM\n",
    "    Users\n",
    "    LEFT JOIN Rides USING (user_id)\n",
    "GROUP BY 1\n",
    "ORDER BY 1;"
   ]
  },
  {
   "cell_type": "code",
   "execution_count": null,
   "metadata": {},
   "outputs": [],
   "source": []
  },
  {
   "cell_type": "code",
   "execution_count": null,
   "metadata": {},
   "outputs": [],
   "source": [
    "#  Customers with Maximum Number of Transactions on Consecutive Days"
   ]
  },
  {
   "cell_type": "code",
   "execution_count": null,
   "metadata": {},
   "outputs": [],
   "source": [
    "with new_cte as(\n",
    "\n",
    "    select seat_id-row() over(order by seat_id) as r\n",
    "    from cinema\n",
    "    where free=1\n",
    "),new_cte1 as(\n",
    "\n",
    "    select min(seat_id),max(seat_id),count(1) as len,rank() over(order by count(1) desc) as consecutive_seat_len from t group by r)\n",
    "    SELECT first_seat_id, last_seat_id, consecutive_seats_len\n",
    "FROM P\n",
    "WHERE rk = 1\n",
    "ORDER BY 1;"
   ]
  },
  {
   "cell_type": "code",
   "execution_count": null,
   "metadata": {},
   "outputs": [],
   "source": []
  },
  {
   "cell_type": "code",
   "execution_count": null,
   "metadata": {},
   "outputs": [],
   "source": []
  },
  {
   "cell_type": "code",
   "execution_count": null,
   "metadata": {},
   "outputs": [],
   "source": [
    "# Calculate Parking Fees and Duration\n",
    "# # "
   ]
  },
  {
   "cell_type": "code",
   "execution_count": null,
   "metadata": {},
   "outputs": [],
   "source": []
  },
  {
   "cell_type": "code",
   "execution_count": null,
   "metadata": {},
   "outputs": [],
   "source": []
  },
  {
   "cell_type": "code",
   "execution_count": null,
   "metadata": {},
   "outputs": [],
   "source": []
  },
  {
   "cell_type": "code",
   "execution_count": null,
   "metadata": {},
   "outputs": [],
   "source": [
    "# Average Selling Price\n"
   ]
  },
  {
   "cell_type": "code",
   "execution_count": null,
   "metadata": {},
   "outputs": [],
   "source": [
    "select p.product_id, \n",
    "round(\n",
    "    (sum(price * units)::decimal / sum(units))\n",
    " , 2) as average_price\n",
    "from Prices p\n",
    "inner join UnitsSold us on p.product_id = us.product_id and \n",
    "    us.purchase_date between p.start_date and p.end_date\n",
    "group by p.product_id"
   ]
  },
  {
   "cell_type": "code",
   "execution_count": null,
   "metadata": {},
   "outputs": [],
   "source": []
  },
  {
   "cell_type": "code",
   "execution_count": null,
   "metadata": {},
   "outputs": [],
   "source": []
  },
  {
   "cell_type": "code",
   "execution_count": null,
   "metadata": {},
   "outputs": [],
   "source": [
    "# Order and Deliver/# 1251. Average Selling Price.sql"
   ]
  },
  {
   "cell_type": "code",
   "execution_count": null,
   "metadata": {},
   "outputs": [],
   "source": [
    "SELECT p.product_id, ROUND(SUM(u.units*p.price)/SUM(u.units),2) AS average_price\n",
    "FROM Prices p JOIN UnitsSold u USING(product_id)\n",
    "WHERE u.purchase_date BETWEEN p.start_date AND p.end_date\n",
    "GROUP BY 1\n",
    ";"
   ]
  },
  {
   "cell_type": "code",
   "execution_count": null,
   "metadata": {},
   "outputs": [],
   "source": [
    "df=pd.merge(price,unitsold,how=\"inner\",right_on=[\"product_id\"],left_on=[\"product_id\"])\n",
    "df[df['purchase_date']>='start_date')&(df['purchase_date']<='end_date')].groupby('product_id')['price'].apply(lambda x:x.sum/x.sum)"
   ]
  },
  {
   "cell_type": "code",
   "execution_count": null,
   "metadata": {},
   "outputs": [],
   "source": [
    "df=price.join(unitssold,price.product_id==unitssold.product_id,how=\"inner\")\n",
    "df.withColumn(\"sum_price\",col(\"units\")*col(\"price\"))\n",
    "df=df.filter(col(\"purchase_date\")>='start_date')&(col('purchase_date')<='end_date'))\n",
    "df.groupby(\"product_id\").agg(round(sum(\"sum_price\")/sum(\"units\").alias(\"average_price\"),2)).show()"
   ]
  },
  {
   "cell_type": "code",
   "execution_count": null,
   "metadata": {},
   "outputs": [],
   "source": [
    "# Top Three Wineries"
   ]
  },
  {
   "cell_type": "code",
   "execution_count": null,
   "metadata": {},
   "outputs": [],
   "source": [
    "SELECT winery, AVG(rating) AS average_rating \n",
    "FROM wine_reviews \n",
    "GROUP BY winery \n",
    "ORDER BY average_rating DESC \n",
    "LIMIT 3; "
   ]
  },
  {
   "cell_type": "code",
   "execution_count": null,
   "metadata": {},
   "outputs": [],
   "source": [
    "wine_reviews.groupby('winery')['rating'].mean().sort_values(ascending=False).reset_index()"
   ]
  },
  {
   "cell_type": "code",
   "execution_count": null,
   "metadata": {},
   "outputs": [],
   "source": [
    "wine_review.groupby('winer')..agg(avg(\"value\").alias(\"average\")).sort(desc(\"average\")).show()"
   ]
  },
  {
   "cell_type": "code",
   "execution_count": null,
   "metadata": {},
   "outputs": [],
   "source": [
    "# User Activity for the Past 30 Days II\n"
   ]
  },
  {
   "cell_type": "code",
   "execution_count": null,
   "metadata": {},
   "outputs": [],
   "source": [
    "SELECT IFNULL(ROUND(COUNT(DISTINCT session_id)/COUNT(DISTINCT user_id),2),0.00) AS average_sessions_per_user\n",
    "FROM Activity\n",
    "WHERE activity_date BETWEEN DATE_SUB(\"2019-07-27\",INTERVAL 29 DAY) AND \"2019-07-27\";"
   ]
  },
  {
   "cell_type": "code",
   "execution_count": null,
   "metadata": {},
   "outputs": [],
   "source": [
    "SELECT IFNULL(ROUND(COUNT(DISTINCT session_id) / COUNT(DISTINCT user_id), 2), 0.00) AS average_sessions_per_user\n",
    "FROM Activity\n",
    "WHERE DATEDIFF(\"2019-07-27\", activity_date) < 30;"
   ]
  },
  {
   "cell_type": "code",
   "execution_count": null,
   "metadata": {},
   "outputs": [],
   "source": []
  },
  {
   "cell_type": "code",
   "execution_count": null,
   "metadata": {},
   "outputs": [],
   "source": [
    "# Pizza Toppings Cost Analysis\n"
   ]
  },
  {
   "cell_type": "code",
   "execution_count": null,
   "metadata": {},
   "outputs": [],
   "source": [
    "SELECT CONCAT(t1.topping_name, \",\", t2.topping_name, \",\", t3.topping_name) AS pizza,\n",
    "\t   ROUND(t1.cost + t2.cost + t3.cost, 2) AS total_cost\n",
    "FROM Toppings t1\n",
    "INNER JOIN Toppings t2\n",
    "ON t1.topping_name < t2.topping_name\n",
    "INNER JOIN Toppings t3\n",
    "ON t2.topping_name < t3.topping_name\n",
    "ORDER BY 2 DESC, 1;"
   ]
  },
  {
   "cell_type": "code",
   "execution_count": null,
   "metadata": {},
   "outputs": [],
   "source": []
  },
  {
   "cell_type": "code",
   "execution_count": null,
   "metadata": {},
   "outputs": [],
   "source": []
  },
  {
   "cell_type": "code",
   "execution_count": null,
   "metadata": {},
   "outputs": [],
   "source": [
    "# Tree Node\n"
   ]
  },
  {
   "cell_type": "code",
   "execution_count": null,
   "metadata": {},
   "outputs": [],
   "source": []
  },
  {
   "cell_type": "code",
   "execution_count": null,
   "metadata": {},
   "outputs": [],
   "source": []
  },
  {
   "cell_type": "code",
   "execution_count": null,
   "metadata": {},
   "outputs": [],
   "source": []
  },
  {
   "cell_type": "code",
   "execution_count": null,
   "metadata": {},
   "outputs": [],
   "source": [
    "# Binary Tree Nodes\n"
   ]
  },
  {
   "cell_type": "code",
   "execution_count": null,
   "metadata": {},
   "outputs": [],
   "source": []
  },
  {
   "cell_type": "code",
   "execution_count": null,
   "metadata": {},
   "outputs": [],
   "source": []
  },
  {
   "cell_type": "code",
   "execution_count": null,
   "metadata": {},
   "outputs": [],
   "source": []
  },
  {
   "cell_type": "code",
   "execution_count": null,
   "metadata": {},
   "outputs": [],
   "source": [
    "#  Snaps Analysis\n"
   ]
  },
  {
   "cell_type": "code",
   "execution_count": null,
   "metadata": {},
   "outputs": [],
   "source": []
  },
  {
   "cell_type": "code",
   "execution_count": null,
   "metadata": {},
   "outputs": [],
   "source": []
  },
  {
   "cell_type": "code",
   "execution_count": null,
   "metadata": {},
   "outputs": [],
   "source": []
  },
  {
   "cell_type": "code",
   "execution_count": null,
   "metadata": {},
   "outputs": [],
   "source": [
    "# Find Circular Gift Exchange Chains\n"
   ]
  },
  {
   "cell_type": "code",
   "execution_count": null,
   "metadata": {},
   "outputs": [],
   "source": []
  },
  {
   "cell_type": "code",
   "execution_count": null,
   "metadata": {},
   "outputs": [],
   "source": []
  },
  {
   "cell_type": "code",
   "execution_count": null,
   "metadata": {},
   "outputs": [],
   "source": []
  },
  {
   "cell_type": "code",
   "execution_count": null,
   "metadata": {},
   "outputs": [],
   "source": [
    "#  Top Travellers."
   ]
  },
  {
   "cell_type": "code",
   "execution_count": null,
   "metadata": {},
   "outputs": [],
   "source": [
    "SELECT name, COALESCE(SUM(distance), 0) AS travelled_distance\n",
    "FROM Users u\n",
    "LEFT JOIN Rides r ON u.id = r.user_id\n",
    "GROUP BY u.id\n",
    "ORDER BY travelled_distance DESC, name ASC;"
   ]
  },
  {
   "cell_type": "code",
   "execution_count": null,
   "metadata": {},
   "outputs": [],
   "source": [
    "# Find Peak Calling Hours for Each City\n"
   ]
  },
  {
   "cell_type": "code",
   "execution_count": null,
   "metadata": {},
   "outputs": [],
   "source": [
    "with t as(select *,rank() over(partition by city order by cnt desc) rank from (select city,hour(call_time) as h,count(1) as cnt from calls group by 1,2)t)\n",
    "    select city\n",
    "    from t\n",
    "    where rank=1\n",
    "    order by 2 desc,1 desc"
   ]
  },
  {
   "cell_type": "code",
   "execution_count": null,
   "metadata": {},
   "outputs": [],
   "source": []
  },
  {
   "cell_type": "code",
   "execution_count": null,
   "metadata": {},
   "outputs": [],
   "source": []
  },
  {
   "cell_type": "code",
   "execution_count": null,
   "metadata": {},
   "outputs": [],
   "source": [
    "# Students With Invalid Departments"
   ]
  },
  {
   "cell_type": "code",
   "execution_count": null,
   "metadata": {},
   "outputs": [],
   "source": [
    "SELECT s.id, s.name \n",
    "FROM Students s \n",
    "# Because the SELECT information is from Student table\n",
    "    LEFT JOIN Departments d ON d.id = s.department_id\n",
    "WHERE d.name IS NULL"
   ]
  },
  {
   "cell_type": "code",
   "execution_count": null,
   "metadata": {},
   "outputs": [],
   "source": [
    "df=pd.merge(students,departments,right_on=[\"id\"],left_on=[\"department_id\"],how=\"inner\")\n",
    "df[df['name']..isnull()]"
   ]
  },
  {
   "cell_type": "code",
   "execution_count": null,
   "metadata": {},
   "outputs": [],
   "source": [
    "df=students.join(departments,students.id==departments.department_id,how=\"inner\")\n",
    "df.filter(col('name').isNull())"
   ]
  },
  {
   "cell_type": "code",
   "execution_count": null,
   "metadata": {},
   "outputs": [],
   "source": [
    "# Count Salary Categories"
   ]
  },
  {
   "cell_type": "code",
   "execution_count": null,
   "metadata": {},
   "outputs": [],
   "source": [
    "SELECT 'Low Salary' AS category,\n",
    "       COUNT(*) AS accounts_count\n",
    "FROM Accounts\n",
    "WHERE income < 20000\n",
    "UNION ALL\n",
    "SELECT 'Average Salary' AS category,\n",
    "       COUNT(*) AS accounts_count\n",
    "FROM Accounts\n",
    "WHERE income BETWEEN 20000 AND 50000\n",
    "UNION ALL\n",
    "SELECT 'High Salary' AS category,\n",
    "       COUNT(*) AS accounts_count\n",
    "FROM Accounts\n",
    "WHERE income > 50000;"
   ]
  },
  {
   "cell_type": "code",
   "execution_count": null,
   "metadata": {},
   "outputs": [],
   "source": []
  },
  {
   "cell_type": "code",
   "execution_count": null,
   "metadata": {},
   "outputs": [],
   "source": []
  },
  {
   "cell_type": "code",
   "execution_count": null,
   "metadata": {},
   "outputs": [],
   "source": [
    "    # Customer Purchasing Behavior Analysis\n"
   ]
  },
  {
   "cell_type": "code",
   "execution_count": null,
   "metadata": {},
   "outputs": [],
   "source": []
  },
  {
   "cell_type": "code",
   "execution_count": null,
   "metadata": {},
   "outputs": [],
   "source": []
  },
  {
   "cell_type": "code",
   "execution_count": null,
   "metadata": {},
   "outputs": [],
   "source": []
  },
  {
   "cell_type": "code",
   "execution_count": null,
   "metadata": {},
   "outputs": [],
   "source": [
    "# Calculate Trapping Rain Water"
   ]
  },
  {
   "cell_type": "code",
   "execution_count": null,
   "metadata": {},
   "outputs": [],
   "source": []
  },
  {
   "cell_type": "code",
   "execution_count": null,
   "metadata": {},
   "outputs": [],
   "source": []
  },
  {
   "cell_type": "code",
   "execution_count": null,
   "metadata": {},
   "outputs": [],
   "source": []
  },
  {
   "cell_type": "code",
   "execution_count": null,
   "metadata": {},
   "outputs": [],
   "source": [
    "# Premier League Table Ranking III\n"
   ]
  },
  {
   "cell_type": "code",
   "execution_count": null,
   "metadata": {},
   "outputs": [],
   "source": []
  },
  {
   "cell_type": "code",
   "execution_count": null,
   "metadata": {},
   "outputs": [],
   "source": []
  },
  {
   "cell_type": "code",
   "execution_count": null,
   "metadata": {},
   "outputs": [],
   "source": []
  },
  {
   "cell_type": "code",
   "execution_count": null,
   "metadata": {},
   "outputs": [],
   "source": [
    "# . Status of Flight Tickets\n"
   ]
  },
  {
   "cell_type": "code",
   "execution_count": null,
   "metadata": {},
   "outputs": [],
   "source": []
  },
  {
   "cell_type": "code",
   "execution_count": null,
   "metadata": {},
   "outputs": [],
   "source": []
  },
  {
   "cell_type": "code",
   "execution_count": null,
   "metadata": {},
   "outputs": [],
   "source": []
  },
  {
   "cell_type": "code",
   "execution_count": null,
   "metadata": {},
   "outputs": [],
   "source": [
    "# Premier League Table Ranking"
   ]
  },
  {
   "cell_type": "code",
   "execution_count": null,
   "metadata": {},
   "outputs": [],
   "source": []
  },
  {
   "cell_type": "code",
   "execution_count": null,
   "metadata": {},
   "outputs": [],
   "source": []
  },
  {
   "cell_type": "code",
   "execution_count": null,
   "metadata": {},
   "outputs": [],
   "source": []
  },
  {
   "cell_type": "code",
   "execution_count": null,
   "metadata": {},
   "outputs": [],
   "source": [
    "# Premier League Table Ranking II\n"
   ]
  },
  {
   "cell_type": "code",
   "execution_count": null,
   "metadata": {},
   "outputs": [],
   "source": []
  },
  {
   "cell_type": "code",
   "execution_count": null,
   "metadata": {},
   "outputs": [],
   "source": []
  },
  {
   "cell_type": "code",
   "execution_count": null,
   "metadata": {},
   "outputs": [],
   "source": []
  },
  {
   "cell_type": "code",
   "execution_count": null,
   "metadata": {},
   "outputs": [],
   "source": [
    "# Invalid Tweets\n"
   ]
  },
  {
   "cell_type": "code",
   "execution_count": null,
   "metadata": {},
   "outputs": [],
   "source": []
  },
  {
   "cell_type": "code",
   "execution_count": null,
   "metadata": {},
   "outputs": [],
   "source": []
  },
  {
   "cell_type": "code",
   "execution_count": null,
   "metadata": {},
   "outputs": [],
   "source": []
  },
  {
   "cell_type": "code",
   "execution_count": null,
   "metadata": {},
   "outputs": [],
   "source": [
    "## unique orders and customers per month"
   ]
  },
  {
   "cell_type": "code",
   "execution_count": null,
   "metadata": {},
   "outputs": [],
   "source": [
    "SELECT\n",
    "    DATE_FORMAT(order_date, '%Y-%m') AS month,\n",
    "    COUNT(order_id) AS order_count,\n",
    "    COUNT(DISTINCT customer_id) AS customer_count\n",
    "FROM Orders\n",
    "WHERE invoice > 20\n",
    "GROUP BY month;"
   ]
  },
  {
   "cell_type": "code",
   "execution_count": null,
   "metadata": {},
   "outputs": [],
   "source": [
    "df=Orders.copy()\n",
    "df['order_date']=pd.to_datetime(df['order_date'],errors=\"coerce\")\n",
    "df['month']=df['order_date'].dt.strftime(\"%y-%m\")\n",
    "df.groupby('month').agg(order_count={})"
   ]
  },
  {
   "cell_type": "code",
   "execution_count": null,
   "metadata": {},
   "outputs": [],
   "source": [
    "df.withColumn(\"month\",to_datetime(\"order_date\"))\n",
    "df.groupby(date_format(\"order_date\",\"%y-%m\")).agg(count(\"order_id\").alias(\"order_count\"),countDistinct(\"customer_id\").alias(\"customer_count\")).filter(col(\"invoice\")>20).show()"
   ]
  },
  {
   "cell_type": "code",
   "execution_count": null,
   "metadata": {},
   "outputs": [],
   "source": []
  },
  {
   "cell_type": "code",
   "execution_count": null,
   "metadata": {},
   "outputs": [],
   "source": [
    "## employees with missing information"
   ]
  },
  {
   "cell_type": "code",
   "execution_count": null,
   "metadata": {},
   "outputs": [],
   "source": []
  },
  {
   "cell_type": "code",
   "execution_count": null,
   "metadata": {},
   "outputs": [],
   "source": []
  },
  {
   "cell_type": "code",
   "execution_count": null,
   "metadata": {},
   "outputs": [],
   "source": []
  },
  {
   "cell_type": "code",
   "execution_count": null,
   "metadata": {},
   "outputs": [],
   "source": [
    "# Replace Employee ID With The Unique Identifier 👍¶"
   ]
  },
  {
   "cell_type": "code",
   "execution_count": null,
   "metadata": {},
   "outputs": [],
   "source": [
    "SELECT\n",
    "  EmployeeUNI.unique_id,\n",
    "  Employees.name\n",
    "FROM Employees\n",
    "LEFT JOIN EmployeeUNI\n",
    "  USING (id);"
   ]
  },
  {
   "cell_type": "code",
   "execution_count": null,
   "metadata": {},
   "outputs": [],
   "source": [
    "df=pd.merge(employees,employeeuni,right_on=[\"id\"],left_on=[\"id\"],how=\"left\")\n",
    "df[[\"employee_unique_id\",\"name\"]]"
   ]
  },
  {
   "cell_type": "code",
   "execution_count": null,
   "metadata": {},
   "outputs": [],
   "source": [
    "df=employee.alias(\"e1\").join(\"employees\",e1.id==employees_id,how=\"left\")\n",
    "df.select(col(\"unique_id\")).show()"
   ]
  },
  {
   "cell_type": "code",
   "execution_count": null,
   "metadata": {},
   "outputs": [],
   "source": [
    "# Convert Date Format\n"
   ]
  },
  {
   "cell_type": "code",
   "execution_count": null,
   "metadata": {},
   "outputs": [],
   "source": [
    "SELECT DATE_FORMAT(day, \"%W, %M %e, %Y\") AS day\n",
    "FROM Days;"
   ]
  },
  {
   "cell_type": "code",
   "execution_count": null,
   "metadata": {},
   "outputs": [],
   "source": [
    "days['day']=days.dt.strftime(\"%W,%M,%e,%Y\")\n"
   ]
  },
  {
   "cell_type": "code",
   "execution_count": null,
   "metadata": {},
   "outputs": [],
   "source": [
    "days.withColumn(\"days\",date_format(\"date\",\"%W,%M,%e,%Y\"))"
   ]
  },
  {
   "cell_type": "code",
   "execution_count": null,
   "metadata": {},
   "outputs": [],
   "source": [
    "## Invalid tweets"
   ]
  },
  {
   "cell_type": "code",
   "execution_count": null,
   "metadata": {},
   "outputs": [],
   "source": [
    "select tweet_id\n",
    "from Tweets\n",
    "where length(content) > 15;"
   ]
  },
  {
   "cell_type": "code",
   "execution_count": null,
   "metadata": {},
   "outputs": [],
   "source": [
    "tweets['content'].apply(lambda x:len(x)>15)"
   ]
  },
  {
   "cell_type": "code",
   "execution_count": null,
   "metadata": {},
   "outputs": [],
   "source": [
    "tweets.agg(len(content).alias(\"length\")).filter(col(\"length\")>15).show()"
   ]
  },
  {
   "cell_type": "code",
   "execution_count": null,
   "metadata": {},
   "outputs": [],
   "source": [
    "# Invalid Tweets II"
   ]
  },
  {
   "cell_type": "code",
   "execution_count": null,
   "metadata": {},
   "outputs": [],
   "source": [
    "    SELECT tweet_id\n",
    "FROM Tweets\n",
    "WHERE\n",
    "    LENGTH(content) > 140\n",
    "    OR (LENGTH(content) - LENGTH(REPLACE(content, '@', ''))) > 3\n",
    "    OR (LENGTH(content) - LENGTH(REPLACE(content, '#', ''))) > 3\n",
    "ORDER BY 1;"
   ]
  },
  {
   "cell_type": "code",
   "execution_count": null,
   "metadata": {},
   "outputs": [],
   "source": [
    "def find_invalid_tweets(tweets: pd.DataFrame) -> pd.DataFrame:\n",
    "    invalid_tweets = tweets[\n",
    "        (tweets[\"content\"].str.len() > 140)\n",
    "        | (tweets[\"content\"].str.count(\"@\") > 3)\n",
    "        | (tweets[\"content\"].str.count(\"#\") > 3)\n",
    "    ].sort_values(by=\"tweet_id\")\n",
    "    return invalid_tweets[[\"tweet_id\"]]"
   ]
  },
  {
   "cell_type": "code",
   "execution_count": null,
   "metadata": {},
   "outputs": [],
   "source": [
    "def filter_tweets(df):\n",
    " \n",
    "\n",
    "  filtered_df = df.filter(\n",
    "      (F.length('content') > 140) |\n",
    "      (F.length('content') - F.length(F.regexp_replace('content', '@', '')) > 3) |\n",
    "      (F.length('content') - F.length(F.regexp_replace('content', '#', '')) > 3)\n",
    "  )\n",
    "\n",
    "  return filtered_df\n",
    "\n",
    "# Assuming 'df' is your Spark DataFrame containing the tweets data\n",
    "filtered_tweets_df = filter_tweets(df)\n",
    "\n",
    "# Select 'tweet_id' and order by it\n",
    "result_df = filtered_tweets_df.select('tweet_id').orderBy('tweet_id')\n",
    "\n",
    "# Show the results\n",
    "result_df.show()"
   ]
  },
  {
   "cell_type": "code",
   "execution_count": null,
   "metadata": {},
   "outputs": [],
   "source": [
    "#  Find Longest Calls\n"
   ]
  },
  {
   "cell_type": "code",
   "execution_count": null,
   "metadata": {},
   "outputs": [],
   "source": []
  },
  {
   "cell_type": "code",
   "execution_count": null,
   "metadata": {},
   "outputs": [],
   "source": []
  },
  {
   "cell_type": "code",
   "execution_count": null,
   "metadata": {},
   "outputs": [],
   "source": []
  },
  {
   "cell_type": "code",
   "execution_count": null,
   "metadata": {},
   "outputs": [],
   "source": [
    "# Movie Rating\n"
   ]
  },
  {
   "cell_type": "code",
   "execution_count": null,
   "metadata": {},
   "outputs": [],
   "source": []
  },
  {
   "cell_type": "code",
   "execution_count": null,
   "metadata": {},
   "outputs": [],
   "source": []
  },
  {
   "cell_type": "code",
   "execution_count": null,
   "metadata": {},
   "outputs": [],
   "source": []
  },
  {
   "cell_type": "code",
   "execution_count": null,
   "metadata": {},
   "outputs": [],
   "source": [
    "# Running Total for Different Genders 🔒"
   ]
  },
  {
   "cell_type": "code",
   "execution_count": null,
   "metadata": {},
   "outputs": [],
   "source": [
    "select gender,day,sum(score_points) over(partition by gender order by gender,day) as total from scores;"
   ]
  },
  {
   "cell_type": "code",
   "execution_count": null,
   "metadata": {},
   "outputs": [],
   "source": [
    "total.groupby(['gender','day'])['score_points'].cumsum().reset_index()"
   ]
  },
  {
   "cell_type": "code",
   "execution_count": null,
   "metadata": {},
   "outputs": [],
   "source": [
    "df.withColumn(\"total\",sum(\"score_points\").over(partition by gender order by gender,day))\n",
    "df.select(\"gender\",\"day\")\n"
   ]
  },
  {
   "cell_type": "code",
   "execution_count": null,
   "metadata": {},
   "outputs": [],
   "source": [
    "# leetcode/SQL/1075. Project Employees I.sql"
   ]
  },
  {
   "cell_type": "code",
   "execution_count": null,
   "metadata": {},
   "outputs": [],
   "source": [
    "select project_id , round(avg(experience_years), 2) as average_years\n",
    "from project as p\n",
    "left join employee as e\n",
    "on p.employee_id = e.employee_id\n",
    "group by project_id"
   ]
  },
  {
   "cell_type": "code",
   "execution_count": null,
   "metadata": {},
   "outputs": [],
   "source": [
    "df=pd.merge(project,employee,right_on=\"employee_id\",left_on=\"employee_id\",how=\"left\")\n",
    "df.groupby(\"project_id\")[\"experince_years\"].mean().round().reset_index()"
   ]
  },
  {
   "cell_type": "code",
   "execution_count": null,
   "metadata": {},
   "outputs": [],
   "source": [
    "df=project.join(employee,project.employee_id==employee.employee_id,on=\"left\")\n",
    "df.groupby(\"project_id\").agg(round(mean(col(\"experience_years\")),2)).show()"
   ]
  },
  {
   "cell_type": "code",
   "execution_count": null,
   "metadata": {},
   "outputs": [],
   "source": [
    "# Fill Missing Client Data [Accenture SQL Interview Question]"
   ]
  },
  {
   "cell_type": "code",
   "execution_count": null,
   "metadata": {},
   "outputs": [],
   "source": [
    "WITH RECURSIVE cte_a AS \n",
    "(\n",
    "SELECT \n",
    "product_id, name, category\n",
    "FROM products\n",
    "\n",
    "WHERE category IS NOT NULL\n",
    "\n",
    "UNION ALL\n",
    "\n",
    "SELECT p.product_id, p.name, a.category\n",
    "FROM products p\n",
    "JOIN cte_a a ON p.product_id = a.product_id + 1\n",
    "WHERE p.category IS NULL\n",
    ")\n",
    "\n",
    "SELECT product_id, category, name FROM  cte_a\n",
    "ORDER BY product_id ASC"
   ]
  },
  {
   "cell_type": "code",
   "execution_count": null,
   "metadata": {},
   "outputs": [],
   "source": []
  },
  {
   "cell_type": "code",
   "execution_count": null,
   "metadata": {},
   "outputs": [],
   "source": []
  },
  {
   "cell_type": "code",
   "execution_count": null,
   "metadata": {},
   "outputs": [],
   "source": [
    "# countries-you-can-safely-invest-in.sql"
   ]
  },
  {
   "cell_type": "code",
   "execution_count": null,
   "metadata": {},
   "outputs": [],
   "source": [
    "SELECT co.name AS country\n",
    "FROM person p\n",
    "INNER JOIN country co ON SUBSTRING(phone_number, 1, 3) = country_code\n",
    "INNER JOIN calls c ON (p.id = c.caller_id OR p.id = c.callee_id)\n",
    "GROUP BY co.name\n",
    "HAVING AVG(duration) > (SELECT AVG(duration) as avg_duration FROM calls)\n",
    "ORDER BY NULL;"
   ]
  },
  {
   "cell_type": "code",
   "execution_count": null,
   "metadata": {},
   "outputs": [],
   "source": []
  },
  {
   "cell_type": "code",
   "execution_count": null,
   "metadata": {},
   "outputs": [],
   "source": []
  },
  {
   "cell_type": "code",
   "execution_count": null,
   "metadata": {},
   "outputs": [],
   "source": [
    "# Investments in 2016\n"
   ]
  },
  {
   "cell_type": "code",
   "execution_count": null,
   "metadata": {},
   "outputs": [],
   "source": []
  },
  {
   "cell_type": "code",
   "execution_count": null,
   "metadata": {},
   "outputs": [],
   "source": []
  },
  {
   "cell_type": "code",
   "execution_count": null,
   "metadata": {},
   "outputs": [],
   "source": []
  },
  {
   "cell_type": "code",
   "execution_count": null,
   "metadata": {},
   "outputs": [],
   "source": [
    "# Customers Who Bought All Products"
   ]
  },
  {
   "cell_type": "code",
   "execution_count": null,
   "metadata": {},
   "outputs": [],
   "source": [
    "select customer_id\n",
    "from customers\n",
    "group by customer_di\n",
    "having count(distinct product_id)=(select count(distinct product_key) from product) order by null"
   ]
  },
  {
   "cell_type": "code",
   "execution_count": null,
   "metadata": {},
   "outputs": [],
   "source": [
    "df=pd.merge(customers,products,right_on=[\"customer_id\"],left_on=[\"product_id\"],how=\"left\")\n",
    "df.groupby('customer_id')"
   ]
  },
  {
   "cell_type": "code",
   "execution_count": null,
   "metadata": {},
   "outputs": [],
   "source": [
    "#  Customers Who Bought All Products"
   ]
  },
  {
   "cell_type": "code",
   "execution_count": null,
   "metadata": {},
   "outputs": [],
   "source": []
  },
  {
   "cell_type": "code",
   "execution_count": null,
   "metadata": {},
   "outputs": [],
   "source": [
    "# Employees Whose Manager Left the Company"
   ]
  },
  {
   "cell_type": "code",
   "execution_count": null,
   "metadata": {},
   "outputs": [],
   "source": []
  },
  {
   "cell_type": "code",
   "execution_count": null,
   "metadata": {},
   "outputs": [],
   "source": []
  },
  {
   "cell_type": "code",
   "execution_count": null,
   "metadata": {},
   "outputs": [],
   "source": []
  },
  {
   "cell_type": "code",
   "execution_count": null,
   "metadata": {},
   "outputs": [],
   "source": [
    "# LeetCode/Customer Placing the Largest Number of Orders.sql"
   ]
  },
  {
   "cell_type": "code",
   "execution_count": null,
   "metadata": {},
   "outputs": [],
   "source": [
    "SELECT customer_number \n",
    "FROM orders\n",
    "GROUP BY customer_number\n",
    "ORDER BY COUNT(customer_number) DESC \n",
    "LIMIT 1;"
   ]
  },
  {
   "cell_type": "code",
   "execution_count": null,
   "metadata": {},
   "outputs": [],
   "source": [
    "orders.groupby(\"customer\").size().sort_values(ascending=False).reset_index(name=\"customer_number\").head(1)"
   ]
  },
  {
   "cell_type": "code",
   "execution_count": null,
   "metadata": {},
   "outputs": [],
   "source": [
    "orders.groupby(\"customer\").agg(count(col(\"*\")).alias(\"total_count\")).sort(desc(\"total_count\")).select(\"customer_number\").limit(1).show()"
   ]
  },
  {
   "cell_type": "code",
   "execution_count": null,
   "metadata": {},
   "outputs": [],
   "source": [
    "# employees earning more than their managers"
   ]
  },
  {
   "cell_type": "code",
   "execution_count": null,
   "metadata": {},
   "outputs": [],
   "source": [
    "SELECT e.id, e.name, e.salary, e.managerId\n",
    "FROM Employees e\n",
    "JOIN Employees m ON e.managerId = m.id\n",
    "WHERE e.salary > m.salary;"
   ]
  },
  {
   "cell_type": "code",
   "execution_count": null,
   "metadata": {},
   "outputs": [],
   "source": [
    "df=pd.merge(employee,employee,right_on=[\"manager_id\"],left_on=[\"id\"],how=\"inner\",suffix=('_x','_y'))\n",
    "df[df['salary_x']>df_['salary_y']][['id_x','name_x','manager_id_y']]"
   ]
  },
  {
   "cell_type": "code",
   "execution_count": null,
   "metadata": {},
   "outputs": [],
   "source": [
    "df=employee.alias(\"e1\").join(employee.alias(\"e2\"),e1.manager_id==e2.id,how=\"inner\")\n",
    "df.filter(col(\"salary_x\")>col(\"salary_y\")).select(\"id\",\"name\",\"manager_id\")"
   ]
  },
  {
   "cell_type": "code",
   "execution_count": null,
   "metadata": {},
   "outputs": [],
   "source": [
    "# Last Person to Fit in the Bus"
   ]
  },
  {
   "cell_type": "code",
   "execution_count": null,
   "metadata": {},
   "outputs": [],
   "source": [
    "select * from queue q1 join queue q2 on q1.turn>=q2.turn\n",
    "group by q1.turn\n",
    "having sum(q2.weight)<=1000\n",
    "order by q1.turn dec\n",
    "limit 1"
   ]
  },
  {
   "cell_type": "code",
   "execution_count": null,
   "metadata": {},
   "outputs": [],
   "source": [
    "merged = queue.alias(\"q1\").join(queue.alias(\"q2\"), col(\"q1.turn\") >= col(\"q2.turn\"))\n",
    "\n",
    "# Step 2: Group by `q1.turn` and calculate the sum of `q2.weight`\n",
    "grouped = merged.groupBy(\"q1.turn\").agg(spark_sum(col(\"q2.weight\")).alias(\"total_weight\"))\n",
    "\n",
    "# Step 3: Filter where `total_weight <= 1000` (having clause)\n",
    "filtered = grouped.filter(col(\"total_weight\") <= 1000)\n",
    "result = filtered.orderBy(col(\"q1.turn\").desc()).limit(1)\n",
    "\n",
    "# Display the result\n",
    "result.show()"
   ]
  },
  {
   "cell_type": "code",
   "execution_count": null,
   "metadata": {},
   "outputs": [],
   "source": [
    "merged = pd.merge(queue, queue, how='inner', suffixes=('_q1', '_q2'))\n",
    "\n",
    "# Filter based on the condition `turn_q1 >= turn_q2`\n",
    "filtered = merged[merged['turn_q1'] >= merged['turn_q2']]\n",
    "\n",
    "# Group by `turn_q1` and calculate the sum of weights for `q2`\n",
    "grouped = filtered.groupby('turn_q1').agg(total_weight=('weight_q2', 'sum'))\n",
    "\n",
    "# Apply the `having` clause (`sum(q2.weight) <= 1000`)\n",
    "final_result = grouped[grouped['total_weight'] <= 1000]\n",
    "\n",
    "# Sort the results and select the top row (`limit 1`)\n",
    "result = final_result.sort_index(ascending=False).head(1)"
   ]
  },
  {
   "cell_type": "code",
   "execution_count": null,
   "metadata": {},
   "outputs": [],
   "source": []
  },
  {
   "cell_type": "code",
   "execution_count": null,
   "metadata": {},
   "outputs": [],
   "source": [
    "# leetcode/SQL/584. Find Customer Referee.sql"
   ]
  },
  {
   "cell_type": "code",
   "execution_count": null,
   "metadata": {},
   "outputs": [],
   "source": [
    "select name\n",
    "from customer\n",
    "where referee_id != 2 or referee_id is NULL"
   ]
  },
  {
   "cell_type": "code",
   "execution_count": null,
   "metadata": {},
   "outputs": [],
   "source": [
    "customer[(customer['referee_id']!=2)&(customer['referee_id'].notnull())]"
   ]
  },
  {
   "cell_type": "code",
   "execution_count": null,
   "metadata": {},
   "outputs": [],
   "source": [
    "customer.filter(col('refere_id')!=2)&(col('referee_id').isNotNull()).select(\"name\")"
   ]
  },
  {
   "cell_type": "code",
   "execution_count": null,
   "metadata": {},
   "outputs": [],
   "source": [
    "# Calculate the Influence of Each Salesperson"
   ]
  },
  {
   "cell_type": "code",
   "execution_count": null,
   "metadata": {},
   "outputs": [],
   "source": []
  },
  {
   "cell_type": "code",
   "execution_count": null,
   "metadata": {},
   "outputs": [],
   "source": []
  },
  {
   "cell_type": "code",
   "execution_count": null,
   "metadata": {},
   "outputs": [],
   "source": []
  },
  {
   "cell_type": "code",
   "execution_count": null,
   "metadata": {},
   "outputs": [],
   "source": [
    "# Count Occurrences in Text"
   ]
  },
  {
   "cell_type": "code",
   "execution_count": null,
   "metadata": {},
   "outputs": [],
   "source": [
    "SELECT 'bull' AS word, count(*) AS count\n",
    "FROM Files\n",
    "WHERE content LIKE '% bull %'\n",
    "UNION\n",
    "SELECT 'bear' AS word, count(*) AS count\n",
    "FROM Files\n",
    "WHERE content LIKE '% bear %';"
   ]
  },
  {
   "cell_type": "code",
   "execution_count": null,
   "metadata": {},
   "outputs": [],
   "source": [
    "import pandas as pd\n",
    "\n",
    "def count_word_occurrences(df, word):\n",
    " \n",
    "  return pd.Series({word: df[df['content'].str.contains(f\" {word} \")]['content'].count()})\n",
    "\n",
    "# Assuming 'Files' is your pandas DataFrame\n",
    "df_bull = count_word_occurrences(Files, 'bull')\n",
    "df_bear = count_word_occurrences(Files, 'bear')\n",
    "\n",
    "# Concatenate the results into a single DataFrame\n",
    "result_df = pd.concat([df_bull, df_bear], axis=0).reset_index().rename(columns={'index': 'word', 0: 'count'})\n",
    "\n",
    "print(result_df)"
   ]
  },
  {
   "cell_type": "code",
   "execution_count": null,
   "metadata": {},
   "outputs": [],
   "source": [
    "from pyspark.sql import functions as F\n",
    "\n",
    "def count_words(df, word):\n",
    "  return df.filter(F.col(\"content\").like(f\"% {word} %\")).select(F.lit(word).alias(\"word\"), F.count(\"*\").alias(\"count\"))\n",
    "\n",
    "# Assuming 'Files' is your Spark DataFrame\n",
    "df_bull = count_words(Files, \"bull\")\n",
    "df_bear = count_words(Files, \"bear\")\n",
    "\n",
    "# Union the results\n",
    "result_df = df_bull.union(df_bear)\n",
    "\n",
    "# Show the results"
   ]
  },
  {
   "cell_type": "code",
   "execution_count": null,
   "metadata": {},
   "outputs": [],
   "source": [
    "# fix-product-name-format.sql"
   ]
  },
  {
   "cell_type": "code",
   "execution_count": null,
   "metadata": {},
   "outputs": [],
   "source": [
    "SELECT LOWER(TRIM(product_name)) product_name,\n",
    "       substring(sale_date, 1, 7) sale_date,\n",
    "       count(sale_id) total\n",
    "FROM sales\n",
    "GROUP BY 1, 2\n",
    "ORDER BY 1, 2;      "
   ]
  },
  {
   "cell_type": "code",
   "execution_count": null,
   "metadata": {},
   "outputs": [],
   "source": []
  },
  {
   "cell_type": "code",
   "execution_count": null,
   "metadata": {},
   "outputs": [],
   "source": []
  },
  {
   "cell_type": "code",
   "execution_count": null,
   "metadata": {},
   "outputs": [],
   "source": [
    "# Average Time of Process per Machine\n"
   ]
  },
  {
   "cell_type": "code",
   "execution_count": null,
   "metadata": {},
   "outputs": [],
   "source": [
    "SELECT s.machine_id, ROUND(AVG(e.timestamp-s.timestamp), 3) AS processing_time\n",
    "FROM Activity s JOIN Activity e ON\n",
    "    s.machine_id = e.machine_id AND s.process_id = e.process_id AND\n",
    "    s.activity_type = 'start' AND e.activity_type = 'end'\n",
    "GROUP BY s.machine_id;"
   ]
  },
  {
   "cell_type": "code",
   "execution_count": null,
   "metadata": {},
   "outputs": [],
   "source": [
    "df=pd.merge(activity,activity,right_on=[\"machine_id\"],left_on=[\"machine_id\"],how=\"inner\")\n",
    "df=df[df['activity_type'=='start']&(df['activity_type']='end')]\n",
    "df.groupby('machine_id').apply(lambda x:(x['timestamp']-x['s_time_stamp']).mean().round(decimal=3).reset_index(name=\"processingtime\")"
   ]
  },
  {
   "cell_type": "code",
   "execution_count": null,
   "metadata": {},
   "outputs": [],
   "source": [
    "df=activity.alias(\"e1\").join(activity.alias(\"e2\"),e1.machine_id==e2.machine_id,how=\"inner\")\n",
    "df=df.filter(col('activity_type')=='start')(col('activity_type')=='emd')\n",
    "df.withColumn('difference',col('e1_timestamp')-col(\"s_time_stamp\"))\n",
    "df.groupby(\"machine_id\").agg(mean(col(\"difference\"))).show()"
   ]
  },
  {
   "cell_type": "code",
   "execution_count": null,
   "metadata": {},
   "outputs": [],
   "source": [
    "# Group Employees of the Same Salary\n"
   ]
  },
  {
   "cell_type": "code",
   "execution_count": null,
   "metadata": {},
   "outputs": [],
   "source": [
    "SELECT\n",
    "    salary,\n",
    "    GROUP_CONCAT(name ORDER BY name SEPARATOR ',') AS employees\n",
    "FROM\n",
    "    Employees\n",
    "GROUP BY\n",
    "    salary;"
   ]
  },
  {
   "cell_type": "code",
   "execution_count": null,
   "metadata": {},
   "outputs": [],
   "source": [
    "df.groupby('salary')['name'].apply(lambda x: ','.join(sorted(x))).reset_index(name='employees')"
   ]
  },
  {
   "cell_type": "code",
   "execution_count": null,
   "metadata": {},
   "outputs": [],
   "source": [
    "df.withColumn(\n",
    "    \"employees\", \n",
    "    F.concat_ws(\",\", F.sort_array(F.col(\"names\"), asc=True).getField(\"name\"))\n",
    ").show()"
   ]
  },
  {
   "cell_type": "code",
   "execution_count": null,
   "metadata": {},
   "outputs": [],
   "source": [
    "    # The Latest Login in 2020\n"
   ]
  },
  {
   "cell_type": "code",
   "execution_count": null,
   "metadata": {},
   "outputs": [],
   "source": [
    "SELECT user_id,\n",
    "       MAX(time_stamp) AS last_stamp\n",
    "FROM Logins\n",
    "WHERE YEAR(time_stamp) = 2020\n",
    "GROUP BY user_id\n",
    "ORDER BY NULL;"
   ]
  },
  {
   "cell_type": "code",
   "execution_count": null,
   "metadata": {},
   "outputs": [],
   "source": [
    "df=login.copy()\n",
    "df[df['year'].dt.year==2020].groupby(\"user_id\")[\"time_stamp\"].max().sort_value(nna_position='first').reset_index()\n"
   ]
  },
  {
   "cell_type": "code",
   "execution_count": null,
   "metadata": {},
   "outputs": [],
   "source": [
    "df.withColumn(\"time_stamp\", F.to_timestamp(\"time_stamp\"))\n",
    "df=logins.filter(year(col('time_stamp')==2020)).groupby('user_id').agg(max(col(\"time_stamp\"))).show()\n",
    "df.orderBy(F.lit(None))"
   ]
  },
  {
   "cell_type": "code",
   "execution_count": null,
   "metadata": {},
   "outputs": [],
   "source": [
    "# Consecutive Numbers\n"
   ]
  },
  {
   "cell_type": "code",
   "execution_count": null,
   "metadata": {},
   "outputs": [],
   "source": []
  },
  {
   "cell_type": "code",
   "execution_count": null,
   "metadata": {},
   "outputs": [],
   "source": []
  },
  {
   "cell_type": "code",
   "execution_count": null,
   "metadata": {},
   "outputs": [],
   "source": []
  },
  {
   "cell_type": "code",
   "execution_count": null,
   "metadata": {},
   "outputs": [],
   "source": [
    "##product price for each store"
   ]
  },
  {
   "cell_type": "code",
   "execution_count": null,
   "metadata": {},
   "outputs": [],
   "source": [
    "SELECT\n",
    "  product_id,\n",
    "  MAX(CASE WHEN store = 'store1' THEN price END) AS store1,\n",
    "  MAX(CASE WHEN store = 'store2' THEN price END) AS store2,\n",
    "  MAX(CASE WHEN store = 'store3' THEN price END) AS store3\n",
    "FROM Products\n",
    "GROUP BY 1\n",
    "ORDER BY NULL;"
   ]
  },
  {
   "cell_type": "code",
   "execution_count": null,
   "metadata": {},
   "outputs": [],
   "source": [
    "df.groupby('product_id').agg(\n",
    "        store1=('price', lambda x: x[df['store'] == 'store1'].max()),\n",
    "        store2=('price', lambda x: x[df['store'] == 'store2'].max()),\n",
    "        store3=('price', lambda x: x[df['store'] == 'store3'].max())\n",
    "    )"
   ]
  },
  {
   "cell_type": "code",
   "execution_count": null,
   "metadata": {},
   "outputs": [],
   "source": [
    "df.groupby('product-id').agg(max(when(col(df['stotre']=='store1').a==,max(when(col('store')=='store2').alias(\"store2\")),max(when(col('store')=='store3').alias(\"store3\")))))"
   ]
  },
  {
   "cell_type": "code",
   "execution_count": null,
   "metadata": {},
   "outputs": [],
   "source": [
    "## top traveller"
   ]
  },
  {
   "cell_type": "code",
   "execution_count": null,
   "metadata": {},
   "outputs": [],
   "source": [
    "SELECT name, IFNULL(SUM(distance),0) AS travelled_distance\n",
    "FROM Users u\n",
    "LEFT JOIN Rides r ON u.id = r.user_id\n",
    "GROUP BY u.id\n",
    "ORDER BY travelled_distance DESC, name ASC"
   ]
  },
  {
   "cell_type": "code",
   "execution_count": null,
   "metadata": {},
   "outputs": [],
   "source": [
    "df=pd.merge(users,rides,right_on=[\"id\"],left_0n=[\"user_id\"],how=\"left\")\n",
    "df_1=df.groupby(\"id\")[\"distance\"].sum().reset_index()\n",
    "df_1=df_1.fillna(0)\n",
    "df_1.sort_values(by=['travelled_distance','name'],ascending=[False,True])"
   ]
  },
  {
   "cell_type": "code",
   "execution_count": null,
   "metadata": {},
   "outputs": [],
   "source": [
    "df=users.join(rides,users.id==rides.user_id,how=\"left\")\n",
    "df_1=df.groupby('id').agg(sum(col(\"distance\"))).show()\n",
    "df_1.fillna(0,subset=['distance'])\n",
    "df_1.orderBy(['travelled_distance','name'],ascending=[False,True])"
   ]
  },
  {
   "cell_type": "code",
   "execution_count": null,
   "metadata": {},
   "outputs": [],
   "source": [
    "# Number-of-Rich-Customers/"
   ]
  },
  {
   "cell_type": "code",
   "execution_count": null,
   "metadata": {},
   "outputs": [],
   "source": [
    "SELECT\n",
    "    COUNT(DISTINCT(customer_id)) AS rich_count\n",
    "FROM\n",
    "    Store\n",
    "WHERE\n",
    "    amount > 500;"
   ]
  },
  {
   "cell_type": "code",
   "execution_count": null,
   "metadata": {},
   "outputs": [],
   "source": [
    "df=store[store['amount']>500]\n",
    "df['customer_id'].nunique()"
   ]
  },
  {
   "cell_type": "code",
   "execution_count": null,
   "metadata": {},
   "outputs": [],
   "source": [
    "df=store.filter(col(\"amount\")>500)\n",
    "df.select(countDistinct(\"customer_id\")).show()"
   ]
  },
  {
   "cell_type": "code",
   "execution_count": null,
   "metadata": {},
   "outputs": [],
   "source": [
    "# Manager of the Largest Department\n"
   ]
  },
  {
   "cell_type": "code",
   "execution_count": null,
   "metadata": {},
   "outputs": [],
   "source": [
    "with temp_table as(\n",
    "\n",
    "    select dept_id,count(*)\n",
    "    from employee\n",
    "    group by 1\n",
    ")\n",
    "    select * from temp_table as t1 join employee e2 on t1.id=t2.id\n",
    "where cnt=(select max(cnt) from temp_table)\n",
    "order by 2;"
   ]
  },
  {
   "cell_type": "code",
   "execution_count": null,
   "metadata": {},
   "outputs": [],
   "source": [
    "WITH temp_table AS (\n",
    "    SELECT \n",
    "        dept_id, \n",
    "        COUNT(*) AS cnt\n",
    "    FROM \n",
    "        employee\n",
    "    GROUP BY \n",
    "        dept_id\n",
    "    HAVING \n",
    "        COUNT(*) = (SELECT MAX(COUNT(*)) FROM employee GROUP BY dept_id)\n",
    ")\n",
    "\n",
    "-- Step 2: Join the temporary table with the employee table to fetch details of the largest department(s)\n",
    "SELECT \n",
    "    e.*\n",
    "FROM \n",
    "    temp_table t1\n",
    "JOIN \n",
    "    employee e ON t1.dept_id = e.dept_id\n",
    "ORDER BY \n",
    "    dept_id;"
   ]
  },
  {
   "cell_type": "code",
   "execution_count": null,
   "metadata": {},
   "outputs": [],
   "source": []
  },
  {
   "cell_type": "code",
   "execution_count": null,
   "metadata": {},
   "outputs": [],
   "source": []
  },
  {
   "cell_type": "code",
   "execution_count": null,
   "metadata": {},
   "outputs": [],
   "source": [
    "#  Managers with at Least 5 Direct Reports\n"
   ]
  },
  {
   "cell_type": "code",
   "execution_count": null,
   "metadata": {},
   "outputs": [],
   "source": [
    "SELECT Manager.name\n",
    "FROM Employee\n",
    "INNER JOIN Employee AS Manager\n",
    "  ON (Employee.managerId = Manager.id)\n",
    "GROUP BY Manager.id\n",
    "HAVING COUNT(*) >= 5;"
   ]
  },
  {
   "cell_type": "code",
   "execution_count": null,
   "metadata": {},
   "outputs": [],
   "source": [
    "df=pd.merge(employee,employee,right_on=[\"manager_id\"],left_on=[\"id\"])\n",
    "df.groupby(\"manager_id\").apply(lambda x:len(x)>5).reset_index()"
   ]
  },
  {
   "cell_type": "code",
   "execution_count": null,
   "metadata": {},
   "outputs": [],
   "source": [
    "df=employee.as(\"e1\").join(\"employee\",e1.manager_id==e.id,how='inner')\n",
    "df.groupby(\"manager_id\",\"name\").agg(count(col(\"*\")).alias(\"total\")).filter(col(\"total\")>=5).show()"
   ]
  },
  {
   "cell_type": "code",
   "execution_count": null,
   "metadata": {},
   "outputs": [],
   "source": [
    "# Friday Purchase III\n"
   ]
  },
  {
   "cell_type": "code",
   "execution_count": null,
   "metadata": {},
   "outputs": [],
   "source": []
  },
  {
   "cell_type": "code",
   "execution_count": null,
   "metadata": {},
   "outputs": [],
   "source": []
  },
  {
   "cell_type": "code",
   "execution_count": null,
   "metadata": {},
   "outputs": [],
   "source": []
  },
  {
   "cell_type": "code",
   "execution_count": null,
   "metadata": {},
   "outputs": [],
   "source": [
    "# Rolling Average Steps\n"
   ]
  },
  {
   "cell_type": "code",
   "execution_count": null,
   "metadata": {},
   "outputs": [],
   "source": []
  },
  {
   "cell_type": "code",
   "execution_count": null,
   "metadata": {},
   "outputs": [],
   "source": []
  },
  {
   "cell_type": "code",
   "execution_count": null,
   "metadata": {},
   "outputs": [],
   "source": []
  },
  {
   "cell_type": "code",
   "execution_count": null,
   "metadata": {},
   "outputs": [],
   "source": [
    "# Friday Purchases I\n"
   ]
  },
  {
   "cell_type": "code",
   "execution_count": null,
   "metadata": {},
   "outputs": [],
   "source": []
  },
  {
   "cell_type": "code",
   "execution_count": null,
   "metadata": {},
   "outputs": [],
   "source": []
  },
  {
   "cell_type": "code",
   "execution_count": null,
   "metadata": {},
   "outputs": [],
   "source": []
  },
  {
   "cell_type": "code",
   "execution_count": null,
   "metadata": {},
   "outputs": [],
   "source": [
    "# first-letter-capitalization-ii/"
   ]
  },
  {
   "cell_type": "code",
   "execution_count": null,
   "metadata": {},
   "outputs": [],
   "source": []
  },
  {
   "cell_type": "code",
   "execution_count": null,
   "metadata": {},
   "outputs": [],
   "source": [
    "# Odd and Even Transactions\n"
   ]
  },
  {
   "cell_type": "code",
   "execution_count": null,
   "metadata": {},
   "outputs": [],
   "source": [
    "select transaction_date,case when id%2=0 then sum(sal) else 0 end as odd_sum,case when id%2!=0 then sum(sal) else 0 end as even_sum\n",
    "from transactions\n",
    "group by 1\n",
    "order by 1"
   ]
  },
  {
   "cell_type": "code",
   "execution_count": null,
   "metadata": {},
   "outputs": [],
   "source": []
  },
  {
   "cell_type": "code",
   "execution_count": null,
   "metadata": {},
   "outputs": [],
   "source": []
  },
  {
   "cell_type": "code",
   "execution_count": null,
   "metadata": {},
   "outputs": [],
   "source": [
    "# Tournament Winners\n"
   ]
  },
  {
   "cell_type": "code",
   "execution_count": null,
   "metadata": {},
   "outputs": [],
   "source": []
  },
  {
   "cell_type": "code",
   "execution_count": null,
   "metadata": {},
   "outputs": [],
   "source": []
  },
  {
   "cell_type": "code",
   "execution_count": null,
   "metadata": {},
   "outputs": [],
   "source": []
  },
  {
   "cell_type": "code",
   "execution_count": null,
   "metadata": {},
   "outputs": [],
   "source": [
    "# Classes More Than 5 Students\n"
   ]
  },
  {
   "cell_type": "code",
   "execution_count": null,
   "metadata": {},
   "outputs": [],
   "source": [
    "select class from courses group by class having count(distinct student) >= 5"
   ]
  },
  {
   "cell_type": "code",
   "execution_count": null,
   "metadata": {},
   "outputs": [],
   "source": [
    "courses.groupby('class').filter(lambda x:x['students'].nunique()>=5)"
   ]
  },
  {
   "cell_type": "code",
   "execution_count": null,
   "metadata": {},
   "outputs": [],
   "source": [
    "courses.groupby('class').agg(countDistinct(\"students\").alias(\"total_student_count\")).filter(col(\"total_student_count\")>=5)"
   ]
  },
  {
   "cell_type": "code",
   "execution_count": null,
   "metadata": {},
   "outputs": [],
   "source": [
    "# Not Boring Movies"
   ]
  },
  {
   "cell_type": "code",
   "execution_count": null,
   "metadata": {},
   "outputs": [],
   "source": [
    "SELECT *\n",
    "FROM cinema\n",
    "WHERE id MOD 2 <> 0 AND description <> \"boring\"\n",
    "ORDER BY rating DESC"
   ]
  },
  {
   "cell_type": "code",
   "execution_count": null,
   "metadata": {},
   "outputs": [],
   "source": [
    "df=cinema[cinema['id']%2==0)&(~cinema['description'].contains('boring'))]\n",
    "df.sort_values(by=['rating'],ascending=False)"
   ]
  },
  {
   "cell_type": "code",
   "execution_count": null,
   "metadata": {},
   "outputs": [],
   "source": [
    "cinema.filter((col('id')<>0)&(col('description').str.contains('boring')).sort(desc(\"rating\"))..select(col(\"*\")).show()"
   ]
  },
  {
   "cell_type": "code",
   "execution_count": null,
   "metadata": {},
   "outputs": [],
   "source": [
    "# count-student-number-in-departments"
   ]
  },
  {
   "cell_type": "code",
   "execution_count": null,
   "metadata": {},
   "outputs": [],
   "source": [
    "SELECT\n",
    "    d.dept_id,\n",
    "    d.dept_name,\n",
    "    COUNT(s.student_id) AS student_number\n",
    "FROM Department d\n",
    "LEFT JOIN Student s\n",
    "    ON s.dept_id = d.dept_id\n",
    "GROUP BY\n",
    "    d.dept_id,\n",
    "    d.dept_name;"
   ]
  },
  {
   "cell_type": "code",
   "execution_count": null,
   "metadata": {},
   "outputs": [],
   "source": [
    "department_1=pd.merge(departments,students,righ_on=\"dept_id\",left_on=\"dept_id\",how=\"inner\")\n",
    "department_1.groupby([\"dept_id\",\"dept_name\"])[\"student_id\"].count().reset_index()"
   ]
  },
  {
   "cell_type": "code",
   "execution_count": null,
   "metadata": {},
   "outputs": [],
   "source": [
    "df=departments.join(students,departments.dept_id==students.dept_id)\n",
    "df.groupby(\"dept_id\",\"dept_name\").agg(count(col(\"student_id\"))).show()"
   ]
  },
  {
   "cell_type": "code",
   "execution_count": null,
   "metadata": {},
   "outputs": [],
   "source": [
    "# Count Apples and Oranges\n"
   ]
  },
  {
   "cell_type": "code",
   "execution_count": null,
   "metadata": {},
   "outputs": [],
   "source": [
    "select sum(ifnull(box.apple_count, 0) + ifnull(chest.apple_count, 0)) as apple_count,\n",
    "    sum(ifnull(box.orange_count, 0) + ifnull(chest.orange_count, 0)) as orange_count\n",
    "    from Boxes as box\n",
    "    left join Chests as chest\n",
    "    on box.chest_id = chest.chest_id;"
   ]
  },
  {
   "cell_type": "code",
   "execution_count": null,
   "metadata": {},
   "outputs": [],
   "source": []
  },
  {
   "cell_type": "code",
   "execution_count": null,
   "metadata": {},
   "outputs": [],
   "source": []
  },
  {
   "cell_type": "code",
   "execution_count": null,
   "metadata": {},
   "outputs": [],
   "source": [
    "# Number-of-Accounts-That-Did-Not-Stream"
   ]
  },
  {
   "cell_type": "code",
   "execution_count": null,
   "metadata": {},
   "outputs": [],
   "source": [
    "SELECT count(DISTINCT sub.account_id) AS accounts_count\n",
    "FROM\n",
    "    Subscriptions AS sub\n",
    "    LEFT JOIN Streams AS ss ON sub.account_id = ss.account_id\n",
    "WHERE\n",
    "    year(start_date) <= 2021\n",
    "    AND year(end_date) >= 2021\n",
    "    AND (year(stream_date) != 2021 OR stream_date > end_date);"
   ]
  },
  {
   "cell_type": "code",
   "execution_count": null,
   "metadata": {},
   "outputs": [],
   "source": [
    "df=pd.merge(subscriptions,stream,right_on=[\"account_id\"],left_on=[\"account_id\"],how=\"left\")\n",
    "df_1=df[(df['statr_date'].year==2021)&(df['end_date'].year==2021)]\n",
    "df_1[(df_1['stream_date']!=2021)|(df['stream_date']>df['end_date'])]"
   ]
  },
  {
   "cell_type": "code",
   "execution_count": null,
   "metadata": {},
   "outputs": [],
   "source": [
    "df=subscriptions.join(stream,subscriptions.account_id==stream.account_id,how=\"left\")\n",
    "df_1=df.filter(year(start_date)==2021)&(year('end_date')==2021)\n",
    "df_1.filter(year(\"stream_date\")!=2021)&(col('stream_date')>col(\"end_date\")).show()\n"
   ]
  },
  {
   "cell_type": "code",
   "execution_count": null,
   "metadata": {},
   "outputs": [],
   "source": [
    "# employees-whose-manager-left-the-company.sql"
   ]
  },
  {
   "cell_type": "code",
   "execution_count": null,
   "metadata": {},
   "outputs": [],
   "source": [
    "SELECT employee_id\n",
    "FROM Employees a\n",
    "WHERE salary < 30000 \n",
    "      AND manager_id IS NOT NULL\n",
    "      AND NOT EXISTS (SELECT 1 \n",
    "                      FROM Employees b\n",
    "                      WHERE b.employee_id = a.manager_id)\n",
    "ORDER BY employee_id;"
   ]
  },
  {
   "cell_type": "code",
   "execution_count": null,
   "metadata": {},
   "outputs": [],
   "source": [
    "# products-worth-over-invoices.sql"
   ]
  },
  {
   "cell_type": "code",
   "execution_count": null,
   "metadata": {},
   "outputs": [],
   "source": [
    "SELECT name, \n",
    "       Sum(rest)     rest, \n",
    "       Sum(paid)     paid, \n",
    "       Sum(canceled) canceled, \n",
    "       Sum(refunded) refunded \n",
    "FROM   product p \n",
    "       INNER JOIN invoice i \n",
    "               ON p.product_id = i.product_id \n",
    "GROUP  BY name \n",
    "ORDER  BY name;"
   ]
  },
  {
   "cell_type": "code",
   "execution_count": null,
   "metadata": {},
   "outputs": [],
   "source": [
    "df=pd.merge(product,invoice,right_on=[\"product_id\"],left_on=[\"product_id\"],how=\"inner\")\n",
    "df.groupby(\"name\").agg(\"rest\":\"sum\",\"paid\":\"sum\",\"cancelled\":\"sum\",\"refunded\":\"sum\").sort_values(by=[\"name\"]).reset_index()"
   ]
  },
  {
   "cell_type": "code",
   "execution_count": null,
   "metadata": {},
   "outputs": [],
   "source": [
    "df=products.join(invoice,products.product_id==invoice.product_id,how=\"inner\")\n",
    "df.groupby(\"name\").agg(sum(col(\"reset\").alias(\"rest\"),sum(col(\"paid\").alias(\"paid\"),sum(\"cancelled\").alias(\"cancelled\"),sum(\"Refunded\").alias(\"refunded\")))).sort(\"name\").show()"
   ]
  },
  {
   "cell_type": "code",
   "execution_count": null,
   "metadata": {},
   "outputs": [],
   "source": [
    "# bank-account-summary"
   ]
  },
  {
   "cell_type": "code",
   "execution_count": null,
   "metadata": {},
   "outputs": [],
   "source": [
    "SELECT u.name, SUM(amount) as balance\n",
    "FROM Transactions\n",
    "JOIN Users u\n",
    "USING (account)\n",
    "GROUP BY account\n",
    "HAVING balance>10000;"
   ]
  },
  {
   "cell_type": "code",
   "execution_count": null,
   "metadata": {},
   "outputs": [],
   "source": [
    "df=pd.merge(transactions,users,on=\"account_id\",how=\"inner\")\n",
    "df.groupby('account')['amount'].sum().reset_index(name=\"balance\")\n",
    "df[df[\"balance\"]>10000]"
   ]
  },
  {
   "cell_type": "code",
   "execution_count": null,
   "metadata": {},
   "outputs": [],
   "source": [
    "# Bank Account Summary II.sql\n"
   ]
  },
  {
   "cell_type": "code",
   "execution_count": null,
   "metadata": {},
   "outputs": [],
   "source": [
    "SELECT u.name AS NAME,SUM(t.amount) AS BALANCE\n",
    "FROM Transactions t LEFT JOIN Users u\n",
    "ON u.account = t.account\n",
    "GROUP BY u.account \n",
    "# Aggregate function can go directly after HAVING\n",
    "HAVING SUM(t.amount)>10000;"
   ]
  },
  {
   "cell_type": "code",
   "execution_count": null,
   "metadata": {},
   "outputs": [],
   "source": [
    "df=pd.merge(transactions,user,right_on=[\"account\"],left_on=[\"account\"],how=\"left\")\n",
    "df.groupby('account')"
   ]
  },
  {
   "cell_type": "code",
   "execution_count": null,
   "metadata": {},
   "outputs": [],
   "source": [
    "df=transactions.users(transaction.account==users.account,how=\"left\")\n",
    "df.groupby('account').agg(sum(\"amount\").alias(\"balance\")).filter(col(\"balance\")>10000).show()"
   ]
  },
  {
   "cell_type": "code",
   "execution_count": null,
   "metadata": {},
   "outputs": [],
   "source": [
    "df=transactions.join(accounts,transactions.account=accounts.accoumt,how=\"inner\")\n",
    "df.groupby(\"account\").agg(sum(col(\"amount\")).alias(\"balance\")).filter(col(\"balance\")>10000).show(fp)"
   ]
  },
  {
   "cell_type": "code",
   "execution_count": null,
   "metadata": {},
   "outputs": [],
   "source": [
    "# Accepted-Candidates-From-the-Interviews"
   ]
  },
  {
   "cell_type": "code",
   "execution_count": null,
   "metadata": {},
   "outputs": [],
   "source": [
    "SELECT candidate_id\n",
    "FROM\n",
    "    Candidates AS c\n",
    "    LEFT JOIN Rounds AS r ON c.interview_id = r.interview_id\n",
    "WHERE years_of_exp >= 2\n",
    "GROUP BY c.interview_id\n",
    "HAVING sum(score) > 15;"
   ]
  },
  {
   "cell_type": "code",
   "execution_count": null,
   "metadata": {},
   "outputs": [],
   "source": [
    "df=pd.merge(candidates,rounds,right_on=[\"interview_id\"],right_on=[\"interview_id\"],how=\"left\")\n",
    "df[df['years_of_exp']>=2].groupby(\"interview_id\").apply(lambda x:x['salary'].sum()>15)"
   ]
  },
  {
   "cell_type": "code",
   "execution_count": null,
   "metadata": {},
   "outputs": [],
   "source": []
  },
  {
   "cell_type": "code",
   "execution_count": null,
   "metadata": {},
   "outputs": [],
   "source": [
    "## apples and oranges"
   ]
  },
  {
   "cell_type": "code",
   "execution_count": null,
   "metadata": {},
   "outputs": [],
   "source": [
    "select a.sale_date, a.sold_num - b.sold_num\n",
    "from Sales a left join Sales b\n",
    "on a.sale_date = b.sale_date\n",
    "where a.fruit = 'apples' and b.fruit = 'oranges'"
   ]
  },
  {
   "cell_type": "code",
   "execution_count": null,
   "metadata": {},
   "outputs": [],
   "source": [
    "df=pd.merge(sales,sales,right_on=[\"sales_date\"],left_on=[\"sales_date\"],how=\"left\")\n",
    "df_1=df[(df['fruit']=='apples')&(df['fruit']=='oranges')]\n",
    "df_1['difference']=df['sold_num']-df['sold_num']\n",
    "df[['sales_date','difference']]"
   ]
  },
  {
   "cell_type": "code",
   "execution_count": null,
   "metadata": {},
   "outputs": [],
   "source": []
  },
  {
   "cell_type": "code",
   "execution_count": null,
   "metadata": {},
   "outputs": [],
   "source": [
    "# ad-free-sessions.sql\n"
   ]
  },
  {
   "cell_type": "code",
   "execution_count": null,
   "metadata": {},
   "outputs": [],
   "source": [
    "SELECT p.session_id\n",
    "FROM   playback p\n",
    "       LEFT JOIN ads a\n",
    "              ON p.customer_id = a.customer_id\n",
    "                 AND a.timestamp BETWEEN p.start_time AND p.end_time\n",
    "WHERE  a.customer_id IS NULL;"
   ]
  },
  {
   "cell_type": "code",
   "execution_count": null,
   "metadata": {},
   "outputs": [],
   "source": [
    "df=pd.merge(playbak,ads,right_on=[\"customer_id\"],left_on=[\"customer_id\"],how=\"left\")\n",
    "df=df[df['time_stamp']>=df['start_time']&(df['time_stamp']<=df['end_time'])]\n",
    "df[df['customer'].isnull()]['session_id']"
   ]
  },
  {
   "cell_type": "code",
   "execution_count": null,
   "metadata": {},
   "outputs": [],
   "source": [
    "df=playbooks.join(ads,playbooks.customer_id==ads.customer_id,how=\"left\")\n",
    "df.filter(col(\"time_stamp\")>col('start_time')&(col('time_stamp')<=col('end_time')))\n",
    "df.filter(col(\"customer_id\").IsNull()).select(\"session_id\")"
   ]
  },
  {
   "cell_type": "code",
   "execution_count": null,
   "metadata": {},
   "outputs": [],
   "source": [
    "# the-number-of-users-that-are-eligible-for-discount.sql"
   ]
  },
  {
   "cell_type": "code",
   "execution_count": null,
   "metadata": {},
   "outputs": [],
   "source": [
    "SELECT COUNT(DISTINCT user_id) AS user_cnt\n",
    "    FROM Purchases\n",
    "    WHERE time_stamp >= startDate AND time_stamp <= endDate AND amount >= minAmount"
   ]
  },
  {
   "cell_type": "code",
   "execution_count": null,
   "metadata": {},
   "outputs": [],
   "source": [
    "df=Purchases[Purchasesp\"time_stamp]>='start_date']&(Purchases['time_stamp]<='enddate')&(Purchases['amount']>='minAmount')\n",
    "             "
   ]
  },
  {
   "cell_type": "code",
   "execution_count": null,
   "metadata": {},
   "outputs": [],
   "source": []
  },
  {
   "cell_type": "code",
   "execution_count": null,
   "metadata": {},
   "outputs": [],
   "source": [
    "# leetflex-banned-accounts.sql"
   ]
  },
  {
   "cell_type": "code",
   "execution_count": null,
   "metadata": {},
   "outputs": [],
   "source": [
    "select distinct l1.account_id\n",
    "from LogInfo l1 \n",
    "join LogInfo l2\n",
    "on l1.account_id = l2.account_id and l1.ip_address != l2.ip_address\n",
    "where not (l1.login > l2.logout or l1.logout < l2.login)\n"
   ]
  },
  {
   "cell_type": "code",
   "execution_count": null,
   "metadata": {},
   "outputs": [],
   "source": [
    "df=pd.merge(logInfo,logInfo,right_on=[\"account_id\"],left_on=[\"account_id\"],how=\"inner\")\n",
    "df[(df['logInfo_address']!=df['logInfoAddress'])&(~df['loginfo.login']>df['logut'])]"
   ]
  },
  {
   "cell_type": "code",
   "execution_count": null,
   "metadata": {},
   "outputs": [],
   "source": [
    "df=logInfo.alias(\"e1\").join(loginfo.alias(\"e2\"),e1.account_id==e2.account_id)\n",
    "df.filter(~(col('l1.login')>col('l1.logout')|(col('l2.logout')<col('l2.login')))"
   ]
  },
  {
   "cell_type": "code",
   "execution_count": null,
   "metadata": {},
   "outputs": [],
   "source": [
    "# find-followers-count.sql\n"
   ]
  },
  {
   "cell_type": "code",
   "execution_count": null,
   "metadata": {},
   "outputs": [],
   "source": [
    "SELECT user_id, \n",
    "       Count(follower_id) AS followers_count \n",
    "FROM   followers \n",
    "GROUP  BY user_id \n",
    "ORDER  BY user_id; "
   ]
  },
  {
   "cell_type": "code",
   "execution_count": null,
   "metadata": {},
   "outputs": [],
   "source": [
    "followers.groupby('user_id').size().sort_values(by=['user_id']).reset_index(name=\"followers_count\")"
   ]
  },
  {
   "cell_type": "code",
   "execution_count": null,
   "metadata": {},
   "outputs": [],
   "source": [
    "followers.groupby('user_id').agg(count(col(\"follower_id\")).alias(\"followers_count\")).sort(asc(\"followers_count\")).show()"
   ]
  },
  {
   "cell_type": "code",
   "execution_count": null,
   "metadata": {},
   "outputs": [],
   "source": [
    "#  Recyclable and Low Fat Products\n"
   ]
  },
  {
   "cell_type": "code",
   "execution_count": null,
   "metadata": {},
   "outputs": [],
   "source": [
    "SELECT product_id\n",
    "FROM   Products\n",
    "WHERE  low_fats = 'Y'\n",
    "       AND recyclable = 'Y'\n",
    "ORDER  BY NULL;"
   ]
  },
  {
   "cell_type": "code",
   "execution_count": null,
   "metadata": {},
   "outputs": [],
   "source": [
    "products[products['low_fats']=='Y')&(products['recyclable']=='Y')].sort(na_position=True)"
   ]
  },
  {
   "cell_type": "code",
   "execution_count": null,
   "metadata": {},
   "outputs": [],
   "source": [
    "products.filter(col('low_fats')=='Y')&(COL('recyclable')=='y')"
   ]
  },
  {
   "cell_type": "code",
   "execution_count": null,
   "metadata": {},
   "outputs": [],
   "source": [
    "# Percentage of Users Attended a Contest 👍"
   ]
  },
  {
   "cell_type": "code",
   "execution_count": null,
   "metadata": {},
   "outputs": [],
   "source": [
    "SELECT\n",
    "  contest_id,\n",
    "  ROUND(\n",
    "    COUNT(user_id) * 100 / (\n",
    "      SELECT COUNT(*)\n",
    "      FROM Users\n",
    "    ),\n",
    "    2\n",
    "  ) AS percentage\n",
    "FROM Register\n",
    "GROUP BY 1\n",
    "ORDER BY percentage DESC, contest_id;"
   ]
  },
  {
   "cell_type": "code",
   "execution_count": null,
   "metadata": {},
   "outputs": [],
   "source": []
  },
  {
   "cell_type": "code",
   "execution_count": null,
   "metadata": {},
   "outputs": [],
   "source": []
  },
  {
   "cell_type": "code",
   "execution_count": null,
   "metadata": {},
   "outputs": [],
   "source": [
    "# immediate-food-delivery-i.sql @@check"
   ]
  },
  {
   "cell_type": "code",
   "execution_count": null,
   "metadata": {},
   "outputs": [],
   "source": [
    "SELECT Round(100 * Sum(order_date = customer_pref_delivery_date) / Count(*), 2) \n",
    "       AS \n",
    "       immediate_percentage \n",
    "FROM   delivery;"
   ]
  },
  {
   "cell_type": "code",
   "execution_count": null,
   "metadata": {},
   "outputs": [],
   "source": [
    "import pandas as pd\n",
    "\n",
    "def calculate_immediate_percentage(delivery_df):\n",
    "  \n",
    "\n",
    "  # Create a boolean Series indicating whether order_date matches preferred delivery date\n",
    "  immediate_deliveries = (delivery_df['order_date'] == delivery_df['customer_pref_delivery_date'])\n",
    "\n",
    "  # Calculate the percentage of immediate deliveries\n",
    "  immediate_percentage = (immediate_deliveries.sum() / len(delivery_df)) * 100\n",
    "\n",
    "  # Round the percentage to 2 decimal places\n",
    "  immediate_percentage = round(immediate_percentage, 2)\n",
    "\n",
    "  return immediate_percentage\n",
    "result = calculate_immediate_percentage(delivery_df)\n",
    "print(f\"Immediate Delivery Percentage: {result}%\") "
   ]
  },
  {
   "cell_type": "code",
   "execution_count": null,
   "metadata": {},
   "outputs": [],
   "source": [
    "df=delivery_df.filter(col('order_date')==col('customer_pref_delivery_date').alias(\"immediate_delivery\"))\n",
    "percentage=df.filter(round(sum(col(\"immediate_delivert\"))/count(delivery_df)),2)*100"
   ]
  },
  {
   "cell_type": "code",
   "execution_count": null,
   "metadata": {},
   "outputs": [],
   "source": [
    "from pyspark.sql import functions as F\n",
    "\n",
    "def calculate_immediate_percentage(delivery_df):\n",
    "  \n",
    "  total_orders = delivery_df.count()\n",
    "  num_immediate_deliveries = delivery_df.filter(F.col(\"order_date\") == F.col(\"customer_pref_delivery_date\")).count()\n",
    "\n",
    "  immediate_percentage = (num_immediate_deliveries / total_orders) * 100\n",
    "  return round(immediate_percentage, 2)\n",
    "result = calculate_immediate_percentage(delivery_df)\n",
    "\n",
    "print(f\"Immediate Percentage: {result}%\")"
   ]
  },
  {
   "cell_type": "code",
   "execution_count": null,
   "metadata": {},
   "outputs": [],
   "source": [
    "# Write a SQL query for a report that provides the pairs (actor_id, director_id) where the actor have cooperated with the director at least 3 times."
   ]
  },
  {
   "cell_type": "code",
   "execution_count": null,
   "metadata": {},
   "outputs": [],
   "source": [
    "select actor_id,director_id\n",
    "from ActorDirectory\n",
    "group by actor_id,directory_id\n",
    "having count(*)>=3\n"
   ]
  },
  {
   "cell_type": "code",
   "execution_count": null,
   "metadata": {},
   "outputs": [],
   "source": [
    "Actors=ActorDirectory.groupby([\"actor_id\",\"directory_id\"]).apply(lambda x:len(x)>=3)\n",
    "Actor"
   ]
  },
  {
   "cell_type": "code",
   "execution_count": null,
   "metadata": {},
   "outputs": [],
   "source": [
    "filter_actor=Actor_directory.select(\"actor_id\",\"directory_id\").groupby(\"actor_id\",\"directory_id\").agg(count(\"*\").alias(\"count_support\")).show()\n",
    "filter_actor.filter(col(\"count_support\")>3)"
   ]
  },
  {
   "cell_type": "code",
   "execution_count": null,
   "metadata": {},
   "outputs": [],
   "source": [
    "# products-ordered-in-a-periods"
   ]
  },
  {
   "cell_type": "code",
   "execution_count": null,
   "metadata": {},
   "outputs": [],
   "source": [
    "SELECT\n",
    "    p.product_name,\n",
    "    sum_unit [unit]\n",
    "FROM Products p JOIN (\n",
    "    SELECT\n",
    "        product_id,\n",
    "        SUM(unit) [sum_unit]\n",
    "    FROM Orders\n",
    "    WHERE MONTH(order_date) = 2\n",
    "        AND YEAR(order_date) = 2020\n",
    "    GROUP BY product_id\n",
    ") o ON p.product_id = o.product_id\n",
    "WHERE sum_unit >= 100"
   ]
  },
  {
   "cell_type": "code",
   "execution_count": null,
   "metadata": {},
   "outputs": [],
   "source": [
    "df=orders[orders['order_date'].dt.Month==2)&(order['order_date'].dt.Year==2020)].groupby('product_id')[\"unit\"].sum().reset_index(name=\"sum_unit\")\n",
    "df_1=pd.merge(df,products,right_on=[\"product_id\"],left_on=[\"product_id\"],how=\"inner\")\n",
    "df_2=df_1[df_1['sum_unit']>=100]\n",
    "df_2[[\"product_name\",\"sum_unit\"]]"
   ]
  },
  {
   "cell_type": "code",
   "execution_count": null,
   "metadata": {},
   "outputs": [],
   "source": [
    "df=orders.filter(month('order_date')==2)&(year('order_date')==2020)).groupby(\"product_id\").sum(\"unit\").alias(\"sum_unit\").show()\n",
    "df_1=df.join(orders,df.product_id==orders.product_id,how=\"inner\")\n",
    "df_2=df_1.filter(col(\"sum_unit\")>=100)\n",
    "df_2[[\"product_name\",\"sum_unit\"]]"
   ]
  },
  {
   "cell_type": "code",
   "execution_count": null,
   "metadata": {},
   "outputs": [],
   "source": [
    "# patients-with-a-condition"
   ]
  },
  {
   "cell_type": "code",
   "execution_count": null,
   "metadata": {},
   "outputs": [],
   "source": [
    "select *\n",
    "from Patients\n",
    "where conditions like '% DIAB1%' or \n",
    "      conditions like 'DIAB1%'"
   ]
  },
  {
   "cell_type": "code",
   "execution_count": null,
   "metadata": {},
   "outputs": [],
   "source": [
    "df[df['conditions'].str.contains('DIAB')]"
   ]
  },
  {
   "cell_type": "code",
   "execution_count": null,
   "metadata": {},
   "outputs": [],
   "source": [
    "df.filter(col(\"conditions\").contains('DIAB')).select(col('*')).show()"
   ]
  },
  {
   "cell_type": "code",
   "execution_count": null,
   "metadata": {},
   "outputs": [],
   "source": [
    "# Capital Gain Loss.sql\n"
   ]
  },
  {
   "cell_type": "code",
   "execution_count": null,
   "metadata": {},
   "outputs": [],
   "source": [
    "select stock_name, sum(if(operation='sell', price,-price)) as capital_gain_loss\n",
    "from stocks\n",
    "group by stock_name"
   ]
  },
  {
   "cell_type": "code",
   "execution_count": null,
   "metadata": {},
   "outputs": [],
   "source": [
    "import pandas as pd\n",
    "def calculate_capital_gain_loss(stocks_df):\n",
    "\n",
    "  stocks_df['signed_price'] = stocks_df.apply(lambda row: row['price'] if row['operation'] == 'sell' else -row['price'], axis=1)\n",
    "  # Group by stock_name and sum the signed_price to get capital_gain_loss\n",
    "  result_df = stocks_df.groupby('stock_name')['signed_price'].sum().reset_index(name='capital_gain_loss')\n",
    "  return result_df\n"
   ]
  },
  {
   "cell_type": "code",
   "execution_count": null,
   "metadata": {},
   "outputs": [],
   "source": [
    "df.withColumn(\"capital_gain_loss\",expr(\"case when operation='sell' then price else -price end\"))"
   ]
  },
  {
   "cell_type": "code",
   "execution_count": null,
   "metadata": {},
   "outputs": [],
   "source": [
    "df.groupby(\"stock_name\").agg(sum(\"capital_gain_loss\")).show()"
   ]
  },
  {
   "cell_type": "code",
   "execution_count": null,
   "metadata": {},
   "outputs": [],
   "source": [
    "# Market Analysis"
   ]
  },
  {
   "cell_type": "code",
   "execution_count": null,
   "metadata": {},
   "outputs": [],
   "source": [
    "SELECT\n",
    "  Users.user_id AS buyer_id,\n",
    "  Users.join_date,\n",
    "  COUNT(Orders.order_id) AS orders_in_2019\n",
    "FROM Users\n",
    "LEFT JOIN Orders\n",
    "  ON (Users.user_id = Orders.buyer_id AND YEAR(order_date) = '2019')\n",
    "GROUP BY 1;"
   ]
  },
  {
   "cell_type": "code",
   "execution_count": null,
   "metadata": {},
   "outputs": [],
   "source": [
    "df=pd.merge(users,orders,right_on=[\"user_id\"],left_on=[\"buyer_id\"],how=\"left\")\n",
    "df=df[df['order_date'].dt.year==2019]\n",
    "df.groupby([\"user_id\",\"join_date\"])['order_id'].size().reset_index(name=\"orders_in_2019\")"
   ]
  },
  {
   "cell_type": "code",
   "execution_count": null,
   "metadata": {},
   "outputs": [],
   "source": [
    "df=users.join(orders,user.user_id==orders.buyer_id,how=\"left\")\n",
    "df=df.filter(col(Year(order_date)==2019))\n",
    "df.groupby(\"user_id\",\"join_date\").agg(count(col(\"order_id\").alias(\"counts\")))"
   ]
  },
  {
   "cell_type": "code",
   "execution_count": null,
   "metadata": {},
   "outputs": [],
   "source": [
    "# Department Highest Salary"
   ]
  },
  {
   "cell_type": "code",
   "execution_count": null,
   "metadata": {},
   "outputs": [],
   "source": [
    "select * from(select rank() over(partitionby deptname order by sal desc) highest_rank from )"
   ]
  },
  {
   "cell_type": "code",
   "execution_count": null,
   "metadata": {},
   "outputs": [],
   "source": []
  },
  {
   "cell_type": "code",
   "execution_count": null,
   "metadata": {},
   "outputs": [],
   "source": []
  },
  {
   "cell_type": "code",
   "execution_count": null,
   "metadata": {},
   "outputs": [],
   "source": [
    "## Customers who never order"
   ]
  },
  {
   "cell_type": "code",
   "execution_count": null,
   "metadata": {},
   "outputs": [],
   "source": [
    "select\n",
    "    Name as Customers\n",
    "from\n",
    "    Customers\n",
    "where\n",
    "    Id\n",
    "not in(\n",
    "    select CustomerId from Orders\n",
    ");"
   ]
  },
  {
   "cell_type": "code",
   "execution_count": null,
   "metadata": {},
   "outputs": [],
   "source": [
    "df=pd.merge(customer,orders,right_on=[\"id\"],left_on=[\"CustomerId\"],how=\"inner\",suffix=('_x','_y'))\n",
    "df[df['id']!=df['CustomerId']]['name']"
   ]
  },
  {
   "cell_type": "code",
   "execution_count": null,
   "metadata": {},
   "outputs": [],
   "source": [
    "df=customers.join(orders,customer.id==orders.CustoemrId,how=\"inner\")\n",
    "df.filter(col('id')!=col(\"CustomerId\")).select(\"name\").show()"
   ]
  },
  {
   "cell_type": "code",
   "execution_count": null,
   "metadata": {},
   "outputs": [],
   "source": [
    "# Fix Names in a Table"
   ]
  },
  {
   "cell_type": "code",
   "execution_count": null,
   "metadata": {},
   "outputs": [],
   "source": [
    "select initcap(name) from users"
   ]
  },
  {
   "cell_type": "code",
   "execution_count": null,
   "metadata": {},
   "outputs": [],
   "source": [
    "users['name'].str.title()"
   ]
  },
  {
   "cell_type": "code",
   "execution_count": null,
   "metadata": {},
   "outputs": [],
   "source": [
    "users.withColumn(\"name\",initcap(\"name\"))\n",
    "users.select(\"name\").show()"
   ]
  },
  {
   "cell_type": "code",
   "execution_count": null,
   "metadata": {},
   "outputs": [],
   "source": [
    "# Shortest Distance in a Line\n"
   ]
  },
  {
   "cell_type": "code",
   "execution_count": null,
   "metadata": {},
   "outputs": [],
   "source": []
  },
  {
   "cell_type": "code",
   "execution_count": null,
   "metadata": {},
   "outputs": [],
   "source": []
  },
  {
   "cell_type": "code",
   "execution_count": null,
   "metadata": {},
   "outputs": [],
   "source": []
  },
  {
   "cell_type": "code",
   "execution_count": null,
   "metadata": {},
   "outputs": [],
   "source": [
    "# Delete Duplicate Emails"
   ]
  },
  {
   "cell_type": "code",
   "execution_count": null,
   "metadata": {},
   "outputs": [],
   "source": [
    "DELETE p1\n",
    "FROM Person p1, Person p2\n",
    "WHERE p1.Email = p2.Email AND p1.Id > p2.Id"
   ]
  },
  {
   "cell_type": "code",
   "execution_count": null,
   "metadata": {},
   "outputs": [],
   "source": [
    "person.drop_duplicates(subset=[['email'],keep='first'])"
   ]
  },
  {
   "cell_type": "code",
   "execution_count": null,
   "metadata": {},
   "outputs": [],
   "source": [
    "person.dropDuplicates([\"email\"]).show()"
   ]
  },
  {
   "cell_type": "code",
   "execution_count": null,
   "metadata": {},
   "outputs": [],
   "source": [
    "## session bar chart"
   ]
  },
  {
   "cell_type": "code",
   "execution_count": null,
   "metadata": {},
   "outputs": [],
   "source": [
    "SELECT '[0-5>' AS bin, COUNT(1) AS total FROM Sessions WHERE duration < 300\n",
    "UNION\n",
    "SELECT '[5-10>' AS bin, COUNT(1) AS total FROM Sessions WHERE 300 <= duration AND duration < 600\n",
    "UNION\n",
    "SELECT '[10-15>' AS bin, COUNT(1) AS total FROM Sessions WHERE 600 <= duration AND duration < 900\n",
    "UNION\n",
    "SELECT '15 or more' AS bin, COUNT(1) AS total FROM Sessions WHERE 900 <= duration;"
   ]
  },
  {
   "cell_type": "code",
   "execution_count": null,
   "metadata": {},
   "outputs": [],
   "source": []
  },
  {
   "cell_type": "code",
   "execution_count": null,
   "metadata": {},
   "outputs": [],
   "source": []
  },
  {
   "cell_type": "code",
   "execution_count": null,
   "metadata": {},
   "outputs": [],
   "source": [
    "# . Find the Team Size\n"
   ]
  },
  {
   "cell_type": "code",
   "execution_count": null,
   "metadata": {},
   "outputs": [],
   "source": [
    "select e1.employee_id,count(*) team_size\n",
    "\t\tfrom employee e1 left join employee e2on e1.team_id = e2.team_id\n",
    "group by e1.employee_id;"
   ]
  },
  {
   "cell_type": "code",
   "execution_count": null,
   "metadata": {},
   "outputs": [],
   "source": [
    "df=pd.merge(employee,employee,right_on=[\"team_id\"],left_on=[\"team_id\"],how=\"left\")\n",
    "df.groupby('employee_id').size().reset_index(name=\"Team_size\")"
   ]
  },
  {
   "cell_type": "code",
   "execution_count": null,
   "metadata": {},
   "outputs": [],
   "source": [
    "df=employee.alias(\"e1\").join(\"employee\",e1.employee_id==e2.employee_id,how=\"left\")\n",
    "df.groupby('employee_id').agg(count(col('*'))).show()"
   ]
  },
  {
   "cell_type": "code",
   "execution_count": null,
   "metadata": {},
   "outputs": [],
   "source": [
    "# List the Products Ordered in a Period\n"
   ]
  },
  {
   "cell_type": "code",
   "execution_count": null,
   "metadata": {},
   "outputs": [],
   "source": [
    "SELECT p.product_name, \n",
    "       o.unit \n",
    "FROM   (SELECT product_id, \n",
    "               Sum(unit) AS unit \n",
    "        FROM   orders \n",
    "        WHERE  order_date BETWEEN '2020-02-01' AND '2020-02-29' \n",
    "        GROUP  BY product_id \n",
    "        HAVING unit >= 100) o \n",
    "       INNER JOIN products p \n",
    "               ON o.product_id = p.product_id "
   ]
  },
  {
   "cell_type": "code",
   "execution_count": null,
   "metadata": {},
   "outputs": [],
   "source": []
  },
  {
   "cell_type": "code",
   "execution_count": null,
   "metadata": {},
   "outputs": [],
   "source": []
  },
  {
   "cell_type": "code",
   "execution_count": null,
   "metadata": {},
   "outputs": [],
   "source": [
    "# Restaurant Growth\n",
    "# # "
   ]
  },
  {
   "cell_type": "code",
   "execution_count": null,
   "metadata": {},
   "outputs": [],
   "source": []
  },
  {
   "cell_type": "code",
   "execution_count": null,
   "metadata": {},
   "outputs": [],
   "source": []
  },
  {
   "cell_type": "code",
   "execution_count": null,
   "metadata": {},
   "outputs": [],
   "source": []
  },
  {
   "cell_type": "code",
   "execution_count": 4,
   "metadata": {},
   "outputs": [
    {
     "data": {
      "text/plain": [
       "['banana']"
      ]
     },
     "execution_count": 4,
     "metadata": {},
     "output_type": "execute_result"
    }
   ],
   "source": [
    "word = 'banana'\n",
    "word.split(' ')"
   ]
  },
  {
   "cell_type": "code",
   "execution_count": null,
   "metadata": {},
   "outputs": [],
   "source": []
  },
  {
   "cell_type": "code",
   "execution_count": null,
   "metadata": {},
   "outputs": [],
   "source": [
    "# Product Price at a Given Date\n"
   ]
  },
  {
   "cell_type": "code",
   "execution_count": null,
   "metadata": {},
   "outputs": [],
   "source": []
  },
  {
   "cell_type": "code",
   "execution_count": null,
   "metadata": {},
   "outputs": [],
   "source": []
  },
  {
   "cell_type": "code",
   "execution_count": null,
   "metadata": {},
   "outputs": [],
   "source": []
  },
  {
   "cell_type": "code",
   "execution_count": null,
   "metadata": {},
   "outputs": [],
   "source": [
    "# employees-whose-manager-left-the-company.sql"
   ]
  },
  {
   "cell_type": "code",
   "execution_count": null,
   "metadata": {},
   "outputs": [],
   "source": [
    "select\n",
    "    employee_id\n",
    "from Employees\n",
    "where manager_id is not NULL and manager_id not in (select employee_id from Employees) and salary < 30000\n",
    "order by 1"
   ]
  },
  {
   "cell_type": "code",
   "execution_count": null,
   "metadata": {},
   "outputs": [],
   "source": [
    "df=employee[(employee['manager_id'].notnull())&(col(\"salary\")<30000)]\n",
    "df=pd.merge(df,employees,right_on=[\"employee_id\"],left_on=[\"manager_id\"],how=\"left\")\n",
    "df.sort_values(by=[\"employee_id\"],ascending=True)"
   ]
  },
  {
   "cell_type": "code",
   "execution_count": null,
   "metadata": {},
   "outputs": [],
   "source": [
    "df=employee.filter((col('manager_id').isNotNull())&(col('salary')<30000))\n",
    "df_1=df.join(employee,df.employee_id==employee.manager_id,how=\"inner\")\n",
    "df.sort(asc(\"em[;pyee_id]\")).show()"
   ]
  },
  {
   "cell_type": "code",
   "execution_count": null,
   "metadata": {},
   "outputs": [],
   "source": [
    "# Find Active Users"
   ]
  },
  {
   "cell_type": "code",
   "execution_count": null,
   "metadata": {},
   "outputs": [],
   "source": []
  },
  {
   "cell_type": "code",
   "execution_count": null,
   "metadata": {},
   "outputs": [],
   "source": []
  },
  {
   "cell_type": "code",
   "execution_count": null,
   "metadata": {},
   "outputs": [],
   "source": []
  },
  {
   "cell_type": "code",
   "execution_count": null,
   "metadata": {},
   "outputs": [],
   "source": [
    "# Election Results\n"
   ]
  },
  {
   "cell_type": "code",
   "execution_count": null,
   "metadata": {},
   "outputs": [],
   "source": []
  },
  {
   "cell_type": "code",
   "execution_count": null,
   "metadata": {},
   "outputs": [],
   "source": []
  },
  {
   "cell_type": "code",
   "execution_count": null,
   "metadata": {},
   "outputs": [],
   "source": []
  },
  {
   "cell_type": "code",
   "execution_count": null,
   "metadata": {},
   "outputs": [],
   "source": [
    "#  Get Highest Answer Rate Question\n"
   ]
  },
  {
   "cell_type": "code",
   "execution_count": null,
   "metadata": {},
   "outputs": [],
   "source": []
  },
  {
   "cell_type": "code",
   "execution_count": null,
   "metadata": {},
   "outputs": [],
   "source": []
  },
  {
   "cell_type": "code",
   "execution_count": null,
   "metadata": {},
   "outputs": [],
   "source": []
  },
  {
   "cell_type": "code",
   "execution_count": null,
   "metadata": {},
   "outputs": [],
   "source": [
    "# Customers Who Never Order."
   ]
  },
  {
   "cell_type": "code",
   "execution_count": null,
   "metadata": {},
   "outputs": [],
   "source": [
    "select customer from customers where id not in(select id from customer)"
   ]
  },
  {
   "cell_type": "code",
   "execution_count": null,
   "metadata": {},
   "outputs": [],
   "source": [
    "SELECT Customers.name AS Customers\n",
    "FROM Customers\n",
    "LEFT JOIN Orders\n",
    "  ON (Customers.id = Orders.customerId)\n",
    "WHERE Orders.id IS NULL;"
   ]
  },
  {
   "cell_type": "code",
   "execution_count": null,
   "metadata": {},
   "outputs": [],
   "source": []
  },
  {
   "cell_type": "code",
   "execution_count": null,
   "metadata": {},
   "outputs": [],
   "source": []
  },
  {
   "cell_type": "code",
   "execution_count": null,
   "metadata": {},
   "outputs": [],
   "source": [
    "# Total Traveled Distance\n",
    "# # "
   ]
  },
  {
   "cell_type": "code",
   "execution_count": null,
   "metadata": {},
   "outputs": [],
   "source": []
  },
  {
   "cell_type": "code",
   "execution_count": null,
   "metadata": {},
   "outputs": [],
   "source": []
  },
  {
   "cell_type": "code",
   "execution_count": null,
   "metadata": {},
   "outputs": [],
   "source": [
    "# Count Artist Occurrences On Spotify Ranking List\n",
    "# # "
   ]
  },
  {
   "cell_type": "code",
   "execution_count": null,
   "metadata": {},
   "outputs": [],
   "source": [
    "select artist,count(1)\n",
    "from spotify\n",
    "group by artist"
   ]
  },
  {
   "cell_type": "code",
   "execution_count": null,
   "metadata": {},
   "outputs": [],
   "source": []
  },
  {
   "cell_type": "code",
   "execution_count": null,
   "metadata": {},
   "outputs": [],
   "source": []
  },
  {
   "cell_type": "code",
   "execution_count": null,
   "metadata": {},
   "outputs": [],
   "source": [
    "# Find Top Scoring Students II\n",
    "# # "
   ]
  },
  {
   "cell_type": "code",
   "execution_count": null,
   "metadata": {},
   "outputs": [],
   "source": []
  },
  {
   "cell_type": "code",
   "execution_count": null,
   "metadata": {},
   "outputs": [],
   "source": []
  },
  {
   "cell_type": "code",
   "execution_count": null,
   "metadata": {},
   "outputs": [],
   "source": []
  },
  {
   "cell_type": "code",
   "execution_count": null,
   "metadata": {},
   "outputs": [],
   "source": [
    "#  User Activities within Time Bounds\n",
    "# # "
   ]
  },
  {
   "cell_type": "code",
   "execution_count": null,
   "metadata": {},
   "outputs": [],
   "source": []
  },
  {
   "cell_type": "code",
   "execution_count": null,
   "metadata": {},
   "outputs": [],
   "source": []
  },
  {
   "cell_type": "code",
   "execution_count": null,
   "metadata": {},
   "outputs": [],
   "source": []
  },
  {
   "cell_type": "code",
   "execution_count": null,
   "metadata": {},
   "outputs": [],
   "source": [
    "# Class Performance\n"
   ]
  },
  {
   "cell_type": "code",
   "execution_count": null,
   "metadata": {},
   "outputs": [],
   "source": []
  },
  {
   "cell_type": "code",
   "execution_count": null,
   "metadata": {},
   "outputs": [],
   "source": []
  },
  {
   "cell_type": "code",
   "execution_count": null,
   "metadata": {},
   "outputs": [],
   "source": []
  },
  {
   "cell_type": "code",
   "execution_count": null,
   "metadata": {},
   "outputs": [],
   "source": [
    "# Product Sales Analysis V\n",
    "# # "
   ]
  },
  {
   "cell_type": "code",
   "execution_count": null,
   "metadata": {},
   "outputs": [],
   "source": [
    "SELECT s.user_id,\n",
    "       SUM(s.quantity * p.price) AS spending\n",
    "FROM Sales s INNER JOIN Product p ON s.product_id = p.product_id\n",
    "GROUP BY s.user_id\n",
    "ORDER BY spending DESC, s.user_id ASC;"
   ]
  },
  {
   "cell_type": "code",
   "execution_count": null,
   "metadata": {},
   "outputs": [],
   "source": [
    "df=pd.merge(sales,product,right_on=[\"product_id\"],left_on=[\"product_id\"])\n",
    "df['spending']=df['quantity']*df['price']\n",
    "df_1=df.groupby('user_id')[\"spending\"].sum().reset_index()\n",
    "df_1.sort_values(by=['spending','user_id'],ascending=[False,True])"
   ]
  },
  {
   "cell_type": "code",
   "execution_count": null,
   "metadata": {},
   "outputs": [],
   "source": [
    "df_1=sales.join(product,sales.product_id==product.product_id,how=\"inner\")\n",
    "df_1.withColumn(\"spending\",col(\"quantity\")*col(\"price\"))\n",
    "df_2=df_1.groupby(\"user_id\").agg(sum(\"spending\")).show()\n",
    "df_2.orderBy(['spending','user_id'],ascending=[False,True]).show()"
   ]
  },
  {
   "cell_type": "code",
   "execution_count": null,
   "metadata": {},
   "outputs": [],
   "source": [
    "# Change Null Values in a Table to the Previous Value"
   ]
  },
  {
   "cell_type": "code",
   "execution_count": null,
   "metadata": {},
   "outputs": [],
   "source": []
  },
  {
   "cell_type": "code",
   "execution_count": null,
   "metadata": {},
   "outputs": [],
   "source": []
  },
  {
   "cell_type": "code",
   "execution_count": null,
   "metadata": {},
   "outputs": [],
   "source": []
  },
  {
   "cell_type": "code",
   "execution_count": null,
   "metadata": {},
   "outputs": [],
   "source": [
    "# Sort the Olympic Table 🔒"
   ]
  },
  {
   "cell_type": "code",
   "execution_count": null,
   "metadata": {},
   "outputs": [],
   "source": [
    "SELECT *\n",
    "FROM Olympic\n",
    "ORDER BY 2 DESC, 3 DESC, 4 DESC, 1;"
   ]
  },
  {
   "cell_type": "code",
   "execution_count": null,
   "metadata": {},
   "outputs": [],
   "source": [
    "olympic.sort_values([2,3,4],asending=[False,False,False])"
   ]
  },
  {
   "cell_type": "code",
   "execution_count": null,
   "metadata": {},
   "outputs": [],
   "source": [
    "olympic.orderBy([2,3,4],ascending=[False,False,False]) #see"
   ]
  },
  {
   "cell_type": "code",
   "execution_count": null,
   "metadata": {},
   "outputs": [],
   "source": [
    "# Consecutive Available Seats II\n"
   ]
  },
  {
   "cell_type": "code",
   "execution_count": null,
   "metadata": {},
   "outputs": [],
   "source": []
  },
  {
   "cell_type": "code",
   "execution_count": null,
   "metadata": {},
   "outputs": [],
   "source": []
  },
  {
   "cell_type": "code",
   "execution_count": null,
   "metadata": {},
   "outputs": [],
   "source": []
  },
  {
   "cell_type": "code",
   "execution_count": null,
   "metadata": {},
   "outputs": [],
   "source": [
    "# Game Play Analysis II\n"
   ]
  },
  {
   "cell_type": "code",
   "execution_count": null,
   "metadata": {},
   "outputs": [],
   "source": []
  },
  {
   "cell_type": "code",
   "execution_count": null,
   "metadata": {},
   "outputs": [],
   "source": []
  },
  {
   "cell_type": "code",
   "execution_count": null,
   "metadata": {},
   "outputs": [],
   "source": []
  },
  {
   "cell_type": "code",
   "execution_count": null,
   "metadata": {},
   "outputs": [],
   "source": [
    "#  Maximize Items\n"
   ]
  },
  {
   "cell_type": "code",
   "execution_count": null,
   "metadata": {},
   "outputs": [],
   "source": []
  },
  {
   "cell_type": "code",
   "execution_count": null,
   "metadata": {},
   "outputs": [],
   "source": []
  },
  {
   "cell_type": "code",
   "execution_count": null,
   "metadata": {},
   "outputs": [],
   "source": []
  },
  {
   "cell_type": "code",
   "execution_count": null,
   "metadata": {},
   "outputs": [],
   "source": [
    "#  Shortest Distance in a Plane\n"
   ]
  },
  {
   "cell_type": "code",
   "execution_count": null,
   "metadata": {},
   "outputs": [],
   "source": []
  },
  {
   "cell_type": "code",
   "execution_count": null,
   "metadata": {},
   "outputs": [],
   "source": []
  },
  {
   "cell_type": "code",
   "execution_count": null,
   "metadata": {},
   "outputs": [],
   "source": []
  },
  {
   "cell_type": "code",
   "execution_count": null,
   "metadata": {},
   "outputs": [],
   "source": [
    "#  Loan Types\n"
   ]
  },
  {
   "cell_type": "code",
   "execution_count": null,
   "metadata": {},
   "outputs": [],
   "source": [
    "SELECT user_id\n",
    "FROM Loans\n",
    "GROUP BY 1\n",
    "HAVING SUM(loan_type = 'Refinance') > 0 AND SUM(loan_type = 'Mortgage') > 0\n",
    "ORDER BY 1;"
   ]
  },
  {
   "cell_type": "code",
   "execution_count": null,
   "metadata": {},
   "outputs": [],
   "source": [
    "SELECT user_id\n",
    "FROM Loans\n",
    "WHERE loan_type IN ('Refinance', 'Mortgage')\n",
    "GROUP BY user_id\n",
    "HAVING COUNT(DISTINCT loan_type) = 2\n",
    "ORDER BY user_id;"
   ]
  },
  {
   "cell_type": "code",
   "execution_count": null,
   "metadata": {},
   "outputs": [],
   "source": [
    "grouped_df = loans_df.groupby('user_id').agg(\n",
    "    has_refinance=('loan_type', lambda x: (x == 'Refinance').any()),\n",
    "    has_mortgage=('loan_type', lambda x: (x == 'Mortgage').any())\n",
    ")\n",
    "result_df = grouped_df[(grouped_df['has_refinance'] == True) & (grouped_df['has_mortgage'] == True)]\n",
    "result_df = result_df.reset_index()[['user_id']]\n",
    "result_df = result_df.sort_values('user_id')"
   ]
  },
  {
   "cell_type": "code",
   "execution_count": null,
   "metadata": {},
   "outputs": [],
   "source": []
  },
  {
   "cell_type": "code",
   "execution_count": null,
   "metadata": {},
   "outputs": [],
   "source": [
    "# Article Views II\n"
   ]
  },
  {
   "cell_type": "code",
   "execution_count": null,
   "metadata": {},
   "outputs": [],
   "source": [
    "SELECT DISTINCT viewer_id AS id \n",
    "FROM   views \n",
    "GROUP  BY viewer_id, \n",
    "          view_date \n",
    "HAVING Count(DISTINCT article_id) > 1 \n",
    "ORDER  BY id"
   ]
  },
  {
   "cell_type": "code",
   "execution_count": null,
   "metadata": {},
   "outputs": [],
   "source": [
    "df=views.groupby(['viewer_id','view_date']).filter(lambda x:x['article_id']:nunique()>1).sort_values(by=['id'])\n",
    "df['viewer_id'].unique()"
   ]
  },
  {
   "cell_type": "code",
   "execution_count": null,
   "metadata": {},
   "outputs": [],
   "source": [
    "df_1=df.groupby('viwere_id','view_date').agg(countDistinct(\"article_id\").alias(\"count\")).filter(col(\"count\")>1).sort(asc(\"id\"))\n",
    "df_1.select('viewer_id').distinct().show()"
   ]
  },
  {
   "cell_type": "code",
   "execution_count": null,
   "metadata": {},
   "outputs": [],
   "source": [
    "# fFind Bursty Behavior\n"
   ]
  },
  {
   "cell_type": "code",
   "execution_count": null,
   "metadata": {},
   "outputs": [],
   "source": []
  },
  {
   "cell_type": "code",
   "execution_count": null,
   "metadata": {},
   "outputs": [],
   "source": []
  },
  {
   "cell_type": "code",
   "execution_count": null,
   "metadata": {},
   "outputs": [],
   "source": [
    "#  Monthly Transactions II\n"
   ]
  },
  {
   "cell_type": "code",
   "execution_count": null,
   "metadata": {},
   "outputs": [],
   "source": []
  },
  {
   "cell_type": "code",
   "execution_count": null,
   "metadata": {},
   "outputs": [],
   "source": []
  },
  {
   "cell_type": "code",
   "execution_count": null,
   "metadata": {},
   "outputs": [],
   "source": []
  },
  {
   "cell_type": "code",
   "execution_count": null,
   "metadata": {},
   "outputs": [],
   "source": [
    "# Game Play Analysis I\n",
    "# # "
   ]
  },
  {
   "cell_type": "code",
   "execution_count": null,
   "metadata": {},
   "outputs": [],
   "source": [
    "SELECT player_id, \n",
    "       Min(event_date) first_login \n",
    "FROM   activity \n",
    "GROUP  BY player_id \n",
    "ORDER  BY NULL "
   ]
  },
  {
   "cell_type": "code",
   "execution_count": null,
   "metadata": {},
   "outputs": [],
   "source": []
  },
  {
   "cell_type": "code",
   "execution_count": null,
   "metadata": {},
   "outputs": [],
   "source": []
  },
  {
   "cell_type": "code",
   "execution_count": null,
   "metadata": {},
   "outputs": [],
   "source": [
    "#  Game Play Analysis III\n"
   ]
  },
  {
   "cell_type": "code",
   "execution_count": null,
   "metadata": {},
   "outputs": [],
   "source": []
  },
  {
   "cell_type": "code",
   "execution_count": null,
   "metadata": {},
   "outputs": [],
   "source": []
  },
  {
   "cell_type": "code",
   "execution_count": null,
   "metadata": {},
   "outputs": [],
   "source": []
  },
  {
   "cell_type": "code",
   "execution_count": null,
   "metadata": {},
   "outputs": [],
   "source": [
    "# Department Top Three Salaries"
   ]
  },
  {
   "cell_type": "code",
   "execution_count": null,
   "metadata": {},
   "outputs": [],
   "source": [
    "WITH rank AS (\n",
    "    SELECT\n",
    "        d.name AS Department,\n",
    "        e.name AS Employee,\n",
    "        e.salary AS Salary,\n",
    "        DENSE_RANK() OVER (PARTITION BY d.name ORDER BY e.salary DESC) AS salary_ranking\n",
    "    FROM\n",
    "        Employee e JOIN Department d ON e.departmentId = d.id\n",
    ")\n",
    "\n",
    "SELECT\n",
    "    Department,\n",
    "    Employee,\n",
    "    Salary\n",
    "FROM rank\n",
    "WHERE salary_ranking <= 3"
   ]
  },
  {
   "cell_type": "code",
   "execution_count": null,
   "metadata": {},
   "outputs": [],
   "source": [
    "df = pd.merge(employees, departments, on='departmentId')\n",
    "\n",
    "# Rank employees within each department by salary (descending order)\n",
    "df['salary_ranking'] = df.groupby('departmentId')['salary'].rank(ascending=False)\n",
    "\n",
    "# Select top 3 employees from each department based on salary\n",
    "result_df = df[df['salary_ranking'] <= 3][['departmentId', 'name_x', 'salary']]\n",
    "\n",
    "# Rename columns for clarity (assuming 'name_x' refers to the employee name)\n",
    "result_df.columns = ['Department', 'Employee', 'Salary']\n",
    "\n",
    "# Print the result\n",
    "print(result_df)"
   ]
  },
  {
   "cell_type": "code",
   "execution_count": null,
   "metadata": {},
   "outputs": [],
   "source": [
    "df=employees.join(departments,employees.departmentId=department.departmentid)\n",
    "df.withColumn(\"rank\",dense_rank().over(Window.partitionBy(\"driver\").orderBy(desc(\"salary\"))))\n",
    "df.filter(col(\"rank\")<=3).select(\"departmentId\",\"name\",\"salary\").show()"
   ]
  },
  {
   "cell_type": "code",
   "execution_count": null,
   "metadata": {},
   "outputs": [],
   "source": [
    "# Customer Who Visited but Did Not Make Any Transactions 👍¶"
   ]
  },
  {
   "cell_type": "code",
   "execution_count": null,
   "metadata": {},
   "outputs": [],
   "source": [
    "SELECT\n",
    "  Visits.customer_id,\n",
    "  COUNT(Visits.visit_id) AS count_no_trans\n",
    "FROM Visits\n",
    "LEFT JOIN Transactions\n",
    "  USING (visit_id)\n",
    "WHERE Transactions.transaction_id IS NULL\n",
    "GROUP BY 1;"
   ]
  },
  {
   "cell_type": "code",
   "execution_count": null,
   "metadata": {},
   "outputs": [],
   "source": [
    "df=pd.merge(transactions,customer,right_on=[\"visit_id\"],left_on=[\"visit_id\"],how=\"left\")\n",
    "df[df['transactiond_id'].isnotnull()]\n",
    "df.groupby('customer_id')['visit_id'].count().reset_index()"
   ]
  },
  {
   "cell_type": "code",
   "execution_count": null,
   "metadata": {},
   "outputs": [],
   "source": [
    "df=visits.join(transactions,visits.visit_id==transactions_id,how=\"left\")\n",
    "df=df.filter(col('transaction_id').isNotNull())\n",
    "df.groupby('customer_id').agg(count(col(\"visit-id\")).alias(\"counts\")).show()"
   ]
  },
  {
   "cell_type": "code",
   "execution_count": null,
   "metadata": {},
   "outputs": [],
   "source": [
    "## patients with a condition"
   ]
  },
  {
   "cell_type": "code",
   "execution_count": null,
   "metadata": {},
   "outputs": [],
   "source": [
    "select distinct patient_id, patient_name, conditions\n",
    "from patients\n",
    "where conditions like '%DIAB1%'"
   ]
  },
  {
   "cell_type": "code",
   "execution_count": null,
   "metadata": {},
   "outputs": [],
   "source": [
    "df=patients[patients['condition'].str.contains('DIAB')]\n",
    "df[['patient_id','patient_name','conditions']].unique()"
   ]
  },
  {
   "cell_type": "code",
   "execution_count": null,
   "metadata": {},
   "outputs": [],
   "source": [
    "df=patients.filter(col('conditions').contains('DIAB'))\n",
    "df.select(\"patient_id\",\"patient_name\",\"conditions\").distinct()"
   ]
  },
  {
   "cell_type": "code",
   "execution_count": null,
   "metadata": {},
   "outputs": [],
   "source": [
    "# Find the Missing IDs"
   ]
  },
  {
   "cell_type": "code",
   "execution_count": null,
   "metadata": {},
   "outputs": [],
   "source": [
    "with recursive cte (ids) as\n",
    "(\n",
    "    select 1 as ids\n",
    "    \n",
    "    union all\n",
    "    \n",
    "    select ids + 1 \n",
    "    from cte \n",
    "    where ids < (select max(customer_id) from Customers)\n",
    ")\n",
    "select ids\n",
    "from cte\n",
    "where ids not in (select customer_id from Customers)\n",
    "order by ids"
   ]
  },
  {
   "cell_type": "code",
   "execution_count": null,
   "metadata": {},
   "outputs": [],
   "source": []
  },
  {
   "cell_type": "code",
   "execution_count": null,
   "metadata": {},
   "outputs": [],
   "source": []
  },
  {
   "cell_type": "code",
   "execution_count": null,
   "metadata": {},
   "outputs": [],
   "source": [
    "# Find Users With Valid E-Mails"
   ]
  },
  {
   "cell_type": "code",
   "execution_count": null,
   "metadata": {},
   "outputs": [],
   "source": [
    "SELECT *\n",
    "FROM Users\n",
    "WHERE REGEXP_LIKE(mail, '^[a-zA-Z][a-zA-Z0-9\\_\\.\\-]*@leetcode.com')"
   ]
  },
  {
   "cell_type": "code",
   "execution_count": null,
   "metadata": {},
   "outputs": [],
   "source": [
    "users[users['email'].str.contains('@leetcode.com')]\n",
    "## The second method\n",
    "filtered_df = Users[Users['mail'].str.match('^[a-zA-Z][a-zA-Z0-9\\_\\.\\-]*@leetcode.com')]\n",
    "print(filtered_df)"
   ]
  },
  {
   "cell_type": "code",
   "execution_count": null,
   "metadata": {},
   "outputs": [],
   "source": [
    "Users.filter(regexp_extract(col(\"mail\"), \"^[a-zA-Z][a-zA-Z0-9\\_\\.\\-]*@leetcode\\.com\", 0) != \"\")\n",
    "## second method\n",
    "email.filter(col('email').contains('@leetcode.com'))"
   ]
  },
  {
   "cell_type": "code",
   "execution_count": null,
   "metadata": {},
   "outputs": [],
   "source": [
    "# 1378-replace-employee-id-with-the-unique-identifier.sql"
   ]
  },
  {
   "cell_type": "code",
   "execution_count": null,
   "metadata": {},
   "outputs": [],
   "source": [
    "SELECT unique_id, name\n",
    "FROM Employees\n",
    "LEFT JOIN  EmployeeUNI\n",
    "USING (id);"
   ]
  },
  {
   "cell_type": "code",
   "execution_count": null,
   "metadata": {},
   "outputs": [],
   "source": [
    "df=pd.merge(employee,employeeUnit,on=\"id\",how=\"left\")\n",
    "df[[\"unique_id\",\"name\"]]"
   ]
  },
  {
   "cell_type": "code",
   "execution_count": null,
   "metadata": {},
   "outputs": [],
   "source": [
    "employee.join(employeeUnit,employee.id==employeeUnit.id,how=\"left\").select(col(\"unique_id\"),col(\"name\"))"
   ]
  },
  {
   "cell_type": "code",
   "execution_count": null,
   "metadata": {},
   "outputs": [],
   "source": [
    "# Friends With No Mutual Friends\n"
   ]
  },
  {
   "cell_type": "code",
   "execution_count": null,
   "metadata": {},
   "outputs": [],
   "source": []
  },
  {
   "cell_type": "code",
   "execution_count": null,
   "metadata": {},
   "outputs": [],
   "source": []
  },
  {
   "cell_type": "code",
   "execution_count": null,
   "metadata": {},
   "outputs": [],
   "source": []
  },
  {
   "cell_type": "code",
   "execution_count": null,
   "metadata": {},
   "outputs": [],
   "source": [
    "# Arrange Table by Gender"
   ]
  },
  {
   "cell_type": "code",
   "execution_count": null,
   "metadata": {},
   "outputs": [],
   "source": []
  },
  {
   "cell_type": "code",
   "execution_count": null,
   "metadata": {},
   "outputs": [],
   "source": []
  },
  {
   "cell_type": "code",
   "execution_count": null,
   "metadata": {},
   "outputs": [],
   "source": []
  },
  {
   "cell_type": "code",
   "execution_count": null,
   "metadata": {},
   "outputs": [],
   "source": [
    "# Longest Team Pass Streak\n"
   ]
  },
  {
   "cell_type": "code",
   "execution_count": null,
   "metadata": {},
   "outputs": [],
   "source": []
  },
  {
   "cell_type": "code",
   "execution_count": null,
   "metadata": {},
   "outputs": [],
   "source": []
  },
  {
   "cell_type": "code",
   "execution_count": null,
   "metadata": {},
   "outputs": [],
   "source": []
  },
  {
   "cell_type": "code",
   "execution_count": null,
   "metadata": {},
   "outputs": [],
   "source": [
    "# Employees Project Allocation\n"
   ]
  },
  {
   "cell_type": "code",
   "execution_count": null,
   "metadata": {},
   "outputs": [],
   "source": [
    "select  employee_id, project_id, employee_name, project_workload from(select team,avg(work_load) avg_workload from employee group by 1) a join employee e using (employee_id) join a using(team)\n",
    "where workload>avg_workload\n",
    "order by 1,2"
   ]
  },
  {
   "cell_type": "code",
   "execution_count": null,
   "metadata": {},
   "outputs": [],
   "source": [
    "df=employee.groupby('team')['work_load'].mean().reset_index()\n",
    "df_1=pd.merge(df,employee,right_on=[\"employee\"],left_on=[\"team\"],how=\"inner\")\n",
    "df_1=df_1[df_1['work_load']>df_1['avg_workload']]\n",
    "df_1.sort_values(by=['employee_id','project_id'])"
   ]
  },
  {
   "cell_type": "code",
   "execution_count": null,
   "metadata": {},
   "outputs": [],
   "source": [
    "df=employee.groupby('team').agg(mean(col(\"work_load\"))).show()\n",
    "df_1=df.join(employee,df.team==df.employee,how=\"inner\")\n",
    "df_1=df_1.filter(col('work_load')>col(\"avg_workload\"))\n",
    "df_1.orderBy(['employee_id','project_id'])"
   ]
  },
  {
   "cell_type": "code",
   "execution_count": null,
   "metadata": {},
   "outputs": [],
   "source": [
    "#  Form a Chemical Bond\n"
   ]
  },
  {
   "cell_type": "code",
   "execution_count": null,
   "metadata": {},
   "outputs": [],
   "source": [
    "SELECT a.symbol AS metal, b.symbol AS nonmetal\n",
    "FROM\n",
    "    Elements AS a,\n",
    "    Elements AS b\n",
    "WHERE a.type = 'Metal' AND b.type = 'Nonmetal';"
   ]
  },
  {
   "cell_type": "code",
   "execution_count": null,
   "metadata": {},
   "outputs": [],
   "source": []
  },
  {
   "cell_type": "code",
   "execution_count": null,
   "metadata": {},
   "outputs": [],
   "source": []
  },
  {
   "cell_type": "code",
   "execution_count": null,
   "metadata": {},
   "outputs": [],
   "source": [
    "# CEO Subordinate Hierarchy\n",
    "# # "
   ]
  },
  {
   "cell_type": "code",
   "execution_count": null,
   "metadata": {},
   "outputs": [],
   "source": []
  },
  {
   "cell_type": "code",
   "execution_count": null,
   "metadata": {},
   "outputs": [],
   "source": []
  },
  {
   "cell_type": "code",
   "execution_count": null,
   "metadata": {},
   "outputs": [],
   "source": []
  },
  {
   "cell_type": "code",
   "execution_count": null,
   "metadata": {},
   "outputs": [],
   "source": [
    "# Find Third Transaction"
   ]
  },
  {
   "cell_type": "code",
   "execution_count": null,
   "metadata": {},
   "outputs": [],
   "source": []
  },
  {
   "cell_type": "code",
   "execution_count": null,
   "metadata": {},
   "outputs": [],
   "source": []
  },
  {
   "cell_type": "code",
   "execution_count": null,
   "metadata": {},
   "outputs": [],
   "source": []
  },
  {
   "cell_type": "code",
   "execution_count": null,
   "metadata": {},
   "outputs": [],
   "source": [
    "# Symmetric Coordinates\n",
    "# # "
   ]
  },
  {
   "cell_type": "code",
   "execution_count": null,
   "metadata": {},
   "outputs": [],
   "source": []
  },
  {
   "cell_type": "code",
   "execution_count": null,
   "metadata": {},
   "outputs": [],
   "source": []
  },
  {
   "cell_type": "code",
   "execution_count": null,
   "metadata": {},
   "outputs": [],
   "source": []
  },
  {
   "cell_type": "code",
   "execution_count": null,
   "metadata": {},
   "outputs": [],
   "source": [
    "# Find Overlapping Shifts II\n"
   ]
  },
  {
   "cell_type": "code",
   "execution_count": null,
   "metadata": {},
   "outputs": [],
   "source": []
  },
  {
   "cell_type": "code",
   "execution_count": null,
   "metadata": {},
   "outputs": [],
   "source": []
  },
  {
   "cell_type": "code",
   "execution_count": null,
   "metadata": {},
   "outputs": [],
   "source": []
  },
  {
   "cell_type": "code",
   "execution_count": null,
   "metadata": {},
   "outputs": [],
   "source": [
    "# Find Overlapping Shifts\n",
    "# # "
   ]
  },
  {
   "cell_type": "code",
   "execution_count": null,
   "metadata": {},
   "outputs": [],
   "source": []
  },
  {
   "cell_type": "code",
   "execution_count": null,
   "metadata": {},
   "outputs": [],
   "source": []
  },
  {
   "cell_type": "code",
   "execution_count": null,
   "metadata": {},
   "outputs": [],
   "source": []
  },
  {
   "cell_type": "code",
   "execution_count": null,
   "metadata": {},
   "outputs": [],
   "source": [
    "# Server Utilization Time"
   ]
  },
  {
   "cell_type": "code",
   "execution_count": null,
   "metadata": {},
   "outputs": [],
   "source": []
  },
  {
   "cell_type": "code",
   "execution_count": null,
   "metadata": {},
   "outputs": [],
   "source": []
  },
  {
   "cell_type": "code",
   "execution_count": null,
   "metadata": {},
   "outputs": [],
   "source": []
  },
  {
   "cell_type": "code",
   "execution_count": null,
   "metadata": {},
   "outputs": [],
   "source": [
    "# Find Trending Hashtags II\n"
   ]
  },
  {
   "cell_type": "code",
   "execution_count": null,
   "metadata": {},
   "outputs": [],
   "source": []
  },
  {
   "cell_type": "code",
   "execution_count": null,
   "metadata": {},
   "outputs": [],
   "source": []
  },
  {
   "cell_type": "code",
   "execution_count": null,
   "metadata": {},
   "outputs": [],
   "source": []
  },
  {
   "cell_type": "code",
   "execution_count": null,
   "metadata": {},
   "outputs": [],
   "source": [
    "# Tasks Count in the Weekend\n"
   ]
  },
  {
   "cell_type": "code",
   "execution_count": null,
   "metadata": {},
   "outputs": [],
   "source": []
  },
  {
   "cell_type": "code",
   "execution_count": null,
   "metadata": {},
   "outputs": [],
   "source": []
  },
  {
   "cell_type": "code",
   "execution_count": null,
   "metadata": {},
   "outputs": [],
   "source": []
  },
  {
   "cell_type": "code",
   "execution_count": null,
   "metadata": {},
   "outputs": [],
   "source": [
    "# Employee Task Duration and Concurrent Tasks\n"
   ]
  },
  {
   "cell_type": "code",
   "execution_count": null,
   "metadata": {},
   "outputs": [],
   "source": []
  },
  {
   "cell_type": "code",
   "execution_count": null,
   "metadata": {},
   "outputs": [],
   "source": []
  },
  {
   "cell_type": "code",
   "execution_count": null,
   "metadata": {},
   "outputs": [],
   "source": []
  },
  {
   "cell_type": "code",
   "execution_count": null,
   "metadata": {},
   "outputs": [],
   "source": [
    "# Calculate Orders Within Each Interval\n"
   ]
  },
  {
   "cell_type": "code",
   "execution_count": null,
   "metadata": {},
   "outputs": [],
   "source": []
  },
  {
   "cell_type": "code",
   "execution_count": null,
   "metadata": {},
   "outputs": [],
   "source": []
  },
  {
   "cell_type": "code",
   "execution_count": null,
   "metadata": {},
   "outputs": [],
   "source": []
  },
  {
   "cell_type": "code",
   "execution_count": null,
   "metadata": {},
   "outputs": [],
   "source": [
    "# Classifying Triangles by Lengths leetcode slq"
   ]
  },
  {
   "cell_type": "code",
   "execution_count": null,
   "metadata": {},
   "outputs": [],
   "source": [
    "select case when x==y and y==z then 'equ' when y==z then 'Iscole' else 'scalene' end from triangles"
   ]
  },
  {
   "cell_type": "code",
   "execution_count": null,
   "metadata": {},
   "outputs": [],
   "source": [
    "def type_trianle(type):\n",
    "    if x==6"
   ]
  },
  {
   "cell_type": "code",
   "execution_count": null,
   "metadata": {},
   "outputs": [],
   "source": [
    "# Find Candidates for Data Scientist Position"
   ]
  },
  {
   "cell_type": "code",
   "execution_count": null,
   "metadata": {},
   "outputs": [],
   "source": [
    "SELECT candidate_id\n",
    "FROM Candidates\n",
    "WHERE skill IN ('Python', 'Tableau', 'PostgreSQL')\n",
    "GROUP BY 1\n",
    "HAVING COUNT(1) = 3\n",
    "ORDER BY 1;"
   ]
  },
  {
   "cell_type": "code",
   "execution_count": null,
   "metadata": {},
   "outputs": [],
   "source": []
  },
  {
   "cell_type": "code",
   "execution_count": null,
   "metadata": {},
   "outputs": [],
   "source": [
    "# Find Candidates for Data Scientist Position II"
   ]
  },
  {
   "cell_type": "code",
   "execution_count": null,
   "metadata": {},
   "outputs": [],
   "source": []
  },
  {
   "cell_type": "code",
   "execution_count": null,
   "metadata": {},
   "outputs": [],
   "source": []
  },
  {
   "cell_type": "code",
   "execution_count": null,
   "metadata": {},
   "outputs": [],
   "source": []
  },
  {
   "cell_type": "code",
   "execution_count": null,
   "metadata": {},
   "outputs": [],
   "source": [
    "# Combine Two Tables"
   ]
  },
  {
   "cell_type": "code",
   "execution_count": null,
   "metadata": {},
   "outputs": [],
   "source": [
    "SELECT FirstName, LastName, City, State\n",
    "FROM Person\n",
    "LEFT JOIN Address\n",
    "ON Person.PersonId = Address.PersonId"
   ]
  },
  {
   "cell_type": "code",
   "execution_count": null,
   "metadata": {},
   "outputs": [],
   "source": [
    "df=pd.merge(person,address,right_on=[\"PersonId\"],left_on=[\"PersonId\"],how=\"left\")\n",
    "df[['FirstName','LastName','City','State']]"
   ]
  },
  {
   "cell_type": "code",
   "execution_count": null,
   "metadata": {},
   "outputs": [],
   "source": [
    "df=person.join(address,person.person_id==address.person_id,how=\"left\")\n",
    "df.select(\"FirstName\",\"LastName\",\"State\").show()"
   ]
  },
  {
   "cell_type": "code",
   "execution_count": null,
   "metadata": {},
   "outputs": [],
   "source": [
    "#  Nth Highest Salary"
   ]
  },
  {
   "cell_type": "code",
   "execution_count": null,
   "metadata": {},
   "outputs": [],
   "source": [
    "WITH T AS (SELECT salary, DENSE_RANK() OVER (ORDER BY salary DESC) AS rk FROM Employee)\n",
    "SELECT (SELECT DISTINCT salary FROM T WHERE rk = 2) AS SecondHighestSalary;"
   ]
  },
  {
   "cell_type": "code",
   "execution_count": null,
   "metadata": {},
   "outputs": [],
   "source": [
    "def find_second_highest_salary(employees_df,n):\n",
    "\n",
    "\n",
    "  employees_df['rank'] = employees_df['salary'].rank(method='dense', ascending=False)\n",
    "\n",
    "  second_highest_salary = employees_df[employees_df['rank'] == n]['salary']\n",
    "\n",
    "  # Return the second highest salary if it exists, otherwise return None\n",
    "  return second_highest_salary.values[0] if not second_highest_salary.empty else None\n",
    "\n",
    "\n",
    "second_highest_salary = find_second_highest_salary(employees_df,2)\n",
    "\n",
    "print(f\"Second Highest Salary: {second_highest_salary}\")"
   ]
  },
  {
   "cell_type": "code",
   "execution_count": null,
   "metadata": {},
   "outputs": [],
   "source": [
    "n=value\n",
    "employee.withColumn(\"rank\",over(Window.order by(desc(\"salary\"). desc()))\n",
    "employee.filter(col(\"rank\")==\"n\").select(distinct('salary')).show()"
   ]
  },
  {
   "cell_type": "code",
   "execution_count": null,
   "metadata": {},
   "outputs": [],
   "source": [
    "# Second Highest Salary"
   ]
  },
  {
   "cell_type": "code",
   "execution_count": null,
   "metadata": {},
   "outputs": [],
   "source": [
    "WITH T AS (SELECT salary, DENSE_RANK() OVER (ORDER BY salary DESC) AS rk FROM Employee)\n",
    "SELECT (SELECT DISTINCT salary FROM T WHERE rk = 2) AS SecondHighestSalary;"
   ]
  },
  {
   "cell_type": "code",
   "execution_count": null,
   "metadata": {},
   "outputs": [],
   "source": [
    "def find_second_highest_salary(employees_df):\n",
    " \n",
    "\n",
    "  # Calculate rank for each salary in descending order\n",
    "  employees_df['rank'] = employees_df['salary'].rank(method='dense', ascending=False)\n",
    "\n",
    "  # Filter for the second highest salary (rank = 2)\n",
    "  second_highest_salary = employees_df[employees_df['rank'] == 2]['salary']\n",
    "\n",
    "  # Return the second highest salary if it exists, otherwise return None\n",
    "  return second_highest_salary.values[0] if not second_highest_salary.empty else None\n",
    "\n",
    "# Example usage:\n",
    "# Assuming 'employees_df' is your pandas DataFrame\n",
    "# Replace 'employees_df' with the actual name of your DataFrame\n",
    "second_highest_salary = find_second_highest_salary(employees_df)\n",
    "\n",
    "print(f\"Second Highest Salary: {second_highest_salary}\")"
   ]
  },
  {
   "cell_type": "code",
   "execution_count": null,
   "metadata": {},
   "outputs": [],
   "source": [
    "employee.withColumn(\"rank\",over(Window.order by(desc(\"salary\"). desc()))\n",
    "employee.filter(col(\"rank\")==2).select(distinct('salary')).show()"
   ]
  },
  {
   "cell_type": "code",
   "execution_count": null,
   "metadata": {},
   "outputs": [],
   "source": [
    "# Dynamic Pivoting of a Table\n"
   ]
  },
  {
   "cell_type": "code",
   "execution_count": null,
   "metadata": {},
   "outputs": [],
   "source": []
  },
  {
   "cell_type": "code",
   "execution_count": null,
   "metadata": {},
   "outputs": [],
   "source": []
  },
  {
   "cell_type": "code",
   "execution_count": null,
   "metadata": {},
   "outputs": [],
   "source": []
  },
  {
   "cell_type": "code",
   "execution_count": null,
   "metadata": {},
   "outputs": [],
   "source": [
    "# Dynamic Unpivoting of a Table\n"
   ]
  },
  {
   "cell_type": "code",
   "execution_count": null,
   "metadata": {},
   "outputs": [],
   "source": []
  },
  {
   "cell_type": "code",
   "execution_count": null,
   "metadata": {},
   "outputs": [],
   "source": []
  },
  {
   "cell_type": "code",
   "execution_count": null,
   "metadata": {},
   "outputs": [],
   "source": []
  },
  {
   "cell_type": "code",
   "execution_count": null,
   "metadata": {},
   "outputs": [],
   "source": [
    "# Find Top Performing Driver\n"
   ]
  },
  {
   "cell_type": "code",
   "execution_count": null,
   "metadata": {},
   "outputs": [],
   "source": []
  },
  {
   "cell_type": "code",
   "execution_count": null,
   "metadata": {},
   "outputs": [],
   "source": []
  },
  {
   "cell_type": "code",
   "execution_count": null,
   "metadata": {},
   "outputs": [],
   "source": []
  },
  {
   "cell_type": "code",
   "execution_count": null,
   "metadata": {},
   "outputs": [],
   "source": [
    "# Find Median Given Frequency of Numbers\n"
   ]
  },
  {
   "cell_type": "code",
   "execution_count": null,
   "metadata": {},
   "outputs": [],
   "source": []
  },
  {
   "cell_type": "code",
   "execution_count": null,
   "metadata": {},
   "outputs": [],
   "source": []
  },
  {
   "cell_type": "code",
   "execution_count": null,
   "metadata": {},
   "outputs": [],
   "source": []
  },
  {
   "cell_type": "code",
   "execution_count": null,
   "metadata": {},
   "outputs": [],
   "source": [
    "#  Find the Start and End Number of Continuous Ranges\n"
   ]
  },
  {
   "cell_type": "code",
   "execution_count": null,
   "metadata": {},
   "outputs": [],
   "source": []
  },
  {
   "cell_type": "code",
   "execution_count": null,
   "metadata": {},
   "outputs": [],
   "source": []
  },
  {
   "cell_type": "code",
   "execution_count": null,
   "metadata": {},
   "outputs": [],
   "source": []
  },
  {
   "cell_type": "code",
   "execution_count": null,
   "metadata": {},
   "outputs": [],
   "source": [
    "#  Human Traffic of Stadium\n",
    "# # "
   ]
  },
  {
   "cell_type": "code",
   "execution_count": null,
   "metadata": {},
   "outputs": [],
   "source": []
  },
  {
   "cell_type": "code",
   "execution_count": null,
   "metadata": {},
   "outputs": [],
   "source": []
  },
  {
   "cell_type": "code",
   "execution_count": null,
   "metadata": {},
   "outputs": [],
   "source": []
  },
  {
   "cell_type": "code",
   "execution_count": null,
   "metadata": {},
   "outputs": [],
   "source": [
    "# The First Day of the Maximum Recorded Degree in Each City\n"
   ]
  },
  {
   "cell_type": "code",
   "execution_count": null,
   "metadata": {},
   "outputs": [],
   "source": [
    "WITH\n",
    "    T AS (\n",
    "        SELECT\n",
    "            *,\n",
    "            RANK() OVER (\n",
    "                PARTITION BY city_id\n",
    "                ORDER BY degree DESC, day\n",
    "            ) AS rk\n",
    "        FROM Weather\n",
    "    )\n",
    "SELECT city_id, day, degree\n",
    "FROM T\n",
    "WHERE rk = 1\n",
    "ORDER BY 1;"
   ]
  },
  {
   "cell_type": "code",
   "execution_count": null,
   "metadata": {},
   "outputs": [],
   "source": []
  },
  {
   "cell_type": "code",
   "execution_count": null,
   "metadata": {},
   "outputs": [],
   "source": []
  },
  {
   "cell_type": "code",
   "execution_count": null,
   "metadata": {},
   "outputs": [],
   "source": [
    "#  Game Play Analysis IV\n"
   ]
  },
  {
   "cell_type": "code",
   "execution_count": null,
   "metadata": {},
   "outputs": [],
   "source": []
  },
  {
   "cell_type": "code",
   "execution_count": null,
   "metadata": {},
   "outputs": [],
   "source": []
  },
  {
   "cell_type": "code",
   "execution_count": null,
   "metadata": {},
   "outputs": [],
   "source": []
  },
  {
   "cell_type": "code",
   "execution_count": null,
   "metadata": {},
   "outputs": [],
   "source": [
    "# Triangle Judgement"
   ]
  },
  {
   "cell_type": "code",
   "execution_count": null,
   "metadata": {},
   "outputs": [],
   "source": []
  },
  {
   "cell_type": "code",
   "execution_count": null,
   "metadata": {},
   "outputs": [],
   "source": []
  },
  {
   "cell_type": "code",
   "execution_count": null,
   "metadata": {},
   "outputs": [],
   "source": []
  },
  {
   "cell_type": "code",
   "execution_count": null,
   "metadata": {},
   "outputs": [],
   "source": [
    "#  Sales Person.sql\n"
   ]
  },
  {
   "cell_type": "code",
   "execution_count": null,
   "metadata": {},
   "outputs": [],
   "source": [
    "select salesperson.name\n",
    "from orders o join company c on (o.com_id = c.com_id and c.name = 'RED')\n",
    "right join salesperson on salesperson.sales_id = o.sales_id\n",
    "where o.sales_id is null;"
   ]
  },
  {
   "cell_type": "code",
   "execution_count": null,
   "metadata": {},
   "outputs": [],
   "source": [
    "df=pd.merge(orders,company,right_on=[\"com_id\"],left_on=[\"com_id\"],how=\"inner\")\n",
    "df_1=pd.merge(df,salesperson,right_on=[\"sales_id\"],left_on=[\"sales_id\"],how=\"right\")\n",
    "df_1[df_1['sales_id'].notnull()]['name']"
   ]
  },
  {
   "cell_type": "code",
   "execution_count": null,
   "metadata": {},
   "outputs": [],
   "source": [
    "df=orders.join(company,orders.com_id==company.com_id,how=\"inner\")\n",
    "df_1=df.join(salesperson,df.sales_id==salesperson.sales_id,how=\"right\")\n",
    "df_1.filter(df_1.sales_id.isNotNull()).select(\"name\").show()"
   ]
  },
  {
   "cell_type": "code",
   "execution_count": null,
   "metadata": {},
   "outputs": [],
   "source": [
    "# MySQL/recyclable-and-low-fat-products.sql"
   ]
  },
  {
   "cell_type": "code",
   "execution_count": null,
   "metadata": {},
   "outputs": [],
   "source": [
    "SELECT product_id\n",
    "FROM   Products\n",
    "WHERE  low_fats = 'Y'\n",
    "       AND recyclable = 'Y'\n",
    "ORDER  BY NULL;"
   ]
  },
  {
   "cell_type": "code",
   "execution_count": null,
   "metadata": {},
   "outputs": [],
   "source": [
    "products[(products['low_fats']=='Y')&(products['recyclable']=='Y')].sort_values(na_position=True)"
   ]
  },
  {
   "cell_type": "code",
   "execution_count": null,
   "metadata": {},
   "outputs": [],
   "source": [
    "products.filter((col(\"low_fats\")=='Y')&(col(\"recyclable\")=='Y')  #check"
   ]
  },
  {
   "cell_type": "code",
   "execution_count": null,
   "metadata": {},
   "outputs": [],
   "source": [
    "# MySQL/find-followers-count.sql"
   ]
  },
  {
   "cell_type": "code",
   "execution_count": null,
   "metadata": {},
   "outputs": [],
   "source": [
    "SELECT user_id, \n",
    "       Count(follower_id) AS followers_count \n",
    "FROM   followers \n",
    "GROUP  BY user_id \n",
    "ORDER  BY user_id; "
   ]
  },
  {
   "cell_type": "code",
   "execution_count": null,
   "metadata": {},
   "outputs": [],
   "source": [
    "followers.groupby('user_id')['follower_id'].count().sort_values(by=['user_id']).reset_index()"
   ]
  },
  {
   "cell_type": "code",
   "execution_count": null,
   "metadata": {},
   "outputs": [],
   "source": [
    "followers.groupby('user_id').agg(count(col(\"follower_id\"))).sort(asc(\"user_id\")).show()"
   ]
  },
  {
   "cell_type": "code",
   "execution_count": null,
   "metadata": {},
   "outputs": [],
   "source": [
    "# 1581-customer-who-visited-but-did-not-make-any-transactions.sql"
   ]
  },
  {
   "cell_type": "code",
   "execution_count": null,
   "metadata": {},
   "outputs": [],
   "source": [
    "SELECT customer_id, COUNT(*) as count_no_trans\n",
    "FROM Visits\n",
    "WHERE visit_id NOT IN (SELECT DISTINCT visit_id FROM Transactions)\n",
    "GROUP BY customer_id;"
   ]
  },
  {
   "cell_type": "code",
   "execution_count": null,
   "metadata": {},
   "outputs": [],
   "source": [
    "df=pd.merge(visits,visits,right_on=[\"visit_id\"],left_on=[\"visit_id\"],how=\"inner\",suffix=('_x','_y'))\n",
    "df_1=df[df['visit_id_x']!=df[visit_id_y]]\n",
    "df_1.groupby(\"customer_id\").size().reset_index(name=\"counts\")"
   ]
  },
  {
   "cell_type": "code",
   "execution_count": null,
   "metadata": {},
   "outputs": [],
   "source": [
    "df=visits.alias(\"v1\").join(visit.alias(\"v2\"),v1.visit_id==v2.visit_id,how=\"inner\")\n",
    "df.filter(col(\"v1.visit_id\")!=col(\"v2.visit_id\")).groupby(\"v1.customer_id\").agg(count(col(\"*\")).alias(\"count_no_trans\")).show()"
   ]
  },
  {
   "cell_type": "code",
   "execution_count": null,
   "metadata": {},
   "outputs": [],
   "source": [
    "# 1873-calculate-special-bonus.sql"
   ]
  },
  {
   "cell_type": "code",
   "execution_count": null,
   "metadata": {},
   "outputs": [],
   "source": [
    "select employee_id, if(employee_id%2=1 and name not like'M%', salary,0) as bonus from Employees;"
   ]
  },
  {
   "cell_type": "code",
   "execution_count": null,
   "metadata": {},
   "outputs": [],
   "source": [
    "df=bonus.copy()\n",
    "df['bonus']=df[df['id']%2==1)&(~df['name'].str.startswith('M'))]\n",
    "df[['employee_id','bonus']]"
   ]
  },
  {
   "cell_type": "code",
   "execution_count": null,
   "metadata": {},
   "outputs": [],
   "source": [
    "bonus.filter((col('employee_id')%2=1)&(~col('name').startswith('M')))"
   ]
  },
  {
   "cell_type": "code",
   "execution_count": null,
   "metadata": {},
   "outputs": [],
   "source": [
    "## Artcile Views"
   ]
  },
  {
   "cell_type": "code",
   "execution_count": null,
   "metadata": {},
   "outputs": [],
   "source": [
    "SELECT DISTINCT author_id AS id \n",
    "FROM   views \n",
    "WHERE  author_id = viewer_id \n",
    "ORDER  BY id"
   ]
  },
  {
   "cell_type": "code",
   "execution_count": null,
   "metadata": {},
   "outputs": [],
   "source": [
    "df[df['author_id']==df[\"viewer_id\"]].sort_values(by=['id'],ascending=True) ##chekc"
   ]
  },
  {
   "cell_type": "code",
   "execution_count": null,
   "metadata": {},
   "outputs": [],
   "source": [
    "df.filter(col(\"author_id\")==col(\"viewer_id\")).sort(asc(\"id\")).select(distinct(\"author_id\").alias(\"id\"))"
   ]
  },
  {
   "cell_type": "code",
   "execution_count": null,
   "metadata": {},
   "outputs": [],
   "source": [
    "# Project Employees III\n"
   ]
  },
  {
   "cell_type": "code",
   "execution_count": null,
   "metadata": {},
   "outputs": [],
   "source": [
    "WITH\n",
    "    T AS (\n",
    "        SELECT\n",
    "            *,\n",
    "            RANK() OVER (\n",
    "                PARTITION BY project_id\n",
    "                ORDER BY experience_years DESC\n",
    "            ) AS rk\n",
    "        FROM\n",
    "            Project\n",
    "            JOIN Employee USING (employee_id)\n",
    "    )\n",
    "SELECT project_id, employee_id\n",
    "FROM T\n",
    "WHERE rk = 1;"
   ]
  },
  {
   "cell_type": "code",
   "execution_count": null,
   "metadata": {},
   "outputs": [],
   "source": [
    "Window=Window.partitionBy('project_id').orderBy(desc(\"experience_years\"))\n",
    "project.withColumn(\"rank\",rank().over(window))\n",
    "df=project.join(employee,project.employee_id=employee.employee_id,how=\"inner\")\n",
    "df.filter(col(\"rank\")==1).select(\"project_id\",\"employee_id\")"
   ]
  },
  {
   "cell_type": "code",
   "execution_count": null,
   "metadata": {},
   "outputs": [],
   "source": [
    "df['rank']=project.groupby('project_id')['experience'].rank(method=\"dense\",ascending=False)\n",
    "df_1=pd.merge(df,employee,on=[\"employee_id\"],how=\"inner\")\n",
    "df_1[df_1['rank']==1][['project_id','employee_id']]"
   ]
  },
  {
   "cell_type": "code",
   "execution_count": null,
   "metadata": {},
   "outputs": [],
   "source": [
    "# Exchange Seats"
   ]
  },
  {
   "cell_type": "code",
   "execution_count": null,
   "metadata": {},
   "outputs": [],
   "source": []
  },
  {
   "cell_type": "code",
   "execution_count": null,
   "metadata": {},
   "outputs": [],
   "source": []
  },
  {
   "cell_type": "code",
   "execution_count": null,
   "metadata": {},
   "outputs": [],
   "source": []
  },
  {
   "cell_type": "code",
   "execution_count": null,
   "metadata": {},
   "outputs": [],
   "source": [
    "# daily-leads-and-partners.sql"
   ]
  },
  {
   "cell_type": "code",
   "execution_count": null,
   "metadata": {},
   "outputs": [],
   "source": [
    "SELECT date_id,\n",
    "       make_name,\n",
    "       COUNT(DISTINCT lead_id) AS unique_leads,\n",
    "       COUNT(DISTINCT partner_id) AS unique_partners\n",
    "FROM DailySales\n",
    "GROUP BY 1, 2\n",
    "ORDER BY NULL; ##check"
   ]
  },
  {
   "cell_type": "code",
   "execution_count": null,
   "metadata": {},
   "outputs": [],
   "source": [
    "dailysales.groupby(['date_id','make_name']).agg(unique_leads={'lead_id':'nunique'},'unique_partners'={'unique_partners':'nunique'}).reset_index()"
   ]
  },
  {
   "cell_type": "code",
   "execution_count": null,
   "metadata": {},
   "outputs": [],
   "source": [
    "dailysales.groupby(['date_id','make_name']).agg(countDistinct(col(\"lead_id\")),countDistinct(col(\"unique_partners\")))."
   ]
  },
  {
   "cell_type": "code",
   "execution_count": null,
   "metadata": {},
   "outputs": [],
   "source": [
    "# Maximum Transaction Each Day "
   ]
  },
  {
   "cell_type": "code",
   "execution_count": null,
   "metadata": {},
   "outputs": [],
   "source": [
    "SELECT \n",
    "\n",
    "    DATE(transaction_date) as transaction_date,\n",
    "\n",
    "    MAX(amount) as max_transaction_amount\n",
    "\n",
    "FROM transactions\n",
    "\n",
    "GROUP BY DATE(transaction_date); \n"
   ]
  },
  {
   "cell_type": "code",
   "execution_count": null,
   "metadata": {},
   "outputs": [],
   "source": [
    "# sellers-with-no-sales.sql"
   ]
  },
  {
   "cell_type": "code",
   "execution_count": null,
   "metadata": {},
   "outputs": [],
   "source": [
    "select distinct seller_name\n",
    "from sellers s left join orders\n",
    "on s.seller_id=o.seller_id\n",
    "and year(date)=2020\n",
    "order by 1"
   ]
  },
  {
   "cell_type": "code",
   "execution_count": null,
   "metadata": {},
   "outputs": [],
   "source": [
    "## Total time spent by employee"
   ]
  },
  {
   "cell_type": "code",
   "execution_count": null,
   "metadata": {},
   "outputs": [],
   "source": [
    "SELECT event_day AS day, emp_id, SUM(out_time - in_time) AS total_time\n",
    "FROM Employees\n",
    "GROUP BY event_day, emp_id;"
   ]
  },
  {
   "cell_type": "code",
   "execution_count": null,
   "metadata": {},
   "outputs": [],
   "source": [
    "df=employee.copy()\n",
    "df['tota_time']=df['out_time']-df['in_time']\n",
    "df.groupby(['event_day','emp_id'])[\"total_time\"].sum().reset_index()"
   ]
  },
  {
   "cell_type": "code",
   "execution_count": null,
   "metadata": {},
   "outputs": [],
   "source": [
    "df.withColumn(\"total_time\",col(sum(\"out_time\"))-col(sum(col(\"in_time\"))))\n",
    "df.groupby(\"event_day\",\"emp_id\").agg(sum(col(\"total_time\"))).show()"
   ]
  },
  {
   "cell_type": "code",
   "execution_count": null,
   "metadata": {},
   "outputs": [],
   "source": [
    "#  Find Latest Salaries\n"
   ]
  },
  {
   "cell_type": "code",
   "execution_count": null,
   "metadata": {},
   "outputs": [],
   "source": [
    "SELECT\n",
    "\temp_id,\n",
    "\tfirstname,\n",
    "\tlastname,\n",
    "\tmax( salary ) AS salary,\n",
    "\tdepartment_id \n",
    "FROM\n",
    "\tSalary \n",
    "GROUP BY\n",
    "\temp_id \n",
    "ORDER BY\n",
    "\temp_id;"
   ]
  },
  {
   "cell_type": "code",
   "execution_count": null,
   "metadata": {},
   "outputs": [],
   "source": [
    "df=salary.copy()\n",
    "df.groupby([\"emp_id\",\"first_name\",\"last_name\"])['salary'].max().sort_values(ascending=False).reset_index()"
   ]
  },
  {
   "cell_type": "code",
   "execution_count": null,
   "metadata": {},
   "outputs": [],
   "source": [
    "df.groupby(\"emp_id\",\"first_name\",\"last_name\").agg(sum(col(\"salary\")).alias(\"max\")).show()"
   ]
  },
  {
   "cell_type": "code",
   "execution_count": null,
   "metadata": {},
   "outputs": [],
   "source": [
    "# count-artist-occurrences-on-spotify-ranking-list.sql\n"
   ]
  },
  {
   "cell_type": "code",
   "execution_count": null,
   "metadata": {},
   "outputs": [],
   "source": [
    "\n",
    "SELECT\n",
    "    artist,\n",
    "    count(1) AS occurrences\n",
    "FROM Spotify\n",
    "GROUP BY artist\n",
    "ORDER BY occurrences DESC, artist ASC;"
   ]
  },
  {
   "cell_type": "code",
   "execution_count": null,
   "metadata": {},
   "outputs": [],
   "source": [
    "spotify.groupby('artist').size().reset_index(name=\"occuerence\")"
   ]
  },
  {
   "cell_type": "code",
   "execution_count": null,
   "metadata": {},
   "outputs": [],
   "source": [
    "spotify.groupby(\"artist\").agg(count(col(\"*\")).alias(\"occuerence\")).show()"
   ]
  },
  {
   "cell_type": "code",
   "execution_count": null,
   "metadata": {},
   "outputs": [],
   "source": [
    "#  Game Play Analysis V"
   ]
  },
  {
   "cell_type": "code",
   "execution_count": null,
   "metadata": {},
   "outputs": [],
   "source": []
  },
  {
   "cell_type": "code",
   "execution_count": null,
   "metadata": {},
   "outputs": [],
   "source": []
  },
  {
   "cell_type": "code",
   "execution_count": null,
   "metadata": {},
   "outputs": [],
   "source": []
  },
  {
   "cell_type": "code",
   "execution_count": null,
   "metadata": {},
   "outputs": [],
   "source": [
    "# Rising Temperature\n"
   ]
  },
  {
   "cell_type": "code",
   "execution_count": null,
   "metadata": {},
   "outputs": [],
   "source": [
    "select  *\n",
    "from weather w1 join weather w2 on DateDiff(w1.date,w2.date)==1 and w1.temperature>w2.temperature"
   ]
  },
  {
   "cell_type": "code",
   "execution_count": null,
   "metadata": {},
   "outputs": [],
   "source": []
  },
  {
   "cell_type": "code",
   "execution_count": null,
   "metadata": {},
   "outputs": [],
   "source": []
  },
  {
   "cell_type": "code",
   "execution_count": null,
   "metadata": {},
   "outputs": [],
   "source": [
    "Immediate Food Delivery I\n",
    "# "
   ]
  },
  {
   "cell_type": "code",
   "execution_count": null,
   "metadata": {},
   "outputs": [],
   "source": []
  },
  {
   "cell_type": "code",
   "execution_count": null,
   "metadata": {},
   "outputs": [],
   "source": []
  },
  {
   "cell_type": "code",
   "execution_count": null,
   "metadata": {},
   "outputs": [],
   "source": []
  },
  {
   "cell_type": "code",
   "execution_count": null,
   "metadata": {},
   "outputs": [],
   "source": [
    "# Calculate Product Final Price\n"
   ]
  },
  {
   "cell_type": "code",
   "execution_count": null,
   "metadata": {},
   "outputs": [],
   "source": []
  },
  {
   "cell_type": "code",
   "execution_count": null,
   "metadata": {},
   "outputs": [],
   "source": []
  },
  {
   "cell_type": "code",
   "execution_count": null,
   "metadata": {},
   "outputs": [],
   "source": []
  },
  {
   "cell_type": "code",
   "execution_count": null,
   "metadata": {},
   "outputs": [],
   "source": [
    "# Number of Trusted Contacts of a Customer\n"
   ]
  },
  {
   "cell_type": "code",
   "execution_count": null,
   "metadata": {},
   "outputs": [],
   "source": []
  },
  {
   "cell_type": "code",
   "execution_count": null,
   "metadata": {},
   "outputs": [],
   "source": []
  },
  {
   "cell_type": "code",
   "execution_count": null,
   "metadata": {},
   "outputs": [],
   "source": []
  },
  {
   "cell_type": "code",
   "execution_count": null,
   "metadata": {},
   "outputs": [],
   "source": [
    "#  Immediate Food Delivery II\n"
   ]
  },
  {
   "cell_type": "code",
   "execution_count": null,
   "metadata": {},
   "outputs": [],
   "source": []
  },
  {
   "cell_type": "code",
   "execution_count": null,
   "metadata": {},
   "outputs": [],
   "source": []
  },
  {
   "cell_type": "code",
   "execution_count": null,
   "metadata": {},
   "outputs": [],
   "source": []
  },
  {
   "cell_type": "code",
   "execution_count": null,
   "metadata": {},
   "outputs": [],
   "source": [
    "# Immediate Food Delivery III"
   ]
  },
  {
   "cell_type": "code",
   "execution_count": null,
   "metadata": {},
   "outputs": [],
   "source": [
    "SELECT  order_date\n",
    "       ,round(100*SUM(IF(customer_pref_delivery_date = order_date,1,0))/COUNT(*),2) AS immediate_percentage\n",
    "FROM Delivery\n",
    "GROUP BY  order_date\n",
    "ORDER BY order_date"
   ]
  },
  {
   "cell_type": "code",
   "execution_count": null,
   "metadata": {},
   "outputs": [],
   "source": [
    "import pandas as pd\n",
    "\n",
    "def calculate_immediate_percentage(df):\n",
    "   \n",
    "\n",
    "    df['immediate_delivery'] = (df['customer_pref_delivery_date'] == df['order_date']).astype(int)\n",
    "    \n",
    "    grouped_df = df.groupby('order_date').agg(\n",
    "        immediate_percentage=('immediate_delivery', lambda x: round(100 * x.sum() / len(x), 2))\n",
    "    ).reset_index()\n",
    "    \n",
    "    return grouped_df\n",
    "result_df = calculate_immediate_percentage(Delivery)\n",
    "\n",
    "print(result_df)"
   ]
  },
  {
   "cell_type": "code",
   "execution_count": null,
   "metadata": {},
   "outputs": [],
   "source": [
    "windowSpec = Window.partitionBy(\"order_date\")\n",
    "\n",
    "result_df = Delivery.withColumn(\n",
    "    \"immediate_delivery\", \n",
    "    when(col(\"customer_pref_delivery_date\") == col(\"order_date\"), 1).otherwise(0)\n",
    ").groupBy(\"order_date\") \\\n",
    ".agg(\n",
    "    round(\n",
    "        (sum(\"immediate_delivery\") / count(\"*\")) * 100, \n",
    "        2\n",
    "    ).alias(\"immediate_percentage\")\n",
    ").orderBy(\"order_date\")"
   ]
  },
  {
   "cell_type": "code",
   "execution_count": null,
   "metadata": {},
   "outputs": [],
   "source": [
    "## customer order frequency"
   ]
  },
  {
   "cell_type": "code",
   "execution_count": null,
   "metadata": {},
   "outputs": [],
   "source": [
    "select o.customer_id, name\n",
    "from\n",
    "Orders o\n",
    "join\n",
    "Product p\n",
    "on o.product_id = p.product_id\n",
    "join\n",
    "Customers c\n",
    "on o.customer_id = c.customer_id\n",
    "group by 1, 2\n",
    "having sum(case when date_format(order_date, '%Y-%m')='2020-06'\n",
    "then price*quantity end) >= 100\n",
    "and \n",
    "sum(case when date_format(order_date, '%Y-%m')='2020-07'\n",
    "then price*quantity end) >= 100"
   ]
  },
  {
   "cell_type": "code",
   "execution_count": null,
   "metadata": {},
   "outputs": [],
   "source": []
  },
  {
   "cell_type": "code",
   "execution_count": null,
   "metadata": {},
   "outputs": [],
   "source": []
  },
  {
   "cell_type": "code",
   "execution_count": null,
   "metadata": {},
   "outputs": [],
   "source": [
    "# Rank Scores.sql\n"
   ]
  },
  {
   "cell_type": "code",
   "execution_count": null,
   "metadata": {},
   "outputs": [],
   "source": [
    "    SELECT Score, DENSE_RANK() OVER (PARTITION BY Score ORDER BY Score DESC) AS Rank\n",
    "    FROM Scores\n"
   ]
  },
  {
   "cell_type": "code",
   "execution_count": null,
   "metadata": {},
   "outputs": [],
   "source": [
    "df.groupby('Score')['Score'].rank(method='dense', ascending=False)\n",
    "print(df)\n"
   ]
  },
  {
   "cell_type": "code",
   "execution_count": null,
   "metadata": {},
   "outputs": [],
   "source": [
    "df.withColumn(\"dense_rank\",dense_rank().over(partitionBy(\"score\").orderBy(\"score\").desc()))\n",
    "df.select(\"score\",\"rank\").show()"
   ]
  },
  {
   "cell_type": "code",
   "execution_count": null,
   "metadata": {},
   "outputs": [],
   "source": [
    "# leetcode_SQL/sales-analysis-iii.sql"
   ]
  },
  {
   "cell_type": "code",
   "execution_count": null,
   "metadata": {},
   "outputs": [],
   "source": [
    "SELECT product_id, \n",
    "       product_name \n",
    "FROM   product \n",
    "WHERE  product_id NOT IN (SELECT product_id \n",
    "                          FROM   sales \n",
    "                          WHERE  sale_date NOT BETWEEN \n",
    "                                 '2019-01-01' AND '2019-03-31'); "
   ]
  },
  {
   "cell_type": "code",
   "execution_count": null,
   "metadata": {},
   "outputs": [],
   "source": [
    "df=pd.merge(product,product,right_on=[\"product_id\"],left_on=[\"product_id\"],how=\"inner\")\n",
    "df_2=df[(df['product_id']!=df['product_id'])&(df['sales_date']>='2019-01-01')&(df['sales_date']<='2019-03-31')]\n",
    "df_2[[\"product_id\",\"product_name\"]]"
   ]
  },
  {
   "cell_type": "code",
   "execution_count": null,
   "metadata": {},
   "outputs": [],
   "source": [
    "df=product.alias(\"p1\").join(product.alias(\"p2\"),p1.product_id==p2.product_id,how=\"inner\")\n",
    "df2=df.filter(col(\"p1.product_id\")!=col(\"p2.product_id\"))&(col('sales_date')>='2019-01-01')&(col('sales_date')<='2019-03-31')\n",
    "df2.select(\"product_id\",\"product_name\").show()"
   ]
  },
  {
   "cell_type": "code",
   "execution_count": null,
   "metadata": {},
   "outputs": [],
   "source": [
    "# highest-salaries-difference.sql\n"
   ]
  },
  {
   "cell_type": "code",
   "execution_count": null,
   "metadata": {},
   "outputs": [],
   "source": [
    "SELECT ABS(\n",
    "    (\n",
    "        SELECT MAX(salary)\n",
    "        FROM Salaries\n",
    "        WHERE DEPARTMENT = \"Marketing\"\n",
    "    )\n",
    "    - \n",
    "    (\n",
    "        SELECT MAX(salary)\n",
    "        FROM Salaries\n",
    "        WHERE DEPARTMENT = \"Engineering\"\n",
    "    )\n",
    ") AS salary_difference;"
   ]
  },
  {
   "cell_type": "code",
   "execution_count": null,
   "metadata": {},
   "outputs": [],
   "source": [
    "salary_difference_marketing=salaries[salariees['department']=='Marketing']['salary'].max()\n",
    "salary_difference_engineering=salaries[salariees['department']=='Engineering']['salary'].max()\n",
    "abs(salary_difference_marketing-salary_difference_engineering)"
   ]
  },
  {
   "cell_type": "code",
   "execution_count": null,
   "metadata": {},
   "outputs": [],
   "source": [
    "salaries_marketing=salaries.filter(col(\"department\")==\"Marketing\").agg(max(\"salary\"))\n",
    "salaries_engineering=salaries.filter(col(\"department\")==\"Engineerng\").agg(max(\"salary\"))\n",
    "abs(salaries_marketing-salaries_engineering)"
   ]
  },
  {
   "cell_type": "code",
   "execution_count": null,
   "metadata": {},
   "outputs": [],
   "source": [
    "## Tweets rolling average"
   ]
  },
  {
   "cell_type": "code",
   "execution_count": null,
   "metadata": {},
   "outputs": [],
   "source": [
    "select \n",
    "  user_id,\n",
    "  tweet_date,\n",
    "  round(avg(tweet_count) over (partition by user_id order by tweet_date rows between 2 preceding and current row), 2) as rolling_avg_3_days\n",
    "from \n",
    "    tweets\n",
    "group by \n",
    "    user_id,\n",
    "    tweet_date,\n",
    "    tweet_count;"
   ]
  },
  {
   "cell_type": "code",
   "execution_count": null,
   "metadata": {},
   "outputs": [],
   "source": [
    "import pandas as pd\n",
    "\n",
    "def calculate_rolling_avg_3_days(tweets_df):\n",
    "   \n",
    "\n",
    "       tweets_df = tweets_df.sort_values(by=['user_id', 'tweet_date'])\n",
    "\n",
    "    # Calculate rolling average using rolling() and mean()\n",
    "    tweets_df['rolling_avg_3_days'] = tweets_df.groupby('user_id')['tweet_count'].rolling(window=3, min_periods=1).mean().values\n",
    "\n",
    "    # Round the rolling average to 2 decimal places\n",
    "    tweets_df['rolling_avg_3_days'] = tweets_df['rolling_avg_3_days'].round(2)\n",
    "\n",
    "    return tweets_df[['user_id', 'tweet_date', 'rolling_avg_3_days']]\n",
    "\n",
    "# Example usage:\n",
    "# Assuming 'tweets_df' is your pandas DataFrame\n",
    "result_df = calculate_rolling_avg_3_days(tweets_df)"
   ]
  },
  {
   "cell_type": "code",
   "execution_count": null,
   "metadata": {},
   "outputs": [],
   "source": [
    "def calculate_rolling_avg_3_days(tweets_df):\n",
    " \n",
    "  windowSpec = Window.partitionBy(\"user_id\").orderBy(\"tweet_date\").rowsBetween(-2, 0)\n",
    "  result_df = tweets_df.withColumn(\n",
    "      \"rolling_avg_3_days\", \n",
    "      F.round(F.avg(\"tweet_count\").over(windowSpec), 2)\n",
    "  )\n",
    "  return result_df\n",
    "\n",
    "# Assuming 'tweets_df' is your Spark DataFrame\n",
    "result_df = calculate_rolling_avg_3_days(tweets_df)\n",
    "\n",
    "result_df.show()"
   ]
  },
  {
   "cell_type": "code",
   "execution_count": null,
   "metadata": {},
   "outputs": [],
   "source": [
    "# Write your MySQL query statement below"
   ]
  },
  {
   "cell_type": "code",
   "execution_count": null,
   "metadata": {},
   "outputs": [],
   "source": [
    "\n",
    "SELECT q.*, IFNULL(npv, 0) AS npv\n",
    "FROM\n",
    "    Queries AS q\n",
    "    LEFT JOIN NPV AS n USING (id, year);"
   ]
  },
  {
   "cell_type": "code",
   "execution_count": null,
   "metadata": {},
   "outputs": [],
   "source": [
    "df=pd.merge(queries,npv,right_on=[\"id\",\"year\"],how=\"left\")\n",
    "df_1=df['npv'].fillna(0)\n",
    "df_1.head()"
   ]
  },
  {
   "cell_type": "code",
   "execution_count": null,
   "metadata": {},
   "outputs": [],
   "source": [
    "df_1=queries.join(npv,queries.id==npv.i)\n",
    "df.withColumn(\"npv\", when(col(\"npv\").isNull(), lit(0)).otherwise(col(\"npv\")))"
   ]
  },
  {
   "cell_type": "code",
   "execution_count": null,
   "metadata": {},
   "outputs": [],
   "source": [
    "# -Number-of-Times-a-Driver-Was-a-Passenger"
   ]
  },
  {
   "cell_type": "code",
   "execution_count": null,
   "metadata": {},
   "outputs": [],
   "source": [
    "WITH T AS (SELECT DISTINCT driver_id FROM Rides)\n",
    "SELECT t.driver_id, count(passenger_id) AS cnt\n",
    "FROM\n",
    "    T AS t\n",
    "    LEFT JOIN Rides AS r ON t.driver_id = r.passenger_id\n",
    "GROUP BY 1;"
   ]
  },
  {
   "cell_type": "code",
   "execution_count": null,
   "metadata": {},
   "outputs": [],
   "source": [
    "df_1=rides['drive_id'].unique()\n",
    "df_2=pd.merged(df_1,rides,right_on=[\"driver_id\"],left_on=[\"passenger_id\"],how=\"left\")\n",
    "df.groupby(\"driver_id\")[\"passenger_id\"].count().reset_index()"
   ]
  },
  {
   "cell_type": "code",
   "execution_count": null,
   "metadata": {},
   "outputs": [],
   "source": [
    "df_1=df.select(distinct(\"driver_id\")).show()\n",
    "df_2=df_1.join(rides,df_1.driver_id==rides.passenger_id,how=\"left\")\n",
    "df_2.groupby(\"driver_id\").agg(count(col(\"passenger_id\"))).show()"
   ]
  },
  {
   "cell_type": "code",
   "execution_count": null,
   "metadata": {},
   "outputs": [],
   "source": [
    "# Low-Quality Problems"
   ]
  },
  {
   "cell_type": "code",
   "execution_count": null,
   "metadata": {},
   "outputs": [],
   "source": [
    "SELECT problem_id\n",
    "FROM Problems\n",
    "WHERE likes / (likes + dislikes) < 0.6\n",
    "ORDER BY problem_id;"
   ]
  },
  {
   "cell_type": "code",
   "execution_count": null,
   "metadata": {},
   "outputs": [],
   "source": [
    "df[df['likes']/df['likes']+df['dislikes']<0.6].sort_values(by=['problem_id'])['problem_id']"
   ]
  },
  {
   "cell_type": "code",
   "execution_count": null,
   "metadata": {},
   "outputs": [],
   "source": [
    "df.withColumn(\"count_dislikes\",col(\"likes\")/col(\"dislikes\"))\n",
    "df.filter(col(\"likes\")/col(\"count_dislikes\")).alias(\"count\"))\n",
    "df.filter(col(\"count\")<0.6).sort(asc(\"problem_id\")).select(\"problem_id\")"
   ]
  },
  {
   "cell_type": "code",
   "execution_count": null,
   "metadata": {},
   "outputs": [],
   "source": [
    "# MySQL/calculate-the-influence-of-each-salesperson.sql"
   ]
  },
  {
   "cell_type": "code",
   "execution_count": null,
   "metadata": {},
   "outputs": [],
   "source": [
    "SELECT sp.salesperson_id, sp.name, SUM(IFNULL(price, 0)) AS total\n",
    "FROM Salesperson sp\n",
    "LEFT JOIN Customer c ON sp.salesperson_id = c.salesperson_id\n",
    "LEFT JOIN Sales s ON c.customer_id = s.customer_id\n",
    "GROUP BY sp.salesperson_id, sp.name\n",
    "ORDER BY NULL;"
   ]
  },
  {
   "cell_type": "code",
   "execution_count": null,
   "metadata": {},
   "outputs": [],
   "source": [
    "df=pd.merge(sales_person,customer,right_on=\"customer_id\",left_on=\"customer_id\",how=\"left\")\n",
    "df_1=pd.merge(df,sales,right_on=[\"customer_id\"],right_on=[\"customer_id\"],how=\"left\")\n",
    "df_1['price'].fillna(0,inplace=True)\n",
    "df_1.groupby([\"salesperson_id\",\"name\"])['price'].sum().sort_values(na_position=True).reset_index()\n"
   ]
  },
  {
   "cell_type": "code",
   "execution_count": null,
   "metadata": {},
   "outputs": [],
   "source": [
    "df=sales_person.join(customers,sales_person.customer_id==customers.customer_id,how=\"left\")\n",
    "df1=df.join(sales,df.customer_id==sales.customer_id,how=\"left\")\n",
    "total_sales_df = joined_df.groupBy(\"sp.salesperson_id\", \"sp.name\") \\\n",
    "  .agg(sum(coalesce(col(\"s.price\"), lit(0))).alias(\"total\")) \\\n",
    "  .orderBy(col(\"total\").desc())  # Order by total descending (NULL last)\n",
    "\n",
    "# Show the result\n",
    "total_sales_df.show()"
   ]
  },
  {
   "cell_type": "code",
   "execution_count": null,
   "metadata": {},
   "outputs": [],
   "source": [
    "# Merge Overlapping Events in the Same Hall\n"
   ]
  },
  {
   "cell_type": "code",
   "execution_count": null,
   "metadata": {},
   "outputs": [],
   "source": []
  },
  {
   "cell_type": "code",
   "execution_count": null,
   "metadata": {},
   "outputs": [],
   "source": []
  },
  {
   "cell_type": "code",
   "execution_count": null,
   "metadata": {},
   "outputs": [],
   "source": []
  },
  {
   "cell_type": "code",
   "execution_count": null,
   "metadata": {},
   "outputs": [],
   "source": [
    "# article-views-ii.sql"
   ]
  },
  {
   "cell_type": "code",
   "execution_count": null,
   "metadata": {},
   "outputs": [],
   "source": [
    "SELECT DISTINCT viewer_id AS id \n",
    "FROM   views \n",
    "GROUP  BY viewer_id, \n",
    "          view_date \n",
    "HAVING Count(DISTINCT article_id) > 1 \n",
    "ORDER  BY id"
   ]
  },
  {
   "cell_type": "code",
   "execution_count": null,
   "metadata": {},
   "outputs": [],
   "source": [
    "# Queries Quality and Percentage\n"
   ]
  },
  {
   "cell_type": "code",
   "execution_count": null,
   "metadata": {},
   "outputs": [],
   "source": [
    "SELECT \n",
    "\tquery_name,\n",
    "\tROUND(AVG(rating / position), 2) AS quality,\n",
    "\tROUND(AVG(rating < 3) * 100, 2) AS poor_query_percentage \n",
    "FROM \n",
    "\tQueries\n",
    "GROUP BY \n",
    "\tquery_name;"
   ]
  },
  {
   "cell_type": "code",
   "execution_count": null,
   "metadata": {},
   "outputs": [],
   "source": []
  },
  {
   "cell_type": "code",
   "execution_count": null,
   "metadata": {},
   "outputs": [],
   "source": []
  },
  {
   "cell_type": "code",
   "execution_count": null,
   "metadata": {},
   "outputs": [],
   "source": [
    "# Biggest Single Number"
   ]
  },
  {
   "cell_type": "code",
   "execution_count": null,
   "metadata": {},
   "outputs": [],
   "source": [
    "select max(num) from(select num from number group by 1 having count(num)==1) as t"
   ]
  },
  {
   "cell_type": "code",
   "execution_count": null,
   "metadata": {},
   "outputs": [],
   "source": [
    "df=number.groupby('num').filter(lambda x:x['num'].count()==1).reset_index()\n",
    "df['num'].max()"
   ]
  },
  {
   "cell_type": "code",
   "execution_count": null,
   "metadata": {},
   "outputs": [],
   "source": [
    "df=number.groupby('num').agg(count(col(\"num\")).alias(\"counts\")).filter(col(\"counts\")==1)\n",
    "filtered_df.agg(max(col(\"num\"))).collect()[0][0]f"
   ]
  },
  {
   "cell_type": "code",
   "execution_count": null,
   "metadata": {},
   "outputs": [],
   "source": [
    "# find-products-with-valid-serial-numbers.sql"
   ]
  },
  {
   "cell_type": "code",
   "execution_count": null,
   "metadata": {},
   "outputs": [],
   "source": [
    "# regular expression\n",
    "SELECT product_id, product_name, description\n",
    "FROM products\n",
    "WHERE description REGEXP \"SN[0-9]{4}-[0-9]{4}[^0-9]*$\"\n",
    "ORDER BY 1;"
   ]
  },
  {
   "cell_type": "code",
   "execution_count": null,
   "metadata": {},
   "outputs": [],
   "source": [
    "# Sales Analysis II\n"
   ]
  },
  {
   "cell_type": "code",
   "execution_count": null,
   "metadata": {},
   "outputs": [],
   "source": [
    "SELECT buyer_id\n",
    "FROM\n",
    "    Sales\n",
    "    JOIN Product USING (product_id)\n",
    "GROUP BY 1\n",
    "HAVING SUM(product_name = 'S8') > 0 AND SUM(product_name = 'iPhone') = 0;"
   ]
  },
  {
   "cell_type": "code",
   "execution_count": null,
   "metadata": {},
   "outputs": [],
   "source": []
  },
  {
   "cell_type": "code",
   "execution_count": null,
   "metadata": {},
   "outputs": [],
   "source": []
  },
  {
   "cell_type": "code",
   "execution_count": null,
   "metadata": {},
   "outputs": [],
   "source": [
    "# Sales Analysis III checks"
   ]
  },
  {
   "cell_type": "code",
   "execution_count": null,
   "metadata": {},
   "outputs": [],
   "source": [
    "select distinct s.product_id, p.product_name\n",
    "from sales s join product p \n",
    "on s.product_id=p.product_id\n",
    "where s.sale_date between '2019-01-01' and '2019-03-31'"
   ]
  },
  {
   "cell_type": "code",
   "execution_count": null,
   "metadata": {},
   "outputs": [],
   "source": [
    "    df=pd.merge(sales,products,right_on=['product_id'],left_on=['product_id'],how=\"inner\")\n",
    "    df=df[df['sales_date']>='2019-01-01')&(df['sales_date']<='2019-03-31')]\n",
    "    df[['product_id','product_name']].drop_duplicates\n"
   ]
  },
  {
   "cell_type": "code",
   "execution_count": null,
   "metadata": {},
   "outputs": [],
   "source": [
    "df=sales.join(sales.product_id==product.product_id,how=\"inner\")\n",
    "df.filter(col('sales_date')>='2019-01-01')&(col('sales_date')<='2019-03-31').select('product_d',\"product_name\").distinct()"
   ]
  },
  {
   "cell_type": "code",
   "execution_count": null,
   "metadata": {},
   "outputs": [],
   "source": [
    "# Sales by Day of the Week"
   ]
  },
  {
   "cell_type": "code",
   "execution_count": null,
   "metadata": {},
   "outputs": [],
   "source": []
  },
  {
   "cell_type": "code",
   "execution_count": null,
   "metadata": {},
   "outputs": [],
   "source": []
  },
  {
   "cell_type": "code",
   "execution_count": null,
   "metadata": {},
   "outputs": [],
   "source": []
  },
  {
   "cell_type": "code",
   "execution_count": null,
   "metadata": {},
   "outputs": [],
   "source": [
    "# Fix Product Name Format"
   ]
  },
  {
   "cell_type": "code",
   "execution_count": null,
   "metadata": {},
   "outputs": [],
   "source": [
    "select product_name,sales_date,count(1) as total_count from(select lower(trim(product_name) as product,date_format(sales_date,'%y-%m') as date from sales) a group by 1,2 order by 1,2)"
   ]
  },
  {
   "cell_type": "code",
   "execution_count": null,
   "metadata": {},
   "outputs": [],
   "source": [
    "df=df[(df['product_name'].str.lower())&(df['sales_date'].dt.strftime('%Y-%M'))]\n",
    "df.groupby(['product_name','sales_date']).size().reset()\n",
    "df.sort_values(by=['product_name','sales_date'])"
   ]
  },
  {
   "cell_type": "code",
   "execution_count": null,
   "metadata": {},
   "outputs": [],
   "source": [
    "df.withColumn(\"date_part\",date_format(to_date(\"timestamp_column\"), \"yy-MM\"))\n",
    "df=df.filter(lower(col('product_name')))\n",
    "df_1=df.groupby('product_name','date_part').agg(count(col(\"*\")).alias(\"total_count\")).show()\n",
    "df_1.orderBy(['product_name','date_part'])"
   ]
  },
  {
   "cell_type": "code",
   "execution_count": null,
   "metadata": {},
   "outputs": [],
   "source": [
    "# Order and Deliver/# 1484. Group Sold Products By The Date.sql"
   ]
  },
  {
   "cell_type": "code",
   "execution_count": null,
   "metadata": {},
   "outputs": [],
   "source": [
    "SELECT DISTINCT sell_date, COUNT(DISTINCT product) AS num_sold, \n",
    "    GROUP_CONCAT(DISTINCT product ORDER BY product ASC SEPARATOR ',') AS products # aggregate the product names in one cell\n",
    "FROM Activities \n",
    "GROUP BY sell_date\n",
    ";"
   ]
  },
  {
   "cell_type": "code",
   "execution_count": null,
   "metadata": {},
   "outputs": [],
   "source": [
    "result_df = df.groupby('sell_date').agg(\n",
    "    num_sold=('product', 'nunique'),\n",
    "    products=('product', lambda x: ','.join(sorted(x.unique())))\n",
    ")\n"
   ]
  },
  {
   "cell_type": "code",
   "execution_count": null,
   "metadata": {},
   "outputs": [],
   "source": [
    "result_df = df.groupBy(\"sell_date\") \\\n",
    "    .agg(\n",
    "        countDistinct(\"product\").alias(\"num_sold\"),\n",
    "        collect_set(\"product\").alias(\"product_set\")\n",
    "    ) \\\n",
    "    .withColumn(\"products\", concat_ws(\",\", sort_array(\"product_set\")))"
   ]
  },
  {
   "cell_type": "code",
   "execution_count": null,
   "metadata": {},
   "outputs": [],
   "source": [
    "# MySQL/users-with-two-purchases-within-seven-days.sql"
   ]
  },
  {
   "cell_type": "code",
   "execution_count": null,
   "metadata": {},
   "outputs": [],
   "source": [
    "WITH purchase_cte AS\n",
    "(\n",
    "    SELECT user_id,\n",
    "           purchase_date,\n",
    "           LAG(purchase_date) OVER (PARTITION BY user_id\n",
    "                                    ORDER BY purchase_date) AS prev_purchase_date\n",
    "    FROM purchases\n",
    ")\n",
    "\n",
    "SELECT DISTINCT user_id\n",
    "FROM  purchase_cte\n",
    "WHERE DATEDIFF(purchase_date, prev_purchase_date) <= 7;"
   ]
  },
  {
   "cell_type": "code",
   "execution_count": null,
   "metadata": {},
   "outputs": [],
   "source": [
    "def get_users_with_purchases_within_7_days(purchases_df):\n",
    "  purchases_df['prev_purchase_date'] = purchases_df.groupby('user_id')['purchase_date'].shift(1)\n",
    "  purchases_df['time_diff'] = (purchases_df['purchase_date'] - purchases_df['prev_purchase_date']).dt.days\n",
    "  filtered_df = purchases_df[purchases_df['time_diff'] <= 7]\n",
    "  return filtered_df['user_id'].unique()\n",
    "\n",
    "user_ids = get_users_with_purchases_within_7_days(purchases)\n",
    "\n",
    "print(user_ids)"
   ]
  },
  {
   "cell_type": "code",
   "execution_count": null,
   "metadata": {},
   "outputs": [],
   "source": [
    "from pyspark.sql.window import Window\n",
    "\n",
    "def get_users_with_purchases_within_7_days(purchases_df):\n",
    "\n",
    "  windowSpec = Window.partitionBy(\"user_id\").orderBy(\"purchase_date\")\n",
    "  purchases_df = purchases_df.withColumn(\"prev_purchase_date\", F.lag(\"purchase_date\").over(windowSpec))\n",
    "  purchases_df = purchases_df.withColumn(\"time_diff\", F.datediff(F.col(\"purchase_date\"), F.col(\"prev_purchase_date\")))\n",
    "  filtered_df = purchases_df.filter(F.col(\"time_diff\") <= 7)\n",
    "  return filtered_df.select(\"user_id\").distinct().rdd.flatMap(lambda x: x).collect()\n",
    "\n",
    "# Assuming 'purchases' is your Spark DataFrame\n",
    "user_ids = get_users_with_purchases_within_7_days(purchases)\n",
    "\n",
    "print(user_ids)"
   ]
  },
  {
   "cell_type": "code",
   "execution_count": null,
   "metadata": {},
   "outputs": [],
   "source": [
    "# Sales Analysis I.sql\n"
   ]
  },
  {
   "cell_type": "code",
   "execution_count": null,
   "metadata": {},
   "outputs": [],
   "source": [
    "SELECT \n",
    "    seller_id, \n",
    "    SUM(sales_price) AS total_sales_price, \n",
    "    DENSE_RANK() OVER (ORDER BY SUM(sales_price) DESC) AS rank\n",
    "FROM \n",
    "    sales\n",
    "GROUP BY \n",
    "    seller_id\n",
    "HAVING \n",
    "    rank = 1;"
   ]
  },
  {
   "cell_type": "code",
   "execution_count": null,
   "metadata": {},
   "outputs": [],
   "source": [
    "df=sales.copy()\n",
    "df_1=df.groupby('seller_id')['sales_price'].sum().reset_index()\n",
    "df_1['rank']=df['total_sales_price'].rank(method=\"dense\",ascending=False)\n",
    "df_1[df_1['rank']==1]"
   ]
  },
  {
   "cell_type": "code",
   "execution_count": null,
   "metadata": {},
   "outputs": [],
   "source": []
  },
  {
   "cell_type": "code",
   "execution_count": null,
   "metadata": {},
   "outputs": [],
   "source": [
    "# Products With Three or More Orders in Two Consecutive Years\n"
   ]
  },
  {
   "cell_type": "code",
   "execution_count": null,
   "metadata": {},
   "outputs": [],
   "source": []
  },
  {
   "cell_type": "code",
   "execution_count": null,
   "metadata": {},
   "outputs": [],
   "source": []
  },
  {
   "cell_type": "code",
   "execution_count": null,
   "metadata": {},
   "outputs": [],
   "source": []
  },
  {
   "cell_type": "code",
   "execution_count": null,
   "metadata": {},
   "outputs": [],
   "source": [
    "# Find Followers Count"
   ]
  },
  {
   "cell_type": "code",
   "execution_count": null,
   "metadata": {},
   "outputs": [],
   "source": [
    "SELECT user_id, \n",
    "       Count(follower_id) AS followers_count \n",
    "FROM   followers \n",
    "GROUP  BY user_id \n",
    "ORDER  BY user_id; "
   ]
  },
  {
   "cell_type": "code",
   "execution_count": null,
   "metadata": {},
   "outputs": [],
   "source": [
    "followers.groupby('user_id').agg(count(\"follower_id\")).sort(asc(\"user_id\")).show()"
   ]
  },
  {
   "cell_type": "code",
   "execution_count": null,
   "metadata": {},
   "outputs": [],
   "source": [
    "followers.groupby('user_id')['follower_id'].count().sort_values().reset_index()"
   ]
  },
  {
   "cell_type": "code",
   "execution_count": null,
   "metadata": {},
   "outputs": [],
   "source": [
    "#  Product Sales Analysis IV\n"
   ]
  },
  {
   "cell_type": "code",
   "execution_count": null,
   "metadata": {},
   "outputs": [],
   "source": [
    "WITH spending_cte AS (\n",
    "    SELECT s.user_id,\n",
    "           s.product_id,\n",
    "           RANK() OVER(PARTITION BY s.user_id ORDER BY SUM(s.quantity * p.price) DESC) AS rnk\n",
    "    FROM Sales s INNER JOIN Product p ON s.product_id = p.product_id\n",
    "    GROUP BY s.user_id, s.product_id\n",
    "    ORDER BY NULL\n",
    ")\n",
    "\n",
    "SELECT user_id, product_id\n",
    "FROM spending_cte\n",
    "WHERE rnk = 1;"
   ]
  },
  {
   "cell_type": "code",
   "execution_count": null,
   "metadata": {},
   "outputs": [],
   "source": []
  },
  {
   "cell_type": "code",
   "execution_count": null,
   "metadata": {},
   "outputs": [],
   "source": []
  },
  {
   "cell_type": "code",
   "execution_count": null,
   "metadata": {},
   "outputs": [],
   "source": [
    "# Concatenate the Name and the Profession"
   ]
  },
  {
   "cell_type": "code",
   "execution_count": null,
   "metadata": {},
   "outputs": [],
   "source": [
    "SELECT person_id, CONCAT(name, \"(\", substring(profession, 1, 1), \")\") AS name\n",
    "FROM Person\n",
    "ORDER BY person_id DESC;"
   ]
  },
  {
   "cell_type": "code",
   "execution_count": null,
   "metadata": {},
   "outputs": [],
   "source": [
    "df['name'] = df['name'] + ' (' + df['profession'].str[0] + ')' \n",
    "\n",
    "# Sort by 'person_id' in descending order\n",
    "df = df.sort_values(by='person_id', ascending=False)\n",
    "\n",
    "# Select the desired columns\n",
    "result_df = df[['person_id', 'name']]\n"
   ]
  },
  {
   "cell_type": "code",
   "execution_count": null,
   "metadata": {},
   "outputs": [],
   "source": [
    "df.withColumn(\"professions\",substring(profession,1,1))\n",
    "cdf.select(concat(col(\"name\"),lit(\"(\"),col(\"profession\"),lit(\")\"))).show()"
   ]
  },
  {
   "cell_type": "code",
   "execution_count": null,
   "metadata": {},
   "outputs": [],
   "source": [
    "#  Books with NULL Ratings\n"
   ]
  },
  {
   "cell_type": "code",
   "execution_count": null,
   "metadata": {},
   "outputs": [],
   "source": [
    "SELECT book_id,\n",
    "       title,\n",
    "       author,\n",
    "       published_year\n",
    "FROM books\n",
    "WHERE rating is NULL\n",
    "ORDER BY 1 ASC;"
   ]
  },
  {
   "cell_type": "code",
   "execution_count": null,
   "metadata": {},
   "outputs": [],
   "source": [
    "books=books[books['rating'].isnull()]\n",
    "books.sort_values(by=['book_id'],ascending=True)[['book_id','title','author','published_year']]"
   ]
  },
  {
   "cell_type": "code",
   "execution_count": null,
   "metadata": {},
   "outputs": [],
   "source": [
    "books=books.filter(col('rating').isNull())\n",
    "books.sort(asc(\"book_id\")).select(\"book_id\",\"title\",\"author\",\"published_year\")"
   ]
  },
  {
   "cell_type": "code",
   "execution_count": null,
   "metadata": {},
   "outputs": [],
   "source": [
    "# Find Valid Emails"
   ]
  },
  {
   "cell_type": "code",
   "execution_count": null,
   "metadata": {},
   "outputs": [],
   "source": [
    "SELECT user_id, email \n",
    "FROM users\n",
    "WHERE email REGEXP '^[a-zA-Z0-9_]+@[a-zA-Z]+\\.com$'\n",
    "ORDER BY 1;"
   ]
  },
  {
   "cell_type": "code",
   "execution_count": null,
   "metadata": {},
   "outputs": [],
   "source": []
  },
  {
   "cell_type": "code",
   "execution_count": null,
   "metadata": {},
   "outputs": [],
   "source": []
  },
  {
   "cell_type": "code",
   "execution_count": null,
   "metadata": {},
   "outputs": [],
   "source": [
    "#  First Letter Capitalization II\n"
   ]
  },
  {
   "cell_type": "code",
   "execution_count": null,
   "metadata": {},
   "outputs": [],
   "source": [
    "select Initcap(title)\n",
    "from"
   ]
  },
  {
   "cell_type": "code",
   "execution_count": null,
   "metadata": {},
   "outputs": [],
   "source": [
    "df[\"name\"]=df[\"title\"].str.title()\n",
    "df[\"name\"]"
   ]
  },
  {
   "cell_type": "code",
   "execution_count": null,
   "metadata": {},
   "outputs": [],
   "source": [
    "df.withColumn(\"name\",Initcap(\"title\"))\n",
    "df.show()"
   ]
  },
  {
   "cell_type": "code",
   "execution_count": null,
   "metadata": {},
   "outputs": [],
   "source": [
    "# Team Dominance by Pass Success\n"
   ]
  },
  {
   "cell_type": "code",
   "execution_count": null,
   "metadata": {},
   "outputs": [],
   "source": []
  },
  {
   "cell_type": "code",
   "execution_count": null,
   "metadata": {},
   "outputs": [],
   "source": []
  },
  {
   "cell_type": "code",
   "execution_count": null,
   "metadata": {},
   "outputs": [],
   "source": []
  },
  {
   "cell_type": "code",
   "execution_count": null,
   "metadata": {},
   "outputs": [],
   "source": [
    "# Generate the Invoice\n"
   ]
  },
  {
   "cell_type": "code",
   "execution_count": null,
   "metadata": {},
   "outputs": [],
   "source": []
  },
  {
   "cell_type": "code",
   "execution_count": null,
   "metadata": {},
   "outputs": [],
   "source": []
  },
  {
   "cell_type": "code",
   "execution_count": null,
   "metadata": {},
   "outputs": [],
   "source": []
  },
  {
   "cell_type": "code",
   "execution_count": null,
   "metadata": {},
   "outputs": [],
   "source": [
    "#  All the Matches of the League\n"
   ]
  },
  {
   "cell_type": "code",
   "execution_count": null,
   "metadata": {},
   "outputs": [],
   "source": [
    "SELECT t1.team_name AS home_team, t2.team_name AS away_team\n",
    "FROM\n",
    "    Teams AS t1\n",
    "    CROSS JOIN Teams AS t2\n",
    "WHERE t1.team_name != t2.team_name;"
   ]
  },
  {
   "cell_type": "code",
   "execution_count": null,
   "metadata": {},
   "outputs": [],
   "source": [
    "cross_joined_df = teams_df.merge(teams_df, how='cross')\n",
    "cross_joined_df.columns = ['home_team', 'away_team']\n",
    "result_df = cross_joined_df[cross_joined_df['home_team'] != cross_joined_df['away_team']]\n",
    "print(result_df)"
   ]
  },
  {
   "cell_type": "code",
   "execution_count": null,
   "metadata": {},
   "outputs": [],
   "source": [
    "cross_joined_df = teams_df.crossJoin(teams_df)\n",
    "\n",
    "cross_joined_df = cross_joined_df.withColumnRenamed(\"team_name\", \"home_team\") \\\n",
    "                               .withColumnRenamed(\"team_name_right\", \"away_team\")\n",
    "result_df = cross_joined_df.filter(col(\"home_team\") != col(\"away_team\"))\n",
    "\n",
    "result_df.show()"
   ]
  },
  {
   "cell_type": "code",
   "execution_count": null,
   "metadata": {},
   "outputs": [],
   "source": [
    "#  Year on Year Growth Rate\n"
   ]
  },
  {
   "cell_type": "code",
   "execution_count": null,
   "metadata": {},
   "outputs": [],
   "source": [
    "with t as(\n",
    "\n",
    "    select product_id,year(transaction_date),sum(spend) as total_spend\n",
    "    from user_transaction\n",
    "    group by 1,2\n",
    "),t as(select t1.year,t1.product_id,t1.spend,t2.spend from t t1 join t t2 on t1.year=t2.year+1)\n",
    "    \n",
    "    select ((t1.spend-t2.spend)/t2.spend*100,2)\n",
    "    from s\n",
    "    order by1"
   ]
  },
  {
   "cell_type": "code",
   "execution_count": null,
   "metadata": {},
   "outputs": [],
   "source": []
  },
  {
   "cell_type": "code",
   "execution_count": null,
   "metadata": {},
   "outputs": [],
   "source": []
  },
  {
   "cell_type": "code",
   "execution_count": null,
   "metadata": {},
   "outputs": [],
   "source": [
    "# Find Cities in Each State\n"
   ]
  },
  {
   "cell_type": "code",
   "execution_count": null,
   "metadata": {},
   "outputs": [],
   "source": [
    "SELECT\n",
    "    state,\n",
    "    GROUP_CONCAT(city ORDER BY city SEPARATOR ', ') cities\n",
    "FROM cities\n",
    "GROUP BY 1\n",
    "ORDER BY 1;"
   ]
  },
  {
   "cell_type": "code",
   "execution_count": null,
   "metadata": {},
   "outputs": [],
   "source": [
    " result_df = cities_df \\\n",
    "      .groupBy(\"state\") \\\n",
    "      .agg(collect_list(\"city\").alias(\"city_list\")) \\\n",
    "      .withColumn(\"cities\", concat_ws(\", \", sort_array(col(\"city_list\")))) \\\n",
    "      .drop(\"city_list\") \\\n",
    "      .orderBy(\"state\")\n",
    "\n",
    "result_df"
   ]
  },
  {
   "cell_type": "code",
   "execution_count": null,
   "metadata": {},
   "outputs": [],
   "source": [
    "def find_cities(cities: pd.DataFrame) -> pd.DataFrame:\n",
    "    result = (\n",
    "        cities.groupby(\"state\")[\"city\"]\n",
    "        .apply(lambda x: \", \".join(sorted(x)))\n",
    "        .reset_index()\n",
    "    )\n",
    "    result.columns = [\"state\", \"cities\"]\n",
    "    return result"
   ]
  },
  {
   "cell_type": "code",
   "execution_count": null,
   "metadata": {},
   "outputs": [],
   "source": [
    "# Bitwise User Permissions Analysis\n"
   ]
  },
  {
   "cell_type": "code",
   "execution_count": null,
   "metadata": {},
   "outputs": [],
   "source": [
    "SELECT\n",
    "    BIT_AND(permissions) AS common_perms,\n",
    "    BIT_OR(permissions) AS any_perms\n",
    "FROM user_permissions;"
   ]
  },
  {
   "cell_type": "code",
   "execution_count": null,
   "metadata": {},
   "outputs": [],
   "source": []
  },
  {
   "cell_type": "code",
   "execution_count": null,
   "metadata": {},
   "outputs": [],
   "source": []
  },
  {
   "cell_type": "code",
   "execution_count": null,
   "metadata": {},
   "outputs": [],
   "source": [
    "# Top Percentile Fraud\n"
   ]
  },
  {
   "cell_type": "code",
   "execution_count": null,
   "metadata": {},
   "outputs": [],
   "source": []
  },
  {
   "cell_type": "code",
   "execution_count": null,
   "metadata": {},
   "outputs": [],
   "source": []
  },
  {
   "cell_type": "code",
   "execution_count": null,
   "metadata": {},
   "outputs": [],
   "source": []
  },
  {
   "cell_type": "code",
   "execution_count": null,
   "metadata": {},
   "outputs": [],
   "source": [
    "# Classifying Triangles by Lengths\n"
   ]
  },
  {
   "cell_type": "code",
   "execution_count": null,
   "metadata": {},
   "outputs": [],
   "source": [
    "SELECT\n",
    "    CASE\n",
    "        WHEN A + B <= C\n",
    "        OR A + C <= B\n",
    "        OR B + C <= A THEN 'Not A Triangle'\n",
    "        WHEN A = B\n",
    "        AND B = c THEN 'Equilateral'\n",
    "        WHEN (A = B) + (B = C) + (A = C) = 1 THEN 'Isosceles'\n",
    "        ELSE 'Scalene'\n",
    "    END AS triangle_type\n",
    "FROM Triangles;"
   ]
  },
  {
   "cell_type": "code",
   "execution_count": null,
   "metadata": {},
   "outputs": [],
   "source": [
    "def is_triangle(a,b,c):\n",
    "    if a+b<=c or a+c<=b:\n",
    "        return 'not a triangle'\n",
    "    elif a==b and b==c:\n",
    "        return \"equilaterla\"\n",
    "    elif a==b+b==c+a==c==1:\n",
    "        return 'isosceles'\n",
    "    else:\n",
    "        return 'scalene'\n",
    "\n",
    "df"
   ]
  },
  {
   "cell_type": "code",
   "execution_count": null,
   "metadata": {},
   "outputs": [],
   "source": [
    "def classify_triangle(a, b, c):\n",
    "    if a + b <= c or a + c <= b or b + c <= a:\n",
    "        return \"Not A Triangle\"\n",
    "    elif a == b and b == c:\n",
    "        return \"Equilateral\"\n",
    "    elif (a == b) + (b == c) + (a == c) == 1:  # Check for exactly one pair of equal sides\n",
    "        return \"Isosceles\"\n",
    "    else:\n",
    "        return \"Scalene\"\n",
    "\n",
    "# Apply the classification logic using a UDF\n",
    "classify_udf = udf(classify_triangle, StringType())\n",
    "\n",
    "# Calculate and display the triangle types\n",
    "result_df = df.withColumn(\"triangle_type\", classify_udf(col(\"A\"), col(\"B\"), col(\"C\")))\n",
    "result_df.show()\n"
   ]
  },
  {
   "cell_type": "code",
   "execution_count": null,
   "metadata": {},
   "outputs": [],
   "source": [
    "# Number of Unique Subjects Taught by Each Teacher\n"
   ]
  },
  {
   "cell_type": "code",
   "execution_count": null,
   "metadata": {},
   "outputs": [],
   "source": [
    "select teacher_id,count(*)\n",
    "from teacher\n",
    "group by 1;"
   ]
  },
  {
   "cell_type": "code",
   "execution_count": null,
   "metadata": {},
   "outputs": [],
   "source": [
    "teacher.groupby('teacher_id').size().reset_index()"
   ]
  },
  {
   "cell_type": "code",
   "execution_count": null,
   "metadata": {},
   "outputs": [],
   "source": [
    "teacher.groupby(\"teacher_id\").agg(count(col(\"*\"))).show()"
   ]
  },
  {
   "cell_type": "code",
   "execution_count": null,
   "metadata": {},
   "outputs": [],
   "source": [
    "# Flight Occupancy and Waitlist Analysis\n"
   ]
  },
  {
   "cell_type": "code",
   "execution_count": null,
   "metadata": {},
   "outputs": [],
   "source": [
    "SELECT\n",
    "    flight_id,\n",
    "    LEAST(COUNT(passenger_id), capacity) AS booked_cnt,\n",
    "    GREATEST(COUNT(passenger_id) - capacity, 0) AS waitlist_cnt\n",
    "FROM\n",
    "    Flights\n",
    "    LEFT JOIN Passengers USING (flight_id)\n",
    "GROUP BY 1\n",
    "ORDER BY 1;"
   ]
  },
  {
   "cell_type": "code",
   "execution_count": null,
   "metadata": {},
   "outputs": [],
   "source": [
    "import pandas as pd\n",
    "\n",
    "def flight_occupancy(flights_df, passengers_df):\n",
    "\n",
    "  # Perform a left join to combine flights and passengers data\n",
    "  merged_df = flights_df.merge(passengers_df, on='flight_id', how='left')\n",
    "\n",
    "  # Group by flight_id and count passengers\n",
    "  grouped_df = merged_df.groupby('flight_id').agg(\n",
    "      passenger_count=('passenger_id', 'count')\n",
    "  ).reset_index()\n",
    "\n",
    "  # Merge back with flights_df to get capacity\n",
    "  result_df = grouped_df.merge(flights_df[['flight_id', 'capacity']], on='flight_id', how='left')\n",
    "\n",
    "  # Calculate booked_cnt and waitlist_cnt\n",
    "  result_df['booked_cnt'] = result_df.apply(\n",
    "      lambda row: min(row['passenger_count'], row['capacity']), axis=1\n",
    "  )\n",
    "  result_df['waitlist_cnt'] = result_df.apply(\n",
    "      lambda row: max(row['passenger_count'] - row['capacity'], 0), axis=1\n",
    "  )\n",
    "\n",
    "  # Sort by flight_id\n",
    "  result_df = result_df.sort_values('flight_id')\n",
    "\n",
    "  return result_df[['flight_id', 'booked_cnt', 'waitlist_cnt']]\n",
    "\n",
    "# Example Usage:\n",
    "flights_df = pd.DataFrame({\n",
    "    'flight_id': [1, 2, 3],\n",
    "    'capacity': [150, 100, 200]\n",
    "})\n",
    "\n",
    "passengers_df = pd.DataFrame({\n",
    "    'flight_id': [1, 1, 1, 1, 2, 2, 2, 2, 2, 3, 3, 3, 3, 3, 3, 3, 3, 3, 3, 3],\n",
    "    'passenger_id': range(1, 21) \n",
    "})\n",
    "\n",
    "result_df = flight_occupancy(flights_df, passengers_df)\n",
    "print(result_df)"
   ]
  },
  {
   "cell_type": "code",
   "execution_count": null,
   "metadata": {},
   "outputs": [],
   "source": []
  }
 ],
 "metadata": {
  "kernelspec": {
   "display_name": "Python 3",
   "language": "python",
   "name": "python3"
  },
  "language_info": {
   "codemirror_mode": {
    "name": "ipython",
    "version": 3
   },
   "file_extension": ".py",
   "mimetype": "text/x-python",
   "name": "python",
   "nbconvert_exporter": "python",
   "pygments_lexer": "ipython3",
   "version": "3.12.10"
  }
 },
 "nbformat": 4,
 "nbformat_minor": 2
}
